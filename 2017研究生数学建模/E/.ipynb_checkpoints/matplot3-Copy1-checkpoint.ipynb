{
 "cells": [
  {
   "cell_type": "code",
   "execution_count": 301,
   "metadata": {
    "collapsed": true,
    "deletable": true,
    "editable": true
   },
   "outputs": [],
   "source": [
    "%matplotlib inline\n",
    "from operator import itemgetter\n",
    "import numpy as np\n",
    "import matplotlib.pyplot as plt\n",
    "import pandas as pd\n",
    "df=lambda x: pd.DataFrame(x)"
   ]
  },
  {
   "cell_type": "code",
   "execution_count": 302,
   "metadata": {
    "collapsed": true,
    "deletable": true,
    "editable": true
   },
   "outputs": [],
   "source": [
    "oo=np.array([np.random.random_sample() for x in range(64)])"
   ]
  },
  {
   "cell_type": "code",
   "execution_count": 303,
   "metadata": {
    "collapsed": true,
    "deletable": true,
    "editable": true
   },
   "outputs": [],
   "source": [
    "oo=oo.reshape([8,8])"
   ]
  },
  {
   "cell_type": "code",
   "execution_count": 304,
   "metadata": {
    "collapsed": false,
    "deletable": true,
    "editable": true
   },
   "outputs": [
    {
     "data": {
      "text/html": [
       "<div>\n",
       "<table border=\"1\" class=\"dataframe\">\n",
       "  <thead>\n",
       "    <tr style=\"text-align: right;\">\n",
       "      <th></th>\n",
       "      <th>0</th>\n",
       "      <th>1</th>\n",
       "      <th>2</th>\n",
       "      <th>3</th>\n",
       "      <th>4</th>\n",
       "      <th>5</th>\n",
       "      <th>6</th>\n",
       "      <th>7</th>\n",
       "    </tr>\n",
       "  </thead>\n",
       "  <tbody>\n",
       "    <tr>\n",
       "      <th>0</th>\n",
       "      <td>0.333688</td>\n",
       "      <td>0.303185</td>\n",
       "      <td>0.632303</td>\n",
       "      <td>0.766255</td>\n",
       "      <td>0.930690</td>\n",
       "      <td>0.523308</td>\n",
       "      <td>0.116079</td>\n",
       "      <td>0.246860</td>\n",
       "    </tr>\n",
       "    <tr>\n",
       "      <th>1</th>\n",
       "      <td>0.499945</td>\n",
       "      <td>0.649786</td>\n",
       "      <td>0.852603</td>\n",
       "      <td>0.270927</td>\n",
       "      <td>0.895807</td>\n",
       "      <td>0.242219</td>\n",
       "      <td>0.501138</td>\n",
       "      <td>0.674641</td>\n",
       "    </tr>\n",
       "    <tr>\n",
       "      <th>2</th>\n",
       "      <td>0.964338</td>\n",
       "      <td>0.471195</td>\n",
       "      <td>0.146623</td>\n",
       "      <td>0.233044</td>\n",
       "      <td>0.563614</td>\n",
       "      <td>0.958317</td>\n",
       "      <td>0.345976</td>\n",
       "      <td>0.108322</td>\n",
       "    </tr>\n",
       "    <tr>\n",
       "      <th>3</th>\n",
       "      <td>0.601745</td>\n",
       "      <td>0.900898</td>\n",
       "      <td>0.191018</td>\n",
       "      <td>0.161534</td>\n",
       "      <td>0.454600</td>\n",
       "      <td>0.288483</td>\n",
       "      <td>0.641229</td>\n",
       "      <td>0.204434</td>\n",
       "    </tr>\n",
       "    <tr>\n",
       "      <th>4</th>\n",
       "      <td>0.559056</td>\n",
       "      <td>0.231375</td>\n",
       "      <td>0.520509</td>\n",
       "      <td>0.278732</td>\n",
       "      <td>0.544478</td>\n",
       "      <td>0.167564</td>\n",
       "      <td>0.792946</td>\n",
       "      <td>0.368129</td>\n",
       "    </tr>\n",
       "    <tr>\n",
       "      <th>5</th>\n",
       "      <td>0.308039</td>\n",
       "      <td>0.210295</td>\n",
       "      <td>0.468704</td>\n",
       "      <td>0.104580</td>\n",
       "      <td>0.620727</td>\n",
       "      <td>0.390719</td>\n",
       "      <td>0.094995</td>\n",
       "      <td>0.738268</td>\n",
       "    </tr>\n",
       "    <tr>\n",
       "      <th>6</th>\n",
       "      <td>0.522308</td>\n",
       "      <td>0.472861</td>\n",
       "      <td>0.191244</td>\n",
       "      <td>0.798283</td>\n",
       "      <td>0.297259</td>\n",
       "      <td>0.042067</td>\n",
       "      <td>0.996556</td>\n",
       "      <td>0.140357</td>\n",
       "    </tr>\n",
       "    <tr>\n",
       "      <th>7</th>\n",
       "      <td>0.500007</td>\n",
       "      <td>0.662661</td>\n",
       "      <td>0.685810</td>\n",
       "      <td>0.181593</td>\n",
       "      <td>0.468154</td>\n",
       "      <td>0.248117</td>\n",
       "      <td>0.122469</td>\n",
       "      <td>0.828171</td>\n",
       "    </tr>\n",
       "  </tbody>\n",
       "</table>\n",
       "</div>"
      ],
      "text/plain": [
       "          0         1         2         3         4         5         6  \\\n",
       "0  0.333688  0.303185  0.632303  0.766255  0.930690  0.523308  0.116079   \n",
       "1  0.499945  0.649786  0.852603  0.270927  0.895807  0.242219  0.501138   \n",
       "2  0.964338  0.471195  0.146623  0.233044  0.563614  0.958317  0.345976   \n",
       "3  0.601745  0.900898  0.191018  0.161534  0.454600  0.288483  0.641229   \n",
       "4  0.559056  0.231375  0.520509  0.278732  0.544478  0.167564  0.792946   \n",
       "5  0.308039  0.210295  0.468704  0.104580  0.620727  0.390719  0.094995   \n",
       "6  0.522308  0.472861  0.191244  0.798283  0.297259  0.042067  0.996556   \n",
       "7  0.500007  0.662661  0.685810  0.181593  0.468154  0.248117  0.122469   \n",
       "\n",
       "          7  \n",
       "0  0.246860  \n",
       "1  0.674641  \n",
       "2  0.108322  \n",
       "3  0.204434  \n",
       "4  0.368129  \n",
       "5  0.738268  \n",
       "6  0.140357  \n",
       "7  0.828171  "
      ]
     },
     "execution_count": 304,
     "metadata": {},
     "output_type": "execute_result"
    }
   ],
   "source": [
    "df(oo)"
   ]
  },
  {
   "cell_type": "code",
   "execution_count": 305,
   "metadata": {
    "collapsed": false,
    "deletable": true,
    "editable": true
   },
   "outputs": [
    {
     "data": {
      "text/plain": [
       "<matplotlib.image.AxesImage at 0x9d730f0>"
      ]
     },
     "execution_count": 305,
     "metadata": {},
     "output_type": "execute_result"
    },
    {
     "data": {
      "image/png": "[encoded data removed]",
      "text/plain": [
       "<matplotlib.figure.Figure at 0x9cfba58>"
      ]
     },
     "metadata": {},
     "output_type": "display_data"
    }
   ],
   "source": [
    "plt.imshow(oo)"
   ]
  },
  {
   "cell_type": "code",
   "execution_count": 306,
   "metadata": {
    "collapsed": true,
    "deletable": true,
    "editable": true
   },
   "outputs": [],
   "source": [
    "import pandas as pd"
   ]
  },
  {
   "cell_type": "code",
   "execution_count": 307,
   "metadata": {
    "collapsed": true,
    "deletable": true,
    "editable": true
   },
   "outputs": [],
   "source": [
    "rr=pd.read_excel('data/e-loc.xls')"
   ]
  },
  {
   "cell_type": "code",
   "execution_count": 308,
   "metadata": {
    "collapsed": true,
    "deletable": true,
    "editable": true
   },
   "outputs": [],
   "source": [
    "#距离函数\n",
    "import math\n",
    "#a:(x,y)\n",
    "def distance(a,b):\n",
    "    return math.sqrt((a[0]-b[0])**2+(a[1]-b[1])**2)"
   ]
  },
  {
   "cell_type": "code",
   "execution_count": 309,
   "metadata": {
    "collapsed": true,
    "deletable": true,
    "editable": true
   },
   "outputs": [],
   "source": [
    "#-全局变量\n",
    "node=pd.read_csv('data/node.CSV',header=None)\n",
    "node={name:(x,y) for i,(name,x,y) in node.iterrows()}"
   ]
  },
  {
   "cell_type": "code",
   "execution_count": 310,
   "metadata": {
    "collapsed": false,
    "deletable": true,
    "editable": true
   },
   "outputs": [
    {
     "data": {
      "text/plain": [
       "(7, 105)"
      ]
     },
     "execution_count": 310,
     "metadata": {},
     "output_type": "execute_result"
    }
   ],
   "source": [
    "#表示坐标，单位km\n",
    "node['F16']"
   ]
  },
  {
   "cell_type": "code",
   "execution_count": 311,
   "metadata": {
    "collapsed": true,
    "deletable": true,
    "editable": true
   },
   "outputs": [],
   "source": [
    "#-全局变量\n",
    "edge=pd.read_csv('data/bian.CSV',header=None)\n",
    "edge=[(f,t) for i,(f,t) in edge.iterrows()]"
   ]
  },
  {
   "cell_type": "code",
   "execution_count": 312,
   "metadata": {
    "collapsed": false,
    "deletable": true,
    "editable": true
   },
   "outputs": [
    {
     "data": {
      "text/plain": [
       "('F14', 'J27')"
      ]
     },
     "execution_count": 312,
     "metadata": {},
     "output_type": "execute_result"
    }
   ],
   "source": [
    "#表示边对\n",
    "edge[2]"
   ]
  },
  {
   "cell_type": "code",
   "execution_count": 313,
   "metadata": {
    "collapsed": true,
    "deletable": true,
    "editable": true
   },
   "outputs": [],
   "source": [
    "#主干道-全局变量\n",
    "edge_zhu=pd.read_csv('data/bian-zhu.CSV',header=None)\n",
    "edge_zhu=[(f,t) for i,(f,t) in edge_zhu.iterrows()]"
   ]
  },
  {
   "cell_type": "code",
   "execution_count": 314,
   "metadata": {
    "collapsed": true,
    "deletable": true,
    "editable": true
   },
   "outputs": [],
   "source": [
    "#非主干道-全局变量\n",
    "edge_nor=pd.read_csv('data/bian-nor.CSV',header=None)\n",
    "edge_nor=[(f,t) for i,(f,t) in edge_nor.iterrows()]"
   ]
  },
  {
   "cell_type": "code",
   "execution_count": 315,
   "metadata": {
    "collapsed": false,
    "deletable": true,
    "editable": true
   },
   "outputs": [
    {
     "data": {
      "text/plain": [
       "True"
      ]
     },
     "execution_count": 315,
     "metadata": {},
     "output_type": "execute_result"
    }
   ],
   "source": [
    "len(edge_nor)+len(edge_zhu)==len(edge)"
   ]
  },
  {
   "cell_type": "code",
   "execution_count": 316,
   "metadata": {
    "collapsed": true,
    "deletable": true,
    "editable": true
   },
   "outputs": [],
   "source": [
    "#表示边的距离，单位km，id按edge数组顺序\n",
    "bianDist={i:(distance(node[e[0]],node[e[1]]),e[0],e[1]) for i,e in enumerate(edge)}"
   ]
  },
  {
   "cell_type": "code",
   "execution_count": 317,
   "metadata": {
    "collapsed": false,
    "deletable": true,
    "editable": true
   },
   "outputs": [
    {
     "data": {
      "text/plain": [
       "(11.40175425099138, 'F16', 'J27')"
      ]
     },
     "execution_count": 317,
     "metadata": {},
     "output_type": "execute_result"
    }
   ],
   "source": [
    "bianDist[0]"
   ]
  },
  {
   "cell_type": "code",
   "execution_count": 318,
   "metadata": {
    "collapsed": true,
    "deletable": true,
    "editable": true
   },
   "outputs": [],
   "source": [
    "edgeDist={e[0]+e[1]:(distance(node[e[0]],node[e[1]]),e[0],e[1]) for i,e in enumerate(edge)}"
   ]
  },
  {
   "cell_type": "code",
   "execution_count": null,
   "metadata": {
    "collapsed": false,
    "deletable": true,
    "editable": true
   },
   "outputs": [],
   "source": [
    "edgeDist"
   ]
  },
  {
   "cell_type": "code",
   "execution_count": 320,
   "metadata": {
    "collapsed": false,
    "deletable": true,
    "editable": true
   },
   "outputs": [
    {
     "data": {
      "text/plain": [
       "(40.26164427839479, 6.324555320336759)"
      ]
     },
     "execution_count": 320,
     "metadata": {},
     "output_type": "execute_result"
    }
   ],
   "source": [
    "#最大，最小 距离\n",
    "max([d for d,f,t in bianDist.values()]),min([d for d,f,t in bianDist.values()])"
   ]
  },
  {
   "cell_type": "code",
   "execution_count": 321,
   "metadata": {
    "collapsed": true,
    "deletable": true,
    "editable": true
   },
   "outputs": [],
   "source": [
    "import networkx as nx"
   ]
  },
  {
   "cell_type": "code",
   "execution_count": 322,
   "metadata": {
    "collapsed": true,
    "deletable": true,
    "editable": true,
    "scrolled": true
   },
   "outputs": [],
   "source": [
    "#建立图模型-全局变量\n",
    "G = nx.Graph()\n",
    "G.add_nodes_from(list(node.keys()))\n",
    "G.add_edges_from(edge_nor,{\"主干道\":False,\"容量\":1})\n",
    "G.add_edges_from(edge_zhu,{\"主干道\":True,\"容量\":2})"
   ]
  },
  {
   "cell_type": "code",
   "execution_count": 323,
   "metadata": {
    "collapsed": true,
    "deletable": true,
    "editable": true
   },
   "outputs": [],
   "source": [
    "for e in G.edges_iter():\n",
    "    G.add_edge(e[0],e[1],{'物理距离':distance(node[e[0]],node[e[1]])})"
   ]
  },
  {
   "cell_type": "code",
   "execution_count": 324,
   "metadata": {
    "collapsed": true,
    "deletable": true,
    "editable": true
   },
   "outputs": [],
   "source": [
    "#建立多边图模型\n",
    "MG = nx.MultiGraph()\n",
    "MG.add_nodes_from(list(node.keys()))\n",
    "MG.add_edges_from(edge_nor,{\"主干道\":False})\n",
    "MG.add_edges_from(edge_zhu,{\"主干道\":True})\n",
    "MG.add_edges_from(edge_zhu,{\"主干道\":True})"
   ]
  },
  {
   "cell_type": "code",
   "execution_count": 325,
   "metadata": {
    "collapsed": false,
    "deletable": true,
    "editable": true
   },
   "outputs": [
    {
     "data": {
      "text/plain": [
       "174"
      ]
     },
     "execution_count": 325,
     "metadata": {},
     "output_type": "execute_result"
    }
   ],
   "source": [
    "len(G.edges())"
   ]
  },
  {
   "cell_type": "code",
   "execution_count": 326,
   "metadata": {
    "collapsed": false,
    "deletable": true,
    "editable": true
   },
   "outputs": [
    {
     "data": {
      "text/plain": [
       "18"
      ]
     },
     "execution_count": 326,
     "metadata": {},
     "output_type": "execute_result"
    }
   ],
   "source": [
    "len(edge_zhu)"
   ]
  },
  {
   "cell_type": "code",
   "execution_count": 327,
   "metadata": {
    "collapsed": false,
    "deletable": true,
    "editable": true
   },
   "outputs": [
    {
     "data": {
      "text/plain": [
       "192"
      ]
     },
     "execution_count": 327,
     "metadata": {},
     "output_type": "execute_result"
    }
   ],
   "source": [
    "len(MG.edges())"
   ]
  },
  {
   "cell_type": "code",
   "execution_count": 328,
   "metadata": {
    "collapsed": true,
    "deletable": true,
    "editable": true
   },
   "outputs": [],
   "source": [
    "G备份=G.copy()"
   ]
  },
  {
   "cell_type": "code",
   "execution_count": 329,
   "metadata": {
    "collapsed": false,
    "deletable": true,
    "editable": true
   },
   "outputs": [],
   "source": [
    "#导出可视化所需邻接表\n",
    "s=nx.adjacency_matrix(G备份,G.nodes())\n",
    "ss=pd.DataFrame(s.toarray(),index=G.nodes(),columns=G.nodes())\n",
    "ss.to_excel(\"n2.xls\")"
   ]
  },
  {
   "cell_type": "code",
   "execution_count": 330,
   "metadata": {
    "collapsed": true,
    "deletable": true,
    "editable": true
   },
   "outputs": [],
   "source": [
    "#键值对式序列化库V1\n",
    "PICKLE_PATH='./G备份.pick'\n",
    "import shelve\n",
    "\n",
    "def set_pickle(k='temp',v=''):\n",
    "    with shelve.open(PICKLE_PATH) as file:\n",
    "        file[k]=v\n",
    "\n",
    "def get_pickle(k):\n",
    "    if k is None:\n",
    "        return False\n",
    "    with shelve.open(PICKLE_PATH) as file:\n",
    "        try:\n",
    "            v=file[k]\n",
    "        except KeyError:\n",
    "            return None\n",
    "        else:\n",
    "            return v"
   ]
  },
  {
   "cell_type": "code",
   "execution_count": 331,
   "metadata": {
    "collapsed": true,
    "deletable": true,
    "editable": true
   },
   "outputs": [],
   "source": [
    "set_pickle('v1',G备份)"
   ]
  },
  {
   "cell_type": "code",
   "execution_count": 332,
   "metadata": {
    "collapsed": true,
    "deletable": true,
    "editable": true
   },
   "outputs": [],
   "source": [
    "#节点分类-全局变量\n",
    "D,F,Z,J=[],[],[],[]\n",
    "for i in G.nodes_iter():\n",
    "    if i[0]=='D':\n",
    "        D.append(i)\n",
    "    if i[0]=='F':\n",
    "        F.append(i)\n",
    "    if i[0]=='Z':\n",
    "        Z.append(i)\n",
    "    if i[0]=='J':\n",
    "        J.append(i)"
   ]
  },
  {
   "cell_type": "code",
   "execution_count": 333,
   "metadata": {
    "collapsed": true,
    "deletable": true,
    "editable": true
   },
   "outputs": [],
   "source": [
    "for i in G.nodes_iter():\n",
    "    if i[0]=='D':\n",
    "        G.add_node(i,{'类型':'待机'})\n",
    "    if i[0]=='F':\n",
    "        G.add_node(i,{'类型':'发射'})\n",
    "    if i[0]=='Z':\n",
    "        G.add_node(i,{'类型':'转载'})\n",
    "    if i[0]=='J':\n",
    "        G.add_node(i,{'类型':'路口'})"
   ]
  },
  {
   "cell_type": "code",
   "execution_count": 334,
   "metadata": {
    "collapsed": false,
    "deletable": true,
    "editable": true
   },
   "outputs": [
    {
     "data": {
      "text/plain": [
       "{'主干道': False, '容量': 1, '物理距离': 40.26164427839479}"
      ]
     },
     "execution_count": 334,
     "metadata": {},
     "output_type": "execute_result"
    }
   ],
   "source": [
    "#边属性读取\n",
    "G.edge['J02']['D2']"
   ]
  },
  {
   "cell_type": "code",
   "execution_count": 335,
   "metadata": {
    "collapsed": false,
    "deletable": true,
    "editable": true
   },
   "outputs": [
    {
     "data": {
      "text/plain": [
       "{0: {'主干道': False}}"
      ]
     },
     "execution_count": 335,
     "metadata": {},
     "output_type": "execute_result"
    }
   ],
   "source": [
    "#MG边属性读取\n",
    "MG.edge['J02']['D2']"
   ]
  },
  {
   "cell_type": "code",
   "execution_count": 336,
   "metadata": {
    "collapsed": false,
    "deletable": true,
    "editable": true
   },
   "outputs": [
    {
     "data": {
      "text/plain": [
       "{'J28': {'主干道': False, '容量': 1, '物理距离': 8.06225774829855}}"
      ]
     },
     "execution_count": 336,
     "metadata": {},
     "output_type": "execute_result"
    }
   ],
   "source": [
    "G['F19']"
   ]
  },
  {
   "cell_type": "code",
   "execution_count": 337,
   "metadata": {
    "collapsed": true,
    "deletable": true,
    "editable": true
   },
   "outputs": [],
   "source": [
    "#D1,D2需要一个路径表，分情况讨论\n",
    "#物理距离前几-及对应 F\n",
    "#结合车类型和道路类型耗时前几-及对应 F\n",
    "\n",
    "#Z也需要，及对应 F\n",
    "\n",
    "#从而追加参数 超级短路径(共现于 D-F,F-Z )\n",
    "#以及 F-Z 这个路径表，存在两个方向的使用。 "
   ]
  },
  {
   "cell_type": "code",
   "execution_count": 338,
   "metadata": {
    "collapsed": true,
    "deletable": true,
    "editable": true
   },
   "outputs": [],
   "source": [
    "#path,变成边组\n",
    "def pathTuple(path):\n",
    "    res=[]\n",
    "    for i in range(len(path)-1):\n",
    "        a,b=path[i:i+2]\n",
    "        res.append((a,b))\n",
    "    return res"
   ]
  },
  {
   "cell_type": "code",
   "execution_count": 340,
   "metadata": {
    "collapsed": false,
    "deletable": true,
    "editable": true
   },
   "outputs": [],
   "source": [
    "#pathTuple(v)"
   ]
  },
  {
   "cell_type": "code",
   "execution_count": 341,
   "metadata": {
    "collapsed": true,
    "deletable": true,
    "editable": true
   },
   "outputs": [],
   "source": [
    "#path,物理距离计算\n",
    "def pathDistance(path):\n",
    "    res=[]\n",
    "    for i in range(len(path)-1):\n",
    "        a,b=path[i:i+2]\n",
    "        res.append(edgeDist.get(a+b)[0] if edgeDist.get(a+b,None) else edgeDist.get(b+a)[0])\n",
    "    return sum(res)"
   ]
  },
  {
   "cell_type": "code",
   "execution_count": 342,
   "metadata": {
    "collapsed": true,
    "deletable": true,
    "editable": true
   },
   "outputs": [],
   "source": [
    "#path,时间计算-全局式的\n",
    "#car->\"A\",\"B\",\"C\"\n",
    "def pathTime(path,car):\n",
    "    res=[]\n",
    "    veb=None\n",
    "    for i in range(len(path)-1):\n",
    "        a,b=path[i:i+2]\n",
    "        dis=G.edge[a][b]['物理距离']\n",
    "        if car == 'A':\n",
    "            if G.edge[a][b]['主干道']:\n",
    "                veb=70\n",
    "            else:\n",
    "                veb=45\n",
    "        if car == 'B':\n",
    "            if G.edge[a][b]['主干道']:\n",
    "                veb=60\n",
    "            else:\n",
    "                veb=35\n",
    "        if car == 'C':\n",
    "            if G.edge[a][b]['主干道']:\n",
    "                veb=50\n",
    "            else:\n",
    "                veb=30            \n",
    "        tim=dis/veb\n",
    "        res.append(tim)\n",
    "    return sum(res)"
   ]
  },
  {
   "cell_type": "code",
   "execution_count": null,
   "metadata": {
    "collapsed": false,
    "deletable": true,
    "editable": true
   },
   "outputs": [],
   "source": [
    "v"
   ]
  },
  {
   "cell_type": "code",
   "execution_count": 250,
   "metadata": {
    "collapsed": false,
    "deletable": true,
    "editable": true
   },
   "outputs": [
    {
     "data": {
      "text/plain": [
       "3.5668569770459766"
      ]
     },
     "execution_count": 250,
     "metadata": {},
     "output_type": "execute_result"
    }
   ],
   "source": [
    "pathTime(v,'B')"
   ]
  },
  {
   "cell_type": "code",
   "execution_count": 343,
   "metadata": {
    "collapsed": false
   },
   "outputs": [
    {
     "data": {
      "text/plain": [
       "0.32576440717118227"
      ]
     },
     "execution_count": 343,
     "metadata": {},
     "output_type": "execute_result"
    }
   ],
   "source": [
    "pathTime(edge[0],'B')"
   ]
  },
  {
   "cell_type": "code",
   "execution_count": 246,
   "metadata": {
    "collapsed": false,
    "deletable": true,
    "editable": true
   },
   "outputs": [
    {
     "data": {
      "text/plain": [
       "167.48062919492975"
      ]
     },
     "execution_count": 246,
     "metadata": {},
     "output_type": "execute_result"
    }
   ],
   "source": [
    "pathDistance(v)"
   ]
  },
  {
   "cell_type": "code",
   "execution_count": 344,
   "metadata": {
    "collapsed": true,
    "deletable": true,
    "editable": true
   },
   "outputs": [],
   "source": [
    "#D-F最短物理路径\n",
    "#临时性算法优化：all_shortest_paths 迭代器版的最短路径\n",
    "D_F={}\n",
    "for d in D:\n",
    "    D_F[d]={}\n",
    "    for f in F:\n",
    "        shorttemp=nx.shortest_path(G,source=d,target=f)\n",
    "        D_F[d][f]=(shorttemp,nx.shortest_path_length(G,source=d,target=f),pathDistance(shorttemp))"
   ]
  },
  {
   "cell_type": "code",
   "execution_count": null,
   "metadata": {
    "collapsed": false,
    "deletable": true,
    "editable": true
   },
   "outputs": [],
   "source": [
    "D_F"
   ]
  },
  {
   "cell_type": "code",
   "execution_count": 346,
   "metadata": {
    "collapsed": true,
    "deletable": true,
    "editable": true
   },
   "outputs": [],
   "source": [
    "#D-F权值化后最短 耗时路径 \n",
    "\n",
    "#先算权\n",
    "for e in G.edges_iter():\n",
    "    dist=G.edge[e[0]][e[1]]['物理距离']\n",
    "    if G.edge[e[0]][e[1]]['主干道']:\n",
    "        veb=70\n",
    "    else:\n",
    "        veb=45\n",
    "    G.add_edge(e[0],e[1],{'A车耗时':dist/veb})\n",
    "    \n",
    "    if G.edge[e[0]][e[1]]['主干道']:\n",
    "        veb=60\n",
    "    else:\n",
    "        veb=35\n",
    "    G.add_edge(e[0],e[1],{'B车耗时':dist/veb})\n",
    "    \n",
    "    if G.edge[e[0]][e[1]]['主干道']:\n",
    "        veb=50\n",
    "    else:\n",
    "        veb=30 \n",
    "    G.add_edge(e[0],e[1],{'C车耗时':dist/veb})"
   ]
  },
  {
   "cell_type": "code",
   "execution_count": 347,
   "metadata": {
    "collapsed": true,
    "deletable": true,
    "editable": true
   },
   "outputs": [],
   "source": [
    "#A车\n",
    "#再遍历\n",
    "A_D_F={}\n",
    "for d in D:\n",
    "    A_D_F[d]={}\n",
    "    for f in F:\n",
    "        shorttemp=nx.shortest_path(G,source=d,target=f,weight=\"A车耗时\")\n",
    "        A_D_F[d][f]=(shorttemp,len(shorttemp),pathDistance(shorttemp),pathTime(shorttemp,'A'))"
   ]
  },
  {
   "cell_type": "code",
   "execution_count": 348,
   "metadata": {
    "collapsed": true,
    "deletable": true,
    "editable": true
   },
   "outputs": [],
   "source": [
    "#B车\n",
    "#再遍历\n",
    "B_D_F={}\n",
    "for d in D:\n",
    "    B_D_F[d]={}\n",
    "    for f in F:\n",
    "        shorttemp=nx.shortest_path(G,source=d,target=f,weight=\"B车耗时\")\n",
    "        B_D_F[d][f]=(shorttemp,len(shorttemp),pathDistance(shorttemp),pathTime(shorttemp,'B'))"
   ]
  },
  {
   "cell_type": "code",
   "execution_count": 349,
   "metadata": {
    "collapsed": true,
    "deletable": true,
    "editable": true
   },
   "outputs": [],
   "source": [
    "#C车\n",
    "#再遍历\n",
    "C_D_F={}\n",
    "for d in D:\n",
    "    C_D_F[d]={}\n",
    "    for f in F:\n",
    "        shorttemp=nx.shortest_path(G,source=d,target=f,weight=\"C车耗时\")\n",
    "        C_D_F[d][f]=(shorttemp,len(shorttemp),pathDistance(shorttemp),pathTime(shorttemp,'C'))"
   ]
  },
  {
   "cell_type": "code",
   "execution_count": null,
   "metadata": {
    "collapsed": false,
    "deletable": true,
    "editable": true
   },
   "outputs": [],
   "source": [
    "B_D_F"
   ]
  },
  {
   "cell_type": "code",
   "execution_count": 350,
   "metadata": {
    "collapsed": true,
    "deletable": true,
    "editable": true
   },
   "outputs": [],
   "source": [
    "carA=[\"A\"+str(i).zfill(2) for i in range(1,7)]\n",
    "carB=[\"B\"+str(i).zfill(2) for i in range(1,7)]\n",
    "carC=[\"C\"+str(i).zfill(2) for i in range(1,13)]"
   ]
  },
  {
   "cell_type": "code",
   "execution_count": 351,
   "metadata": {
    "collapsed": true,
    "deletable": true,
    "editable": true
   },
   "outputs": [],
   "source": [
    "def alignLaunch(stage1):\n",
    "    #寻找最慢车\n",
    "    t=[(car,state[\"出发时刻\"]+sum(state[\"D-F时序\"]['耗时'].iloc[1:state[\"当前位置\"]+1])) for car,state in stage1.items()]\n",
    "    tdic={car:state[\"出发时刻\"]+sum(state[\"D-F时序\"]['耗时'].iloc[1:state[\"当前位置\"]+1]) for car,state in stage1.items()}\n",
    "    tz=max(t, key=lambda item: item[1])\n",
    "    #计算耗时\n",
    "    slowCar,slowTime=tz[0],tz[1]\n",
    "    #每个车与它相减，获得对齐罚时\n",
    "    for car,state in stage1.items():\n",
    "        stage1[car]['D-F时序'].loc[-1,'耗时']=slowTime-tdic[car]\n",
    "    return stage1"
   ]
  },
  {
   "cell_type": "code",
   "execution_count": 366,
   "metadata": {
    "collapsed": true,
    "deletable": true,
    "editable": true
   },
   "outputs": [],
   "source": [
    "def stage1Meeting(stage1):\n",
    "    #终止计算条件-到达发射点了\n",
    "    #同时过滤已经到发射点的车\n",
    "    should,st=[],{}\n",
    "    for car,state in stage1.items():\n",
    "        print(state[\"当前位置\"])\n",
    "        a=state[\"D-F时序\"][\"位置\"].iloc[state[\"当前位置\"]+1]\n",
    "        b=state[\"发射点\"]\n",
    "        if a!=b:\n",
    "            should.append(car) \n",
    "    if len(should)==0:\n",
    "        return stage1\n",
    "    else:\n",
    "    #装填过滤的车\n",
    "        for i in should:\n",
    "            st[i]=stage1[i]\n",
    "    \n",
    "    #耗时计算\n",
    "    t=[(car,state[\"出发时刻\"]+sum(state[\"D-F时序\"]['耗时'].iloc[1:state[\"当前位置\"]+1])) for car,state in st.items()]\n",
    "    tdic={car:state[\"出发时刻\"]+sum(state[\"D-F时序\"]['耗时'].iloc[1:state[\"当前位置\"]+1]) for car,state in st.items()}\n",
    "    \n",
    "    #t=sorted(t, key=lambda item: item[1])\n",
    "    #fastCar,fastTime=t[0][0],t[0][1]\n",
    "    tz=min(t, key=lambda item: item[1])\n",
    "    fastCar,fastTime=tz[0],tz[1]\n",
    "    \n",
    "    #时间线比较\n",
    "    tt=st[fastCar][\"D-F时序\"].iloc[st[fastCar]['当前位置']+2]\n",
    "    if tt['类型'] != 'edge':\n",
    "        print(\"出错了：001\")\n",
    "        return stage1\n",
    "    ttt=tt[\"位置\"]\n",
    "    roadSize=G.edge[ttt[0]][ttt[1]]['容量']\n",
    "    #时间线比较-之重叠\n",
    "    meetingCars=[]\n",
    "    for car,state in st.items():\n",
    "        loc=state[\"D-F时序\"]['位置'].iloc[state[\"当前位置\"]]\n",
    "        if set(ttt)==set(loc):\n",
    "            meetingCars.append(car)\n",
    "    if len(meetingCars)>=roadSize:\n",
    "        #说明需要会车等待\n",
    "        if len(meetingCars)>roadSize:\n",
    "            print(\"出错了：002\")\n",
    "            return stage1\n",
    "        #To-do 会车等待决策+1\n",
    "        waitTime = min([tdic[i] for i in meetingCars]) - fastTime\n",
    "        #写入等待时间\n",
    "        stage1[fastCar][\"D-F时序\"].loc[stage1[fastCar]['当前位置']+1,'耗时']=waitTime\n",
    "    stage1[fastCar]['当前位置']=stage1[fastCar]['当前位置']+2\n",
    "    \n",
    "    return stage1Meeting(stage1)    "
   ]
  },
  {
   "cell_type": "code",
   "execution_count": 353,
   "metadata": {
    "collapsed": true,
    "deletable": true,
    "editable": true
   },
   "outputs": [],
   "source": [
    "#D-F时序-生成\n",
    "#car 表示ABC车型\n",
    "def generDF(path,car):\n",
    "    res=[]\n",
    "    pathT=pathTuple(path)\n",
    "    for i in range(len(pathT)):\n",
    "        res.append(path[i])\n",
    "        res.append(pathT[i])\n",
    "    res.append(path[-1])\n",
    "    return pd.DataFrame({\"位置\":res,\n",
    "                         \"耗时\":[G.edge[i[0]][i[1]][car+'车耗时']*60 if type(i) is tuple else 0 for i in res],\n",
    "                         \"类型\":[\"node\" if type(i) is str else \"edge\" for i in res]\n",
    "                        })"
   ]
  },
  {
   "cell_type": "code",
   "execution_count": 354,
   "metadata": {
    "collapsed": true,
    "deletable": true,
    "editable": true
   },
   "outputs": [],
   "source": [
    "'''\n",
    "目前权值是以小时为单位的，所以最终结果需要转为分钟 即 * 60  \n",
    "d_f:表示所有24辆车的路径\n",
    "{车号:path}\n",
    "departure:表示每辆车的发车时间，出发时刻，分钟为单位\n",
    "{车号:时刻}\n",
    "'''\n",
    "#波次1的耗时计算\n",
    "def stage1Consum(d_f,departure):\n",
    "    stage1={}\n",
    "    for car,path in d_f.items():\n",
    "        stage1[car]={\n",
    "            \"车型\":car[0],\n",
    "            \"D-F时序\":generDF(path,car[0]),\n",
    "            \"发射点\":path[-1],\n",
    "            \"出发时刻\":departure[car],\n",
    "            \"当前位置\":1\n",
    "        }\n",
    "    #To-do:发车次序纠错\n",
    "    #重叠计算\n",
    "    newst1=stage1Meeting(stage1)#此处为范式，由于是可变式，所以newst1还是和原来的引用一样\n",
    "    #齐射罚时\n",
    "    newst1=alignLaunch(newst1)\n",
    "    \n",
    "    return newst1"
   ]
  },
  {
   "cell_type": "code",
   "execution_count": 355,
   "metadata": {
    "collapsed": true,
    "deletable": true,
    "editable": true
   },
   "outputs": [],
   "source": [
    "#car 表示ABC车型\n",
    "def generFZ(path,car):\n",
    "    res=[]\n",
    "    pathT=pathTuple(path)\n",
    "    for i in range(len(pathT)):\n",
    "        res.append(path[i])\n",
    "        res.append(pathT[i])\n",
    "    res.append(path[-1])\n",
    "    return pd.DataFrame({\"位置\":res,\n",
    "                         \"耗时\":[G.edge[i[0]][i[1]][car+'车耗时']*60 if type(i) is tuple else 0 for i in res],\n",
    "                         \"类型\":[\"node\" if type(i) is str else \"edge\" for i in res]\n",
    "                        })"
   ]
  },
  {
   "cell_type": "code",
   "execution_count": 356,
   "metadata": {
    "collapsed": true,
    "deletable": true,
    "editable": true
   },
   "outputs": [],
   "source": [
    "#car 表示ABC车型\n",
    "def generZF(path,car):\n",
    "    res=[]\n",
    "    pathT=pathTuple(path)\n",
    "    for i in range(len(pathT)):\n",
    "        res.append(path[i])\n",
    "        res.append(pathT[i])\n",
    "    res.append(path[-1])\n",
    "    return pd.DataFrame({\"位置\":res,\n",
    "                         \"耗时\":[G.edge[i[0]][i[1]][car+'车耗时']*60 if type(i) is tuple else 0 for i in res],\n",
    "                         \"类型\":[\"node\" if type(i) is str else \"edge\" for i in res]\n",
    "                        })"
   ]
  },
  {
   "cell_type": "code",
   "execution_count": 357,
   "metadata": {
    "collapsed": true,
    "deletable": true,
    "editable": true
   },
   "outputs": [],
   "source": [
    "def stage2Meeting(stage2):\n",
    "    #终止条件-齐射\n",
    "    should,st=[],{}\n",
    "    for car,state in stage2.items():\n",
    "        a=state[\"Z-F时序\"][\"位置\"].iloc[state[\"当前Z-F位置\"]+1]\n",
    "        b=state[\"发射点\"]\n",
    "        if a!=b:\n",
    "            should.append(car) \n",
    "    if len(should)==0:\n",
    "        return stage2\n",
    "    \n",
    "    #过滤到达终点的\n",
    "    #装填过滤的车\n",
    "    for i in should:\n",
    "        st[i]=stage1[i]\n",
    "    \n",
    "    #重叠检测\n",
    "    #耗时计算\n",
    "    t,tdic=[],{}\n",
    "    for car,state in st.items():\n",
    "        if state[\"转载完成\"]:\n",
    "            h=sum(state[\"Z-F时序\"]['耗时'].iloc[1:state[\"当前Z-F位置\"]+1])+sum(state[\"F-Z时序\"]['耗时'].iloc[1:state[\"当前F-Z位置\"]+1])\n",
    "        else:\n",
    "            h=sum(state[\"F-Z时序\"]['耗时'].iloc[1:state[\"当前F-Z位置\"]+1])\n",
    "        t.append((car,h))\n",
    "        tdic[car]=h\n",
    "            \n",
    "    #t=sorted(t, key=lambda item: item[1])\n",
    "    #fastCar,fastTime=t[0][0],t[0][1]\n",
    "    tz=min(t, key=lambda item: item[1])\n",
    "    fastCar,fastTime=tz[0],tz[1]\n",
    "    \n",
    "    #时间线比较\n",
    "    if st[fastCar][\"转载完成\"]:\n",
    "        tt=st[fastCar][\"Z-F时序\"].iloc[st[fastCar]['当前Z-F位置']+2]\n",
    "        if tt['类型'] != 'edge':\n",
    "            print(\"出错了：003\")\n",
    "            return stage2\n",
    "        ttt=tt[\"位置\"]\n",
    "        roadSize=G.edge[ttt[0]][ttt[1]]['容量']\n",
    "        #时间线比较-之重叠\n",
    "        meetingCars=[]\n",
    "        for car,state in st.items():\n",
    "            if state[\"转载完成\"]:\n",
    "                loc=state[\"Z-F时序\"]['位置'].iloc[state[\"当前Z-F位置\"]]\n",
    "            else:\n",
    "                loc=state[\"F-Z时序\"]['位置'].iloc[state[\"当前F-Z位置\"]]\n",
    "            if set(ttt)==set(loc):\n",
    "                meetingCars.append(car)\n",
    "        if len(meetingCars)>=roadSize:\n",
    "            #说明需要会车等待\n",
    "            if len(meetingCars)>roadSize:\n",
    "                print(\"出错了：004\")\n",
    "                return stage2\n",
    "            #To-do 会车等待决策+1\n",
    "            waitTime = min([tdic[i] for i in meetingCars]) - fastTime\n",
    "            #写入等待时间\n",
    "            stage2[fastCar][\"Z-F时序\"].loc[stage2[fastCar]['当前Z-F位置']+1,'耗时']=waitTime\n",
    "        stage2[fastCar]['当前Z-F位置']=stage2[fastCar]['当前Z-F位置']+2\n",
    "    else:\n",
    "        tt=st[fastCar][\"F-Z时序\"].iloc[st[fastCar]['当前F-Z位置']+2]\n",
    "        if tt['类型'] != 'edge':\n",
    "            print(\"出错了：005\")\n",
    "            return stage2\n",
    "        ttt=tt[\"位置\"]\n",
    "        roadSize=G.edge[ttt[0]][ttt[1]]['容量']\n",
    "        #时间线比较-之重叠\n",
    "        meetingCars=[]\n",
    "        for car,state in st.items():\n",
    "            if state[\"转载完成\"]:\n",
    "                loc=state[\"Z-F时序\"]['位置'].iloc[state[\"当前Z-F位置\"]]\n",
    "            else:\n",
    "                loc=state[\"F-Z时序\"]['位置'].iloc[state[\"当前F-Z位置\"]]\n",
    "            if set(ttt)==set(loc):\n",
    "                meetingCars.append(car)\n",
    "        if len(meetingCars)>=roadSize:\n",
    "            #说明需要会车等待\n",
    "            if len(meetingCars)>roadSize:\n",
    "                print(\"出错了：006\")\n",
    "                return stage2\n",
    "            #To-do 会车等待决策+1\n",
    "            waitTime = min([tdic[i] for i in meetingCars]) - fastTime\n",
    "            #写入等待时间\n",
    "            stage2[fastCar][\"F-Z时序\"].loc[stage2[fastCar]['当前F-Z位置']+1,'耗时']=waitTime\n",
    "        #时间线比较-之转载爆仓\n",
    "        zt=st[fastCar][\"F-Z时序\"].iloc[st[fastCar]['当前F-Z位置']+3]\n",
    "        if zt['类型'] != 'node':\n",
    "            print(\"出错了：007\")\n",
    "            return stage2\n",
    "        if zt['位置'] == st[fastCar]['转载点']:\n",
    "            #检测是否爆仓\n",
    "            #所有是这个转载点的车\n",
    "            #且到过转载点的\n",
    "            stz=[car for car,state in stage2.items() if state[\"转载完成\"] and state['转载点']==zt['位置']]\n",
    "            ztTime=sum(st[fastCar][\"F-Z时序\"]['耗时'].iloc[1:st[fastCar]['当前F-Z位置']+2])\n",
    "            #计算其是否在区间时间范围内\n",
    "            stzz,mtz=[],[]\n",
    "            for car in stz:\n",
    "                a=sum(stage2[car][\"F-Z时序\"]['耗时'].iloc[1:-1])\n",
    "                b=sum(stage2[car][\"F-Z时序\"]['耗时'].iloc[1:])\n",
    "                if a <= ztTime and ztTime < b:\n",
    "                    mtz.append(b)\n",
    "                    stzz.append(car)\n",
    "            #基础转载时间\n",
    "            zz=10\n",
    "            if len(stzz) >= 2:\n",
    "                if len(stzz) > 2:\n",
    "                    print(\"报错：特殊\")\n",
    "                #说明爆仓\n",
    "                waitt=min(mtz)-ztTime\n",
    "                stage2[fastCar][\"F-Z时序\"].loc[stage2[fastCar]['当前F-Z位置']+1,'耗时']=waitt\n",
    "                #计算新的到达时间\n",
    "                ztt=sum(st[fastCar][\"F-Z时序\"]['耗时'].iloc[1:st[fastCar]['当前F-Z位置']+2])\n",
    "                zz+=max(mtz)-ztt\n",
    "            #未爆仓，进场计算转载耗时\n",
    "            if len(stzz) ==1:\n",
    "                #表示存在正在转载物\n",
    "                zz+=sum(stage2[stzz[0]][\"F-Z时序\"]['耗时'].iloc[1:])-ztTime\n",
    "            #并写入转载完成和位置，转载时间\n",
    "            stage2[fastCar]['转载完成']=True\n",
    "            stage2[fastCar]['当前F-Z位置']=stage2[fastCar]['当前F-Z位置']+3\n",
    "            stage2[fastCar][\"F-Z时序\"].loc[stage2[fastCar]['当前F-Z位置'],'耗时']=zz\n",
    "        stage2[fastCar]['当前F-Z位置']=stage2[fastCar]['当前F-Z位置']+2\n",
    "\n",
    "    return stage2Meeting(stage2)\n",
    "    "
   ]
  },
  {
   "cell_type": "code",
   "execution_count": 358,
   "metadata": {
    "collapsed": true,
    "deletable": true,
    "editable": true
   },
   "outputs": [],
   "source": [
    "def alignLaunch2(stage2):\n",
    "    #寻找最慢车\n",
    "    t,tdic=[],{}\n",
    "    for car,state in st.items():\n",
    "        h=sum(state[\"Z-F时序\"]['耗时'].iloc[1:state[\"当前Z-F位置\"]+1])+sum(state[\"F-Z时序\"]['耗时'].iloc[1:state[\"当前F-Z位置\"]+1])\n",
    "        t.append((car,h))\n",
    "        tdic[car]=h\n",
    "    tz=max(t, key=lambda item: item[1])\n",
    "    #计算耗时\n",
    "    slowCar,slowTime=tz[0],tz[1]\n",
    "    #每个车与它相减，获得对齐罚时\n",
    "    for car,state in stage2.items():\n",
    "        stage2[car]['Z-F时序'].loc[-1,'耗时']=slowTime-tdic[car]\n",
    "    return stage2"
   ]
  },
  {
   "cell_type": "code",
   "execution_count": 359,
   "metadata": {
    "collapsed": true,
    "deletable": true,
    "editable": true
   },
   "outputs": [],
   "source": [
    "'''\n",
    "f_z:{车号:path}\n",
    "z_f:{车号:path}\n",
    "'''\n",
    "def stage2Consum(f_z,z_f):\n",
    "    stage2={}\n",
    "    for car in f_z.keys():\n",
    "        stage2[car]={\n",
    "            \"车型\":car[0],\n",
    "            \"F-Z时序\":generFZ(f_z[car],car[0]),\n",
    "            \"当前F-Z位置\":1,\n",
    "            \"转载点\":f_z[car][-1],\n",
    "            \"转载完成\":False,\n",
    "            \"Z-F时序\":generZF(z_f[car],car[0]),\n",
    "            \"当前Z-F位置\":1,\n",
    "            \"发射点\":z_f[car][-1]\n",
    "        }\n",
    "    #重叠计算-转载计算-转载爆仓问题？->中断所有到此 Z 的车辆\n",
    "    newst2=stage2Meeting(stage2)#此处为范式，由于是可变式，所以newst1还是和原来的引用一样\n",
    "    #齐射罚时\n",
    "    newst2=alignLaunch2(newst2)\n",
    "    \n",
    "    return newst2"
   ]
  },
  {
   "cell_type": "code",
   "execution_count": 360,
   "metadata": {
    "collapsed": true,
    "deletable": true,
    "editable": true
   },
   "outputs": [],
   "source": [
    "def allConsum(departure,d_f,f_z,z_f):\n",
    "    stage1=stage1Consum(d_f,departure)\n",
    "    stage2=stage2Consum(f_z,z_f)\n",
    "    #计算总暴露时间(排除转载时间)\n",
    "    allTime={car:state[\"出发时刻\"]+sum(state[\"D-F时序\"]['耗时'].iloc[1:]) for car,state in stage1.items()}\n",
    "    for car,state in stage2.items():\n",
    "        allTime[car]+=sum(state[\"Z-F时序\"]['耗时'].iloc[1:-1])+sum(state[\"F-Z时序\"]['耗时'].iloc[1:])\n",
    "    \n",
    "    res=sum([time for time in allTime.values()])\n",
    "    \n",
    "    return res,stage1,stage2"
   ]
  },
  {
   "cell_type": "code",
   "execution_count": null,
   "metadata": {
    "collapsed": true,
    "deletable": true,
    "editable": true
   },
   "outputs": [],
   "source": [
    "'''\n",
    "目前权值是以小时为单位的，所以最终结果需要转为分钟 即 * 60  \n",
    "d_f:表示所有24辆车的路径\n",
    "{车号:path}\n",
    "departure:表示每辆车的发车时间，出发时刻，分钟为单位\n",
    "{车号:时刻}\n",
    "f_z:{车号:path}\n",
    "z_f:{车号:path}\n",
    "'''\n",
    "departure,d_f,f_z,z_f={},{},{},{}\n",
    "targetTime,stage1,stage2=allConsum(departure,d_f,f_z,z_f)"
   ]
  },
  {
   "cell_type": "code",
   "execution_count": null,
   "metadata": {
    "collapsed": true
   },
   "outputs": [],
   "source": []
  },
  {
   "cell_type": "code",
   "execution_count": 153,
   "metadata": {
    "collapsed": true
   },
   "outputs": [],
   "source": [
    "# C_D_F[d][f]=(shorttemp,len(shorttemp),pathDistance(shorttemp),pathTime(shorttemp,'C'))"
   ]
  },
  {
   "cell_type": "code",
   "execution_count": 215,
   "metadata": {
    "collapsed": false
   },
   "outputs": [
    {
     "data": {
      "text/plain": [
       "60"
      ]
     },
     "execution_count": 215,
     "metadata": {},
     "output_type": "execute_result"
    }
   ],
   "source": [
    "A_D1=[]\n",
    "i=0\n",
    "for key, item in A_D_F['D1'].items():\n",
    "    A_D1.append([item[-1],key])\n",
    "    i += 1\n",
    "    #print(item[0])\n",
    "i"
   ]
  },
  {
   "cell_type": "code",
   "execution_count": 216,
   "metadata": {
    "collapsed": false
   },
   "outputs": [
    {
     "data": {
      "text/plain": [
       "60"
      ]
     },
     "execution_count": 216,
     "metadata": {},
     "output_type": "execute_result"
    }
   ],
   "source": [
    "A_D2=[]\n",
    "i=0\n",
    "for key, item in A_D_F['D2'].items():\n",
    "    A_D2.append([item[-1],key])\n",
    "    i += 1\n",
    "    #print(item[0])\n",
    "i"
   ]
  },
  {
   "cell_type": "code",
   "execution_count": 217,
   "metadata": {
    "collapsed": false
   },
   "outputs": [
    {
     "data": {
      "text/plain": [
       "[[1.1683542809835195, 'F43'],\n",
       " [1.6333519020757958, 'F58'],\n",
       " [1.6848950410920647, 'F57'],\n",
       " [1.726312706435021, 'F42'],\n",
       " [1.8061732731580453, 'F41'],\n",
       " [2.0177677863115204, 'F34'],\n",
       " [2.0454685093060423, 'F35'],\n",
       " [2.0788991842585496, 'F31'],\n",
       " [2.1174140589045756, 'F32'],\n",
       " [2.175835802770412, 'F29'],\n",
       " [2.175835802770412, 'F30'],\n",
       " [2.1787569033650303, 'F33'],\n",
       " [2.217777173162554, 'F38'],\n",
       " [2.2574975249982776, 'F37'],\n",
       " [2.270076739822254, 'F39'],\n",
       " [2.2774048070297983, 'F40'],\n",
       " [2.3386203810406325, 'F54'],\n",
       " [2.546327703663374, 'F36'],\n",
       " [2.558746386006316, 'F51'],\n",
       " [2.5908994308209397, 'F49']]"
      ]
     },
     "execution_count": 217,
     "metadata": {},
     "output_type": "execute_result"
    }
   ],
   "source": [
    "A_D1_1=sorted(A_D1, key=itemgetter(0), reverse=False)[:20]\n",
    "A_D1_1"
   ]
  },
  {
   "cell_type": "code",
   "execution_count": 218,
   "metadata": {
    "collapsed": false
   },
   "outputs": [
    {
     "data": {
      "text/plain": [
       "[[0.6200241366569399, 'F24'],\n",
       " [1.0195462382101106, 'F25'],\n",
       " [1.1433907302314401, 'F47'],\n",
       " [1.190993744092128, 'F46'],\n",
       " [1.3300334214633214, 'F44'],\n",
       " [1.3681069827910923, 'F45'],\n",
       " [1.5095666720285104, 'F03'],\n",
       " [1.510871613608043, 'F02'],\n",
       " [1.5120493659392733, 'F26'],\n",
       " [1.512167647424156, 'F01'],\n",
       " [1.6147265872819259, 'F50'],\n",
       " [1.617782733258918, 'F49'],\n",
       " [1.6255204063857145, 'F48'],\n",
       " [1.6516242187265708, 'F27'],\n",
       " [1.6516242187265708, 'F28'],\n",
       " [1.9147967164833841, 'F06'],\n",
       " [1.975897817356781, 'F51'],\n",
       " [2.0030428236089453, 'F05'],\n",
       " [2.0030428236089453, 'F04'],\n",
       " [2.075501345035437, 'F29']]"
      ]
     },
     "execution_count": 218,
     "metadata": {},
     "output_type": "execute_result"
    }
   ],
   "source": [
    "A_D2_2=sorted(A_D2, key=itemgetter(0), reverse=False)[:20]\n",
    "A_D2_2"
   ]
  },
  {
   "cell_type": "code",
   "execution_count": 219,
   "metadata": {
    "collapsed": false
   },
   "outputs": [],
   "source": [
    "A_L=[]\n",
    "for item,key in A_D1_1:\n",
    "    A_L.append(A_D_F['D1'][key])\n",
    "for item,key in A_D2_2:\n",
    "    A_L.append(A_D_F['D2'][key])"
   ]
  },
  {
   "cell_type": "code",
   "execution_count": 220,
   "metadata": {
    "collapsed": false
   },
   "outputs": [
    {
     "data": {
      "text/plain": [
       "40"
      ]
     },
     "execution_count": 220,
     "metadata": {},
     "output_type": "execute_result"
    }
   ],
   "source": [
    "len(A_L)"
   ]
  },
  {
   "cell_type": "code",
   "execution_count": 221,
   "metadata": {
    "collapsed": false
   },
   "outputs": [
    {
     "data": {
      "text/plain": [
       "[[1.5021697898359534, 'F43'],\n",
       " [2.100023874097452, 'F58'],\n",
       " [2.166293624261226, 'F57'],\n",
       " [2.2195449082735985, 'F42'],\n",
       " [2.3222227797746298, 'F41'],\n",
       " [2.5316001925391762, 'F34'],\n",
       " [2.567215407817847, 'F35'],\n",
       " [2.6101977041853566, 'F31'],\n",
       " [2.659716828730247, 'F32'],\n",
       " [2.6890382816671514, 'F29'],\n",
       " [2.6890382816671514, 'F30'],\n",
       " [2.7385862001794035, 'F33'],\n",
       " [2.8514277940661406, 'F38'],\n",
       " [2.902496817854928, 'F37'],\n",
       " [2.918670094057184, 'F39'],\n",
       " [2.928091894752597, 'F40'],\n",
       " [3.006797632766527, 'F54'],\n",
       " [3.1682431823797956, 'F49'],\n",
       " [3.1781916192571056, 'F48'],\n",
       " [3.2738499047100524, 'F36']]"
      ]
     },
     "execution_count": 221,
     "metadata": {},
     "output_type": "execute_result"
    }
   ],
   "source": [
    "B_D1=[]\n",
    "B_D2=[]\n",
    "for key, item in B_D_F['D1'].items():\n",
    "    B_D1.append([item[-1],key])\n",
    "for key, item in B_D_F['D2'].items():\n",
    "    B_D2.append([item[-1],key])\n",
    "B_D1_1=sorted(B_D1, key=itemgetter(0), reverse=False)[:20]\n",
    "B_D1_1"
   ]
  },
  {
   "cell_type": "code",
   "execution_count": 222,
   "metadata": {
    "collapsed": false
   },
   "outputs": [
    {
     "data": {
      "text/plain": [
       "[[0.797173889987494, 'F24'],\n",
       " [1.3108451634129994, 'F25'],\n",
       " [1.4700737960118517, 'F47'],\n",
       " [1.531277670975593, 'F46'],\n",
       " [1.6605184133829063, 'F44'],\n",
       " [1.7094701350900405, 'F45'],\n",
       " [1.9012050960445113, 'F03'],\n",
       " [1.9028828780753386, 'F02'],\n",
       " [1.9045492072674843, 'F01'],\n",
       " [1.9440634704933517, 'F26'],\n",
       " [2.0022511031108374, 'F49'],\n",
       " [2.0121995399881474, 'F48'],\n",
       " [2.0338330191979384, 'F50'],\n",
       " [2.0559572828419213, 'F27'],\n",
       " [2.0559572828419213, 'F28'],\n",
       " [2.422215153200778, 'F06'],\n",
       " [2.4981960292941805, 'F51'],\n",
       " [2.535674433790785, 'F05'],\n",
       " [2.535674433790785, 'F04'],\n",
       " [2.5815608142654325, 'F31']]"
      ]
     },
     "execution_count": 222,
     "metadata": {},
     "output_type": "execute_result"
    }
   ],
   "source": [
    "B_D2_2=sorted(B_D2, key=itemgetter(0), reverse=False)[:20]\n",
    "B_D2_2"
   ]
  },
  {
   "cell_type": "code",
   "execution_count": 223,
   "metadata": {
    "collapsed": true
   },
   "outputs": [],
   "source": [
    "B_L=[]\n",
    "for item,key in B_D1_1:\n",
    "    B_L.append(B_D_F['D1'][key])\n",
    "for item,key in B_D2_2:\n",
    "    B_L.append(B_D_F['D2'][key])"
   ]
  },
  {
   "cell_type": "code",
   "execution_count": 224,
   "metadata": {
    "collapsed": false
   },
   "outputs": [
    {
     "data": {
      "text/plain": [
       "40"
      ]
     },
     "execution_count": 224,
     "metadata": {},
     "output_type": "execute_result"
    }
   ],
   "source": [
    "len(B_L)"
   ]
  },
  {
   "cell_type": "code",
   "execution_count": 225,
   "metadata": {
    "collapsed": false
   },
   "outputs": [
    {
     "data": {
      "text/plain": [
       "[[1.752531421475279, 'F43'],\n",
       " [2.450027853113694, 'F58'],\n",
       " [2.527342561638097, 'F57'],\n",
       " [2.5894690596525316, 'F42'],\n",
       " [2.709259909737068, 'F41'],\n",
       " [2.9740066319837473, 'F34'],\n",
       " [3.01555771647553, 'F35'],\n",
       " [3.0657037289042903, 'F31'],\n",
       " [3.1234760408733298, 'F32'],\n",
       " [3.1726431937639807, 'F29'],\n",
       " [3.1726431937639807, 'F30'],\n",
       " [3.215490307564012, 'F33'],\n",
       " [3.32666575974383, 'F38'],\n",
       " [3.386246287497416, 'F37'],\n",
       " [3.4051151097333805, 'F39'],\n",
       " [3.4161072105446975, 'F40'],\n",
       " [3.5079305715609483, 'F54'],\n",
       " [3.7495020341438234, 'F49'],\n",
       " [3.761108543834018, 'F48'],\n",
       " [3.819491555495061, 'F36'],\n",
       " [3.8381195790094744, 'F51'],\n",
       " [3.9066912963752114, 'F26'],\n",
       " [4.251828573252996, 'F60'],\n",
       " [4.338431849969488, 'F59'],\n",
       " [4.387824000777098, 'F27']]"
      ]
     },
     "execution_count": 225,
     "metadata": {},
     "output_type": "execute_result"
    }
   ],
   "source": [
    "C_D1=[]\n",
    "C_D2=[]\n",
    "for key, item in C_D_F['D1'].items():\n",
    "    C_D1.append([item[-1],key])\n",
    "for key, item in C_D_F['D2'].items():\n",
    "    C_D2.append([item[-1],key])\n",
    "C_D1_1=sorted(C_D1, key=itemgetter(0), reverse=False)[:25]\n",
    "C_D1_1"
   ]
  },
  {
   "cell_type": "code",
   "execution_count": 226,
   "metadata": {
    "collapsed": false
   },
   "outputs": [
    {
     "data": {
      "text/plain": [
       "[[0.9300362049854097, 'F24'],\n",
       " [1.529319357315166, 'F25'],\n",
       " [1.7150860953471603, 'F47'],\n",
       " [1.7864906161381922, 'F46'],\n",
       " [1.9534495042562363, 'F44'],\n",
       " [2.010559846247893, 'F45'],\n",
       " [2.2310302829293636, 'F03'],\n",
       " [2.2329876952986623, 'F02'],\n",
       " [2.2349317460228324, 'F01'],\n",
       " [2.26807404890891, 'F26'],\n",
       " [2.3613596745818493, 'F49'],\n",
       " [2.3729661842720438, 'F48'],\n",
       " [2.386604902784677, 'F50'],\n",
       " [2.4206862894523735, 'F27'],\n",
       " [2.4206862894523735, 'F28'],\n",
       " [2.838875349611675, 'F06'],\n",
       " [2.9283617478969597, 'F51'],\n",
       " [2.971244510300016, 'F05'],\n",
       " [2.971244510300016, 'F04'],\n",
       " [3.054445965002026, 'F31'],\n",
       " [3.065125681688576, 'F29'],\n",
       " [3.065125681688576, 'F30'],\n",
       " [3.1122182769710656, 'F32'],\n",
       " [3.204232543661748, 'F33'],\n",
       " [3.4495621546601263, 'F07']]"
      ]
     },
     "execution_count": 226,
     "metadata": {},
     "output_type": "execute_result"
    }
   ],
   "source": [
    "C_D2_2=sorted(C_D2, key=itemgetter(0), reverse=False)[:25]\n",
    "C_D2_2"
   ]
  },
  {
   "cell_type": "code",
   "execution_count": 227,
   "metadata": {
    "collapsed": true
   },
   "outputs": [],
   "source": [
    "C_L=[]\n",
    "for item,key in C_D1_1:\n",
    "    C_L.append(C_D_F['D1'][key])\n",
    "for item,key in C_D2_2:\n",
    "    C_L.append(C_D_F['D2'][key])"
   ]
  },
  {
   "cell_type": "code",
   "execution_count": 228,
   "metadata": {
    "collapsed": false
   },
   "outputs": [
    {
     "data": {
      "text/plain": [
       "50"
      ]
     },
     "execution_count": 228,
     "metadata": {},
     "output_type": "execute_result"
    }
   ],
   "source": [
    "len(C_L)"
   ]
  },
  {
   "cell_type": "code",
   "execution_count": null,
   "metadata": {
    "collapsed": true
   },
   "outputs": [],
   "source": []
  },
  {
   "cell_type": "code",
   "execution_count": 209,
   "metadata": {
    "collapsed": false
   },
   "outputs": [
    {
     "data": {
      "text/plain": [
       "(['D1', 'Z03', 'J61', 'F58'], 4, 73.50083559341081, 1.6333519020757958)"
      ]
     },
     "execution_count": 209,
     "metadata": {},
     "output_type": "execute_result"
    }
   ],
   "source": [
    "A_D_F['D1']['F58']"
   ]
  },
  {
   "cell_type": "code",
   "execution_count": 210,
   "metadata": {
    "collapsed": false
   },
   "outputs": [
    {
     "data": {
      "text/plain": [
       "dict_keys(['F22', 'F05', 'F54', 'F02', 'F59', 'F42', 'F45', 'F26', 'F11', 'F53', 'F29', 'F37', 'F09', 'F49', 'F27', 'F44', 'F58', 'F16', 'F10', 'F23', 'F12', 'F47', 'F41', 'F46', 'F32', 'F31', 'F60', 'F33', 'F14', 'F25', 'F34', 'F40', 'F56', 'F39', 'F57', 'F35', 'F30', 'F20', 'F48', 'F13', 'F36', 'F01', 'F24', 'F52', 'F08', 'F03', 'F15', 'F18', 'F04', 'F43', 'F17', 'F07', 'F51', 'F28', 'F38', 'F21', 'F19', 'F50', 'F55', 'F06'])"
      ]
     },
     "execution_count": 210,
     "metadata": {},
     "output_type": "execute_result"
    }
   ],
   "source": [
    "A_D_F['D2'].keys()"
   ]
  },
  {
   "cell_type": "code",
   "execution_count": 211,
   "metadata": {
    "collapsed": false
   },
   "outputs": [
    {
     "data": {
      "text/plain": [
       "60"
      ]
     },
     "execution_count": 211,
     "metadata": {},
     "output_type": "execute_result"
    }
   ],
   "source": [
    "len(B_D_F['D1'])"
   ]
  },
  {
   "cell_type": "code",
   "execution_count": null,
   "metadata": {
    "collapsed": false
   },
   "outputs": [],
   "source": []
  },
  {
   "cell_type": "markdown",
   "metadata": {},
   "source": [
    "# 按节点最少排序"
   ]
  },
  {
   "cell_type": "code",
   "execution_count": 150,
   "metadata": {
    "collapsed": false
   },
   "outputs": [
    {
     "data": {
      "text/plain": [
       "[(['D1', 'Z03', 'J61', 'F58'], 4, 73.50083559341081, 1.6333519020757958),\n",
       " (['D1', 'Z03', 'J61', 'F57'], 4, 75.8202768491429, 1.6848950410920647),\n",
       " (['D1', 'J11', 'J46', 'F43'], 4, 52.575942644258376, 1.1683542809835195),\n",
       " (['D1', 'J11', 'J46', 'J44', 'F42'], 5, 77.68407178957594, 1.726312706435021),\n",
       " (['D1', 'J11', 'J46', 'J44', 'F41'],\n",
       "  5,\n",
       "  81.27779729211204,\n",
       "  1.8061732731580453),\n",
       " (['D1', 'Z03', 'J57', 'J58', 'J59', 'F54'],\n",
       "  6,\n",
       "  105.23791714682845,\n",
       "  2.3386203810406325),\n",
       " (['D2', 'J32', 'F24'], 3, 27.901086149562293, 0.6200241366569399),\n",
       " (['D2', 'J03', 'J48', 'F47'], 4, 51.45258286041481, 1.1433907302314401),\n",
       " (['D2', 'J03', 'J48', 'F46'], 4, 53.59471848414576, 1.190993744092128),\n",
       " (['D2', 'J32', 'J33', 'F25'], 4, 45.87958071945498, 1.0195462382101106),\n",
       " (['D2', 'J12', 'J13', 'J21', 'F02'], 5, 76.31915389071236, 1.510871613608043),\n",
       " (['D2', 'J03', 'J02', 'J47', 'F45'],\n",
       "  5,\n",
       "  71.96497121028563,\n",
       "  1.3681069827910923)]"
      ]
     },
     "execution_count": 150,
     "metadata": {},
     "output_type": "execute_result"
    }
   ],
   "source": [
    "A_L"
   ]
  },
  {
   "cell_type": "code",
   "execution_count": 151,
   "metadata": {
    "collapsed": false
   },
   "outputs": [
    {
     "data": {
      "text/plain": [
       "[(['D1', 'Z03', 'J61', 'F58'], 4, 73.50083559341081, 2.100023874097452),\n",
       " (['D1', 'Z03', 'J61', 'F57'], 4, 75.8202768491429, 2.166293624261226),\n",
       " (['D1', 'J11', 'J46', 'F43'], 4, 52.575942644258376, 1.5021697898359534),\n",
       " (['D1', 'J11', 'J46', 'J44', 'F42'],\n",
       "  5,\n",
       "  77.68407178957594,\n",
       "  2.2195449082735985),\n",
       " (['D1', 'J11', 'J46', 'J44', 'F41'],\n",
       "  5,\n",
       "  81.27779729211204,\n",
       "  2.3222227797746298),\n",
       " (['D1', 'Z03', 'J57', 'J58', 'J59', 'F54'],\n",
       "  6,\n",
       "  105.23791714682845,\n",
       "  3.006797632766527),\n",
       " (['D2', 'J32', 'F24'], 3, 27.901086149562293, 0.797173889987494),\n",
       " (['D2', 'J03', 'J48', 'F47'], 4, 51.45258286041481, 1.4700737960118517),\n",
       " (['D2', 'J03', 'J48', 'F46'], 4, 53.59471848414576, 1.531277670975593),\n",
       " (['D2', 'J32', 'J33', 'F25'], 4, 45.87958071945498, 1.3108451634129994),\n",
       " (['D2', 'J12', 'J13', 'J21', 'F02'],\n",
       "  5,\n",
       "  76.31915389071236,\n",
       "  1.9028828780753386),\n",
       " (['D2', 'J03', 'J02', 'J47', 'F45'],\n",
       "  5,\n",
       "  71.96497121028563,\n",
       "  1.7094701350900405)]"
      ]
     },
     "execution_count": 151,
     "metadata": {},
     "output_type": "execute_result"
    }
   ],
   "source": [
    "B_L"
   ]
  },
  {
   "cell_type": "markdown",
   "metadata": {},
   "source": [
    "# 按耗时最短排序"
   ]
  },
  {
   "cell_type": "code",
   "execution_count": 229,
   "metadata": {
    "collapsed": false,
    "scrolled": false
   },
   "outputs": [
    {
     "data": {
      "text/plain": [
       "[(['D2', 'J32', 'F24'], 3, 27.901086149562293, 0.6200241366569399),\n",
       " (['D2', 'J32', 'J33', 'F25'], 4, 45.87958071945498, 1.0195462382101106),\n",
       " (['D2', 'J03', 'J48', 'F47'], 4, 51.45258286041481, 1.1433907302314401),\n",
       " (['D1', 'J11', 'J46', 'F43'], 4, 52.575942644258376, 1.1683542809835195),\n",
       " (['D2', 'J03', 'J48', 'F46'], 4, 53.59471848414576, 1.190993744092128),\n",
       " (['D2', 'J03', 'J02', 'J47', 'F44'],\n",
       "  5,\n",
       "  70.25166095053592,\n",
       "  1.3300334214633214),\n",
       " (['D2', 'J03', 'J02', 'J47', 'F45'],\n",
       "  5,\n",
       "  71.96497121028563,\n",
       "  1.3681069827910923),\n",
       " (['D2', 'J12', 'J13', 'J21', 'F03'], 5, 76.2604315196334, 1.5095666720285104),\n",
       " (['D2', 'J12', 'J13', 'J21', 'F02'], 5, 76.31915389071236, 1.510871613608043),\n",
       " (['D2', 'J32', 'J33', 'J34', 'F26'], 5, 68.0422214672673, 1.5120493659392733),\n",
       " (['D2', 'J12', 'J13', 'J21', 'F01'], 5, 76.37747541243746, 1.512167647424156),\n",
       " (['D2', 'J03', 'J04', 'J50', 'F50'],\n",
       "  5,\n",
       "  81.53394096223968,\n",
       "  1.6147265872819259),\n",
       " (['D2', 'J03', 'J04', 'J05', 'J49', 'F49'],\n",
       "  6,\n",
       "  89.1288293232833,\n",
       "  1.617782733258918),\n",
       " (['D2', 'J03', 'J04', 'J05', 'J49', 'F48'],\n",
       "  6,\n",
       "  89.47702461398913,\n",
       "  1.6255204063857145),\n",
       " (['D1', 'Z03', 'J61', 'F58'], 4, 73.50083559341081, 1.6333519020757958),\n",
       " (['D2', 'J12', 'J13', 'J14', 'J35', 'F27'],\n",
       "  6,\n",
       "  88.51059950206637,\n",
       "  1.6516242187265708),\n",
       " (['D2', 'J12', 'J13', 'J14', 'J35', 'F28'],\n",
       "  6,\n",
       "  88.51059950206637,\n",
       "  1.6516242187265708),\n",
       " (['D1', 'Z03', 'J61', 'F57'], 4, 75.8202768491429, 1.6848950410920647),\n",
       " (['D1', 'J11', 'J46', 'J44', 'F42'], 5, 77.68407178957594, 1.726312706435021),\n",
       " (['D1', 'J11', 'J46', 'J44', 'F41'],\n",
       "  5,\n",
       "  81.27779729211204,\n",
       "  1.8061732731580453),\n",
       " (['D2', 'J12', 'J13', 'J21', 'J22', 'F06'],\n",
       "  6,\n",
       "  94.49578352010273,\n",
       "  1.9147967164833841),\n",
       " (['D2', 'J03', 'J04', 'J50', 'J53', 'F51'],\n",
       "  6,\n",
       "  97.78664631560817,\n",
       "  1.975897817356781),\n",
       " (['D2', 'J12', 'J13', 'J21', 'J22', 'F05'],\n",
       "  6,\n",
       "  98.46685834075298,\n",
       "  2.0030428236089453),\n",
       " (['D2', 'J12', 'J13', 'J21', 'J22', 'F04'],\n",
       "  6,\n",
       "  98.46685834075298,\n",
       "  2.0030428236089453),\n",
       " (['D1', 'J09', 'J08', 'J07', 'Z04', 'J38', 'F34'],\n",
       "  7,\n",
       "  103.96081225490191,\n",
       "  2.0177677863115204),\n",
       " (['D1', 'J09', 'J08', 'J07', 'Z04', 'J38', 'F35'],\n",
       "  7,\n",
       "  105.20734478965538,\n",
       "  2.0454685093060423),\n",
       " (['D2', 'J32', 'J33', 'J34', 'J36', 'F29'],\n",
       "  6,\n",
       "  93.39756052659467,\n",
       "  2.075501345035437),\n",
       " (['D1', 'J09', 'J08', 'J07', 'Z04', 'J37', 'F31'],\n",
       "  7,\n",
       "  106.7117251625182,\n",
       "  2.0788991842585496),\n",
       " (['D1', 'J09', 'J08', 'J07', 'Z04', 'J37', 'F32'],\n",
       "  7,\n",
       "  108.44489452158939,\n",
       "  2.1174140589045756),\n",
       " (['D1', 'J09', 'J08', 'J07', 'J06', 'J36', 'F29'],\n",
       "  7,\n",
       "  120.69023872257792,\n",
       "  2.175835802770412),\n",
       " (['D1', 'J09', 'J08', 'J07', 'J06', 'J36', 'F30'],\n",
       "  7,\n",
       "  120.69023872257792,\n",
       "  2.175835802770412),\n",
       " (['D1', 'J09', 'J08', 'J07', 'Z04', 'J37', 'F33'],\n",
       "  7,\n",
       "  111.20532252230986,\n",
       "  2.1787569033650303),\n",
       " (['D1', 'J10', 'J45', 'J42', 'J40', 'F38'],\n",
       "  6,\n",
       "  99.7999727923149,\n",
       "  2.217777173162554),\n",
       " (['D1', 'J10', 'J45', 'J42', 'J40', 'F37'],\n",
       "  6,\n",
       "  101.58738862492248,\n",
       "  2.2574975249982776),\n",
       " (['D1', 'J10', 'J45', 'J42', 'J40', 'F39'],\n",
       "  6,\n",
       "  102.15345329200142,\n",
       "  2.270076739822254),\n",
       " (['D1', 'J11', 'J46', 'J44', 'Z05', 'J41', 'F40'],\n",
       "  7,\n",
       "  102.48321631634091,\n",
       "  2.2774048070297983),\n",
       " (['D1', 'Z03', 'J57', 'J58', 'J59', 'F54'],\n",
       "  6,\n",
       "  105.23791714682845,\n",
       "  2.3386203810406325),\n",
       " (['D1', 'J10', 'J45', 'J42', 'J40', 'J39', 'F36'],\n",
       "  7,\n",
       "  114.58474666485182,\n",
       "  2.546327703663374),\n",
       " (['D1', 'Z03', 'J57', 'J54', 'J55', 'J53', 'F51'],\n",
       "  7,\n",
       "  115.14358737028421,\n",
       "  2.558746386006316),\n",
       " (['D1', 'J09', 'J08', 'J07', 'J06', 'J05', 'J49', 'F49'],\n",
       "  8,\n",
       "  150.8022524088389,\n",
       "  2.5908994308209397)]"
      ]
     },
     "execution_count": 229,
     "metadata": {},
     "output_type": "execute_result"
    }
   ],
   "source": [
    "A_L=sorted(A_L, key=itemgetter(3), reverse=False)\n",
    "A_L"
   ]
  },
  {
   "cell_type": "code",
   "execution_count": 230,
   "metadata": {
    "collapsed": false,
    "scrolled": false
   },
   "outputs": [
    {
     "data": {
      "text/plain": [
       "[(['D2', 'J32', 'F24'], 3, 27.901086149562293, 0.797173889987494),\n",
       " (['D2', 'J32', 'J33', 'F25'], 4, 45.87958071945498, 1.3108451634129994),\n",
       " (['D2', 'J03', 'J48', 'F47'], 4, 51.45258286041481, 1.4700737960118517),\n",
       " (['D1', 'J11', 'J46', 'F43'], 4, 52.575942644258376, 1.5021697898359534),\n",
       " (['D2', 'J03', 'J48', 'F46'], 4, 53.59471848414576, 1.531277670975593),\n",
       " (['D2', 'J03', 'J02', 'J47', 'F44'],\n",
       "  5,\n",
       "  70.25166095053592,\n",
       "  1.6605184133829063),\n",
       " (['D2', 'J03', 'J02', 'J47', 'F45'],\n",
       "  5,\n",
       "  71.96497121028563,\n",
       "  1.7094701350900405),\n",
       " (['D2', 'J12', 'J13', 'J21', 'F03'], 5, 76.2604315196334, 1.9012050960445113),\n",
       " (['D2', 'J12', 'J13', 'J21', 'F02'],\n",
       "  5,\n",
       "  76.31915389071236,\n",
       "  1.9028828780753386),\n",
       " (['D2', 'J12', 'J13', 'J21', 'F01'],\n",
       "  5,\n",
       "  76.37747541243746,\n",
       "  1.9045492072674843),\n",
       " (['D2', 'J32', 'J33', 'J34', 'F26'], 5, 68.0422214672673, 1.9440634704933517),\n",
       " (['D2', 'J03', 'J04', 'J05', 'J49', 'F49'],\n",
       "  6,\n",
       "  89.1288293232833,\n",
       "  2.0022511031108374),\n",
       " (['D2', 'J03', 'J04', 'J05', 'J49', 'F48'],\n",
       "  6,\n",
       "  89.47702461398913,\n",
       "  2.0121995399881474),\n",
       " (['D2', 'J03', 'J04', 'J50', 'F50'],\n",
       "  5,\n",
       "  81.53394096223968,\n",
       "  2.0338330191979384),\n",
       " (['D2', 'J12', 'J13', 'J14', 'J35', 'F27'],\n",
       "  6,\n",
       "  88.51059950206637,\n",
       "  2.0559572828419213),\n",
       " (['D2', 'J12', 'J13', 'J14', 'J35', 'F28'],\n",
       "  6,\n",
       "  88.51059950206637,\n",
       "  2.0559572828419213),\n",
       " (['D1', 'Z03', 'J61', 'F58'], 4, 73.50083559341081, 2.100023874097452),\n",
       " (['D1', 'Z03', 'J61', 'F57'], 4, 75.8202768491429, 2.166293624261226),\n",
       " (['D1', 'J11', 'J46', 'J44', 'F42'],\n",
       "  5,\n",
       "  77.68407178957594,\n",
       "  2.2195449082735985),\n",
       " (['D1', 'J11', 'J46', 'J44', 'F41'],\n",
       "  5,\n",
       "  81.27779729211204,\n",
       "  2.3222227797746298),\n",
       " (['D2', 'J12', 'J13', 'J21', 'J22', 'F06'],\n",
       "  6,\n",
       "  94.49578352010273,\n",
       "  2.422215153200778),\n",
       " (['D2', 'J03', 'J04', 'J50', 'J53', 'F51'],\n",
       "  6,\n",
       "  97.78664631560817,\n",
       "  2.4981960292941805),\n",
       " (['D1', 'J09', 'J08', 'J07', 'Z04', 'J38', 'F34'],\n",
       "  7,\n",
       "  103.96081225490191,\n",
       "  2.5316001925391762),\n",
       " (['D2', 'J12', 'J13', 'J21', 'J22', 'F05'],\n",
       "  6,\n",
       "  98.46685834075298,\n",
       "  2.535674433790785),\n",
       " (['D2', 'J12', 'J13', 'J21', 'J22', 'F04'],\n",
       "  6,\n",
       "  98.46685834075298,\n",
       "  2.535674433790785),\n",
       " (['D1', 'J09', 'J08', 'J07', 'Z04', 'J38', 'F35'],\n",
       "  7,\n",
       "  105.20734478965538,\n",
       "  2.567215407817847),\n",
       " (['D2', 'J12', 'J13', 'J14', 'J15', 'J37', 'F31'],\n",
       "  7,\n",
       "  122.32338976855594,\n",
       "  2.5815608142654325),\n",
       " (['D1', 'J09', 'J08', 'J07', 'Z04', 'J37', 'F31'],\n",
       "  7,\n",
       "  106.7117251625182,\n",
       "  2.6101977041853566),\n",
       " (['D1', 'J09', 'J08', 'J07', 'Z04', 'J37', 'F32'],\n",
       "  7,\n",
       "  108.44489452158939,\n",
       "  2.659716828730247),\n",
       " (['D1', 'J09', 'J08', 'J07', 'J06', 'J36', 'F29'],\n",
       "  7,\n",
       "  120.69023872257792,\n",
       "  2.6890382816671514),\n",
       " (['D1', 'J09', 'J08', 'J07', 'J06', 'J36', 'F30'],\n",
       "  7,\n",
       "  120.69023872257792,\n",
       "  2.6890382816671514),\n",
       " (['D1', 'J09', 'J08', 'J07', 'Z04', 'J37', 'F33'],\n",
       "  7,\n",
       "  111.20532252230986,\n",
       "  2.7385862001794035),\n",
       " (['D1', 'J10', 'J45', 'J42', 'J40', 'F38'],\n",
       "  6,\n",
       "  99.7999727923149,\n",
       "  2.8514277940661406),\n",
       " (['D1', 'J10', 'J45', 'J42', 'J40', 'F37'],\n",
       "  6,\n",
       "  101.58738862492248,\n",
       "  2.902496817854928),\n",
       " (['D1', 'J10', 'J45', 'J42', 'J40', 'F39'],\n",
       "  6,\n",
       "  102.15345329200142,\n",
       "  2.918670094057184),\n",
       " (['D1', 'J11', 'J46', 'J44', 'Z05', 'J41', 'F40'],\n",
       "  7,\n",
       "  102.48321631634091,\n",
       "  2.928091894752597),\n",
       " (['D1', 'Z03', 'J57', 'J58', 'J59', 'F54'],\n",
       "  6,\n",
       "  105.23791714682845,\n",
       "  3.006797632766527),\n",
       " (['D1', 'J09', 'J08', 'J07', 'J06', 'J05', 'J49', 'F49'],\n",
       "  8,\n",
       "  150.8022524088389,\n",
       "  3.1682431823797956),\n",
       " (['D1', 'J09', 'J08', 'J07', 'J06', 'J05', 'J49', 'F48'],\n",
       "  8,\n",
       "  151.15044769954474,\n",
       "  3.1781916192571056),\n",
       " (['D1', 'J10', 'J45', 'J42', 'J40', 'J39', 'F36'],\n",
       "  7,\n",
       "  114.58474666485182,\n",
       "  3.2738499047100524)]"
      ]
     },
     "execution_count": 230,
     "metadata": {},
     "output_type": "execute_result"
    }
   ],
   "source": [
    "B_L=sorted(B_L, key=itemgetter(3), reverse=False)\n",
    "B_L"
   ]
  },
  {
   "cell_type": "code",
   "execution_count": 231,
   "metadata": {
    "collapsed": false,
    "scrolled": false
   },
   "outputs": [
    {
     "data": {
      "text/plain": [
       "[(['D2', 'J32', 'F24'], 3, 27.901086149562293, 0.9300362049854097),\n",
       " (['D2', 'J32', 'J33', 'F25'], 4, 45.87958071945498, 1.529319357315166),\n",
       " (['D2', 'J03', 'J48', 'F47'], 4, 51.45258286041481, 1.7150860953471603),\n",
       " (['D1', 'J11', 'J46', 'F43'], 4, 52.575942644258376, 1.752531421475279),\n",
       " (['D2', 'J03', 'J48', 'F46'], 4, 53.59471848414576, 1.7864906161381922),\n",
       " (['D2', 'J03', 'J02', 'J47', 'F44'],\n",
       "  5,\n",
       "  70.25166095053592,\n",
       "  1.9534495042562363),\n",
       " (['D2', 'J03', 'J02', 'J47', 'F45'], 5, 71.96497121028563, 2.010559846247893),\n",
       " (['D2', 'J12', 'J13', 'J21', 'F03'], 5, 76.2604315196334, 2.2310302829293636),\n",
       " (['D2', 'J12', 'J13', 'J21', 'F02'],\n",
       "  5,\n",
       "  76.31915389071236,\n",
       "  2.2329876952986623),\n",
       " (['D2', 'J12', 'J13', 'J21', 'F01'],\n",
       "  5,\n",
       "  76.37747541243746,\n",
       "  2.2349317460228324),\n",
       " (['D2', 'J32', 'J33', 'J34', 'F26'], 5, 68.0422214672673, 2.26807404890891),\n",
       " (['D2', 'J03', 'J04', 'J05', 'J49', 'F49'],\n",
       "  6,\n",
       "  89.1288293232833,\n",
       "  2.3613596745818493),\n",
       " (['D2', 'J03', 'J04', 'J05', 'J49', 'F48'],\n",
       "  6,\n",
       "  89.47702461398913,\n",
       "  2.3729661842720438),\n",
       " (['D2', 'J03', 'J04', 'J50', 'F50'], 5, 81.53394096223968, 2.386604902784677),\n",
       " (['D2', 'J12', 'J13', 'J14', 'J35', 'F27'],\n",
       "  6,\n",
       "  88.51059950206637,\n",
       "  2.4206862894523735),\n",
       " (['D2', 'J12', 'J13', 'J14', 'J35', 'F28'],\n",
       "  6,\n",
       "  88.51059950206637,\n",
       "  2.4206862894523735),\n",
       " (['D1', 'Z03', 'J61', 'F58'], 4, 73.50083559341081, 2.450027853113694),\n",
       " (['D1', 'Z03', 'J61', 'F57'], 4, 75.8202768491429, 2.527342561638097),\n",
       " (['D1', 'J11', 'J46', 'J44', 'F42'],\n",
       "  5,\n",
       "  77.68407178957594,\n",
       "  2.5894690596525316),\n",
       " (['D1', 'J11', 'J46', 'J44', 'F41'], 5, 81.27779729211204, 2.709259909737068),\n",
       " (['D2', 'J12', 'J13', 'J21', 'J22', 'F06'],\n",
       "  6,\n",
       "  94.49578352010273,\n",
       "  2.838875349611675),\n",
       " (['D2', 'J03', 'J04', 'J50', 'J53', 'F51'],\n",
       "  6,\n",
       "  97.78664631560817,\n",
       "  2.9283617478969597),\n",
       " (['D2', 'J12', 'J13', 'J21', 'J22', 'F05'],\n",
       "  6,\n",
       "  98.46685834075298,\n",
       "  2.971244510300016),\n",
       " (['D2', 'J12', 'J13', 'J21', 'J22', 'F04'],\n",
       "  6,\n",
       "  98.46685834075298,\n",
       "  2.971244510300016),\n",
       " (['D1', 'J09', 'J08', 'J07', 'Z04', 'J38', 'F34'],\n",
       "  7,\n",
       "  103.96081225490191,\n",
       "  2.9740066319837473),\n",
       " (['D1', 'J09', 'J08', 'J07', 'Z04', 'J38', 'F35'],\n",
       "  7,\n",
       "  105.20734478965538,\n",
       "  3.01555771647553),\n",
       " (['D2', 'J12', 'J13', 'J14', 'J15', 'J37', 'F31'],\n",
       "  7,\n",
       "  122.32338976855594,\n",
       "  3.054445965002026),\n",
       " (['D2', 'J03', 'J04', 'J05', 'J06', 'J36', 'F29'],\n",
       "  7,\n",
       "  123.04805801135079,\n",
       "  3.065125681688576),\n",
       " (['D2', 'J03', 'J04', 'J05', 'J06', 'J36', 'F30'],\n",
       "  7,\n",
       "  123.04805801135079,\n",
       "  3.065125681688576),\n",
       " (['D1', 'J09', 'J08', 'J07', 'Z04', 'J37', 'F31'],\n",
       "  7,\n",
       "  106.7117251625182,\n",
       "  3.0657037289042903),\n",
       " (['D2', 'J12', 'J13', 'J14', 'J15', 'J37', 'F32'],\n",
       "  7,\n",
       "  124.05655912762712,\n",
       "  3.1122182769710656),\n",
       " (['D1', 'J09', 'J08', 'J07', 'Z04', 'J37', 'F32'],\n",
       "  7,\n",
       "  108.44489452158939,\n",
       "  3.1234760408733298),\n",
       " (['D1', 'J09', 'J08', 'J07', 'J06', 'J36', 'F29'],\n",
       "  7,\n",
       "  120.69023872257792,\n",
       "  3.1726431937639807),\n",
       " (['D1', 'J09', 'J08', 'J07', 'J06', 'J36', 'F30'],\n",
       "  7,\n",
       "  120.69023872257792,\n",
       "  3.1726431937639807),\n",
       " (['D2', 'J12', 'J13', 'J14', 'J15', 'J37', 'F33'],\n",
       "  7,\n",
       "  126.81698712834759,\n",
       "  3.204232543661748),\n",
       " (['D1', 'J09', 'J08', 'J07', 'Z04', 'J37', 'F33'],\n",
       "  7,\n",
       "  111.20532252230986,\n",
       "  3.215490307564012),\n",
       " (['D1', 'J10', 'J45', 'J42', 'J40', 'F38'],\n",
       "  6,\n",
       "  99.7999727923149,\n",
       "  3.32666575974383),\n",
       " (['D1', 'J10', 'J45', 'J42', 'J40', 'F37'],\n",
       "  6,\n",
       "  101.58738862492248,\n",
       "  3.386246287497416),\n",
       " (['D1', 'J10', 'J45', 'J42', 'J40', 'F39'],\n",
       "  6,\n",
       "  102.15345329200142,\n",
       "  3.4051151097333805),\n",
       " (['D1', 'J11', 'J46', 'J44', 'Z05', 'J41', 'F40'],\n",
       "  7,\n",
       "  102.48321631634091,\n",
       "  3.4161072105446975),\n",
       " (['D2', 'J12', 'J13', 'J21', 'J22', 'J23', 'F07'],\n",
       "  7,\n",
       "  112.81638767155628,\n",
       "  3.4495621546601263),\n",
       " (['D1', 'Z03', 'J57', 'J58', 'J59', 'F54'],\n",
       "  6,\n",
       "  105.23791714682845,\n",
       "  3.5079305715609483),\n",
       " (['D1', 'J09', 'J08', 'J07', 'J06', 'J05', 'J49', 'F49'],\n",
       "  8,\n",
       "  150.8022524088389,\n",
       "  3.7495020341438234),\n",
       " (['D1', 'J09', 'J08', 'J07', 'J06', 'J05', 'J49', 'F48'],\n",
       "  8,\n",
       "  151.15044769954474,\n",
       "  3.761108543834018),\n",
       " (['D1', 'J10', 'J45', 'J42', 'J40', 'J39', 'F36'],\n",
       "  7,\n",
       "  114.58474666485182,\n",
       "  3.819491555495061),\n",
       " (['D1', 'Z03', 'J57', 'J54', 'J55', 'J53', 'F51'],\n",
       "  7,\n",
       "  115.14358737028421,\n",
       "  3.8381195790094744),\n",
       " (['D1', 'J09', 'J08', 'J07', 'J06', 'J05', 'J34', 'F26'],\n",
       "  8,\n",
       "  155.51793027578054,\n",
       "  3.9066912963752114),\n",
       " (['D1', 'Z03', 'J57', 'J58', 'J59', 'J62', 'F60'],\n",
       "  7,\n",
       "  127.5548571975899,\n",
       "  4.251828573252996),\n",
       " (['D1', 'Z03', 'J57', 'J58', 'J59', 'J62', 'F59'],\n",
       "  7,\n",
       "  130.15295549908464,\n",
       "  4.338431849969488),\n",
       " (['D1', 'J09', 'J08', 'J07', 'J06', 'J05', 'J34', 'J35', 'F27'],\n",
       "  9,\n",
       "  169.95191140783714,\n",
       "  4.387824000777098)]"
      ]
     },
     "execution_count": 231,
     "metadata": {},
     "output_type": "execute_result"
    }
   ],
   "source": [
    "C_L=sorted(C_L, key=itemgetter(3), reverse=False)\n",
    "C_L"
   ]
  },
  {
   "cell_type": "code",
   "execution_count": null,
   "metadata": {
    "collapsed": true
   },
   "outputs": [],
   "source": []
  },
  {
   "cell_type": "code",
   "execution_count": null,
   "metadata": {
    "collapsed": true
   },
   "outputs": [],
   "source": [
    "'''\n",
    "目前权值是以小时为单位的，所以最终结果需要转为分钟 即 * 60  \n",
    "d_f:表示所有24辆车的路径\n",
    "{车号:path}\n",
    "departure:表示每辆车的发车时间，出发时刻，分钟为单位\n",
    "{车号:时刻}\n",
    "f_z:{车号:path}\n",
    "z_f:{车号:path}\n",
    "'''\n",
    "departure,d_f,f_z,z_f={},{},{},{}\n",
    "targetTime,stage1,stage2=allConsum(departure,d_f,f_z,z_f)"
   ]
  },
  {
   "cell_type": "code",
   "execution_count": 237,
   "metadata": {
    "collapsed": false
   },
   "outputs": [
    {
     "data": {
      "text/plain": [
       "['C01',\n",
       " 'C02',\n",
       " 'C03',\n",
       " 'C04',\n",
       " 'C05',\n",
       " 'C06',\n",
       " 'C07',\n",
       " 'C08',\n",
       " 'C09',\n",
       " 'C10',\n",
       " 'C11',\n",
       " 'C12']"
      ]
     },
     "execution_count": 237,
     "metadata": {},
     "output_type": "execute_result"
    }
   ],
   "source": [
    "carC"
   ]
  },
  {
   "cell_type": "code",
   "execution_count": 239,
   "metadata": {
    "collapsed": false
   },
   "outputs": [],
   "source": [
    "d_f=dict()\n",
    "d_f['A01']=['D2', 'J32', 'F24']\n",
    "d_f['A02']=['D2', 'J12', 'J13', 'J21', 'F03']\n",
    "d_f['A03']=['D2', 'J03', 'J48', 'F47']\n",
    "d_f['A04']=['D1', 'J11', 'J46', 'F43']\n",
    "d_f['A05']=['D1', 'J09', 'J08', 'J07', 'J06', 'J36', 'F29']\n",
    "d_f['A06']=['D1', 'Z03', 'J61', 'F57']\n",
    "d_f['B01']=['D2', 'J03', 'J02', 'J47', 'F45']\n",
    "d_f['B02']=['D2', 'J03', 'J04', 'J05', 'J49', 'F49'],\n",
    "d_f['B03']=['D2', 'J12', 'J13', 'J21', 'F02']\n",
    "d_f['B04']=['D2', 'J12', 'J13', 'J21', 'F01']\n",
    "d_f['B05']=['D2', 'J03', 'J04', 'J05', 'J49', 'F48']\n",
    "d_f['B06']=['D1', 'J10', 'J45', 'J42', 'J40', 'F38']\n",
    "d_f['C01']=['D2', 'J32', 'J33', 'F25']\n",
    "d_f['C02']=['D2', 'J32', 'J33', 'J34', 'F26']\n",
    "d_f['C03']=['D2', 'J03', 'J04', 'J50', 'F50']\n",
    "d_f['C04']=['D2', 'J12', 'J13', 'J14', 'J35', 'F27']\n",
    "d_f['C05']=['D2', 'J12', 'J13', 'J14', 'J35', 'F28']\n",
    "d_f['C06']=['D1', 'Z03', 'J61', 'F58']\n",
    "d_f['C07']=['D1', 'J11', 'J46', 'J44', 'F42']\n",
    "d_f['C08']=['D1', 'J11', 'J46', 'J44', 'F41']\n",
    "d_f['C09']=['D2', 'J12', 'J13', 'J21', 'J22', 'F06']\n",
    "d_f['C010']=['D2', 'J03', 'J04', 'J50', 'J53', 'F51']\n",
    "d_f['C011']=['D2', 'J12', 'J13', 'J21', 'J22', 'F05']\n",
    "d_f['C012']=['D1', 'J09', 'J08', 'J07', 'Z04', 'J38', 'F34']"
   ]
  },
  {
   "cell_type": "code",
   "execution_count": 240,
   "metadata": {
    "collapsed": false,
    "scrolled": false
   },
   "outputs": [
    {
     "data": {
      "text/plain": [
       "{'A01': ['D2', 'J32', 'F24'],\n",
       " 'A02': ['D2', 'J12', 'J13', 'J21', 'F03'],\n",
       " 'A03': ['D2', 'J03', 'J48', 'F47'],\n",
       " 'A04': ['D1', 'J11', 'J46', 'F43'],\n",
       " 'A05': ['D1', 'J09', 'J08', 'J07', 'J06', 'J36', 'F29'],\n",
       " 'A06': ['D1', 'Z03', 'J61', 'F57'],\n",
       " 'B01': ['D2', 'J03', 'J02', 'J47', 'F45'],\n",
       " 'B02': (['D2', 'J03', 'J04', 'J05', 'J49', 'F49'],),\n",
       " 'B03': ['D2', 'J12', 'J13', 'J21', 'F02'],\n",
       " 'B04': ['D2', 'J12', 'J13', 'J21', 'F01'],\n",
       " 'B05': ['D2', 'J03', 'J04', 'J05', 'J49', 'F48'],\n",
       " 'B06': ['D1', 'J10', 'J45', 'J42', 'J40', 'F38'],\n",
       " 'C01': ['D2', 'J32', 'J33', 'F25'],\n",
       " 'C010': ['D2', 'J03', 'J04', 'J50', 'J53', 'F51'],\n",
       " 'C011': ['D2', 'J12', 'J13', 'J21', 'J22', 'F05'],\n",
       " 'C012': ['D1', 'J09', 'J08', 'J07', 'Z04', 'J38', 'F34'],\n",
       " 'C02': ['D2', 'J32', 'J33', 'J34', 'F26'],\n",
       " 'C03': ['D2', 'J03', 'J04', 'J50', 'F50'],\n",
       " 'C04': ['D2', 'J12', 'J13', 'J14', 'J35', 'F27'],\n",
       " 'C05': ['D2', 'J12', 'J13', 'J14', 'J35', 'F28'],\n",
       " 'C06': ['D1', 'Z03', 'J61', 'F58'],\n",
       " 'C07': ['D1', 'J11', 'J46', 'J44', 'F42'],\n",
       " 'C08': ['D1', 'J11', 'J46', 'J44', 'F41'],\n",
       " 'C09': ['D2', 'J12', 'J13', 'J21', 'J22', 'F06']}"
      ]
     },
     "execution_count": 240,
     "metadata": {},
     "output_type": "execute_result"
    }
   ],
   "source": [
    "d_f"
   ]
  },
  {
   "cell_type": "code",
   "execution_count": 249,
   "metadata": {
    "collapsed": false
   },
   "outputs": [
    {
     "data": {
      "text/plain": [
       "24.90872225635921"
      ]
     },
     "execution_count": 249,
     "metadata": {},
     "output_type": "execute_result"
    }
   ],
   "source": [
    "name='J32D2'\n",
    "(edgeDist[name][0]/45)*60"
   ]
  },
  {
   "cell_type": "code",
   "execution_count": 257,
   "metadata": {
    "collapsed": false
   },
   "outputs": [
    {
     "name": "stdout",
     "output_type": "stream",
     "text": [
      "True\n"
     ]
    }
   ],
   "source": [
    "if 'D2J32' not in edgeDist.keys():\n",
    "    print('J32D2' in edgeDist.keys())"
   ]
  },
  {
   "cell_type": "code",
   "execution_count": null,
   "metadata": {
    "collapsed": true
   },
   "outputs": [],
   "source": [
    "#path,物理距离计算\n",
    "def pathDistance(path):\n",
    "    res=[]\n",
    "    for i in range(len(path)-1):\n",
    "        a,b=path[i:i+2]\n",
    "        res.append(edgeDist.get(a+b)[0] if edgeDist.get(a+b,None) else edgeDist.get(b+a)[0])\n",
    "    return sum(res)"
   ]
  },
  {
   "cell_type": "code",
   "execution_count": 289,
   "metadata": {
    "collapsed": false
   },
   "outputs": [],
   "source": [
    "tmp_1=dict()\n",
    "for key,item in d_f.items():\n",
    "    if key[0]=='C':\n",
    "        tmp_1[key]=[0]\n",
    "        for i in range(len(item)-1):\n",
    "            a,b=item[i:i+2]\n",
    "            tmp_1[key].append((edgeDist.get(a+b)[0]/30)*60+tmp_1[key][i] if edgeDist.get(a+b,None) else (edgeDist.get(b+a)[0]/30)*60+tmp_1[key][i])\n",
    "    if key[0]=='B':\n",
    "        tmp_1[key]=[0]\n",
    "        for i in range(len(item)-1):\n",
    "            a,b=item[i:i+2]\n",
    "            tmp_1[key].append((edgeDist.get(a+b)[0]/35)*60+tmp_1[key][i] if edgeDist.get(a+b,None) else (edgeDist.get(b+a)[0]/35)*60+tmp_1[key][i])\n",
    "    if key[0]=='A':\n",
    "        tmp_1[key]=[0]\n",
    "        for i in range(len(item)-1):\n",
    "            a,b=item[i:i+2]\n",
    "            tmp_1[key].append((edgeDist.get(a+b)[0]/45)*60+tmp_1[key][i] if edgeDist.get(a+b,None) else (edgeDist.get(b+a)[0]/45)*60+tmp_1[key][i])"
   ]
  },
  {
   "cell_type": "code",
   "execution_count": 286,
   "metadata": {
    "collapsed": false
   },
   "outputs": [
    {
     "data": {
      "text/plain": [
       "[0, 37.36308338453881, 34.0, 20.396078054371138]"
      ]
     },
     "execution_count": 286,
     "metadata": {},
     "output_type": "execute_result"
    }
   ],
   "source": [
    "tmp_1['C01']"
   ]
  },
  {
   "cell_type": "code",
   "execution_count": 363,
   "metadata": {
    "collapsed": false
   },
   "outputs": [
    {
     "data": {
      "text/plain": [
       "{'A01': 0,\n",
       " 'A02': 0,\n",
       " 'A03': 0,\n",
       " 'A04': 0,\n",
       " 'A05': 0,\n",
       " 'A06': 0,\n",
       " 'B01': 0,\n",
       " 'B02': 0,\n",
       " 'B03': 0,\n",
       " 'B04': 0,\n",
       " 'B05': 0,\n",
       " 'B06': 0,\n",
       " 'C01': 0,\n",
       " 'C010': 0,\n",
       " 'C011': 0,\n",
       " 'C012': 0,\n",
       " 'C02': 0,\n",
       " 'C03': 0,\n",
       " 'C04': 0,\n",
       " 'C05': 0,\n",
       " 'C06': 0,\n",
       " 'C07': 0,\n",
       " 'C08': 0,\n",
       " 'C09': 0}"
      ]
     },
     "execution_count": 363,
     "metadata": {},
     "output_type": "execute_result"
    }
   ],
   "source": [
    "vv={k:v[0] for k,v in tmp_1.items()}\n",
    "vv"
   ]
  },
  {
   "cell_type": "code",
   "execution_count": 294,
   "metadata": {
    "collapsed": false
   },
   "outputs": [
    {
     "data": {
      "text/plain": [
       "91.75916143890996"
      ]
     },
     "execution_count": 294,
     "metadata": {},
     "output_type": "execute_result"
    }
   ],
   "source": [
    "0+ 37.36308338453881+34.0+20.396078054371138"
   ]
  },
  {
   "cell_type": "code",
   "execution_count": 367,
   "metadata": {
    "collapsed": false
   },
   "outputs": [
    {
     "name": "stdout",
     "output_type": "stream",
     "text": [
      "1\n",
      "1\n",
      "1\n",
      "1\n",
      "1\n",
      "1\n",
      "1\n",
      "1\n",
      "1\n",
      "1\n",
      "1\n",
      "1\n",
      "1\n",
      "1\n",
      "1\n",
      "1\n",
      "1\n"
     ]
    },
    {
     "ename": "IndexError",
     "evalue": "single positional indexer is out-of-bounds",
     "output_type": "error",
     "traceback": [
      "\u001b[1;31m---------------------------------------------------------------------------\u001b[0m",
      "\u001b[1;31mIndexError\u001b[0m                                Traceback (most recent call last)",
      "\u001b[1;32m<ipython-input-367-48ed2317f8f8>\u001b[0m in \u001b[0;36m<module>\u001b[1;34m()\u001b[0m\n\u001b[0;32m      9\u001b[0m '''\n\u001b[0;32m     10\u001b[0m \u001b[1;31m#stage1=stage1Consum(d_f,tmp_1)\u001b[0m\u001b[1;33m\u001b[0m\u001b[1;33m\u001b[0m\u001b[0m\n\u001b[1;32m---> 11\u001b[1;33m \u001b[0mstage1\u001b[0m\u001b[1;33m=\u001b[0m\u001b[0mstage1Consum\u001b[0m\u001b[1;33m(\u001b[0m\u001b[0md_f\u001b[0m\u001b[1;33m,\u001b[0m\u001b[0mvv\u001b[0m\u001b[1;33m)\u001b[0m\u001b[1;33m\u001b[0m\u001b[0m\n\u001b[0m",
      "\u001b[1;32m<ipython-input-354-222d0661bef3>\u001b[0m in \u001b[0;36mstage1Consum\u001b[1;34m(d_f, departure)\u001b[0m\n\u001b[0;32m     19\u001b[0m     \u001b[1;31m#To-do:发车次序纠错\u001b[0m\u001b[1;33m\u001b[0m\u001b[1;33m\u001b[0m\u001b[0m\n\u001b[0;32m     20\u001b[0m     \u001b[1;31m#重叠计算\u001b[0m\u001b[1;33m\u001b[0m\u001b[1;33m\u001b[0m\u001b[0m\n\u001b[1;32m---> 21\u001b[1;33m     \u001b[0mnewst1\u001b[0m\u001b[1;33m=\u001b[0m\u001b[0mstage1Meeting\u001b[0m\u001b[1;33m(\u001b[0m\u001b[0mstage1\u001b[0m\u001b[1;33m)\u001b[0m\u001b[1;31m#此处为范式，由于是可变式，所以newst1还是和原来的引用一样\u001b[0m\u001b[1;33m\u001b[0m\u001b[0m\n\u001b[0m\u001b[0;32m     22\u001b[0m     \u001b[1;31m#齐射罚时\u001b[0m\u001b[1;33m\u001b[0m\u001b[1;33m\u001b[0m\u001b[0m\n\u001b[0;32m     23\u001b[0m     \u001b[0mnewst1\u001b[0m\u001b[1;33m=\u001b[0m\u001b[0malignLaunch\u001b[0m\u001b[1;33m(\u001b[0m\u001b[0mnewst1\u001b[0m\u001b[1;33m)\u001b[0m\u001b[1;33m\u001b[0m\u001b[0m\n",
      "\u001b[1;32m<ipython-input-366-ff9980dc7b82>\u001b[0m in \u001b[0;36mstage1Meeting\u001b[1;34m(stage1)\u001b[0m\n\u001b[0;32m      5\u001b[0m     \u001b[1;32mfor\u001b[0m \u001b[0mcar\u001b[0m\u001b[1;33m,\u001b[0m\u001b[0mstate\u001b[0m \u001b[1;32min\u001b[0m \u001b[0mstage1\u001b[0m\u001b[1;33m.\u001b[0m\u001b[0mitems\u001b[0m\u001b[1;33m(\u001b[0m\u001b[1;33m)\u001b[0m\u001b[1;33m:\u001b[0m\u001b[1;33m\u001b[0m\u001b[0m\n\u001b[0;32m      6\u001b[0m         \u001b[0mprint\u001b[0m\u001b[1;33m(\u001b[0m\u001b[0mstate\u001b[0m\u001b[1;33m[\u001b[0m\u001b[1;34m\"当前位置\"\u001b[0m\u001b[1;33m]\u001b[0m\u001b[1;33m)\u001b[0m\u001b[1;33m\u001b[0m\u001b[0m\n\u001b[1;32m----> 7\u001b[1;33m         \u001b[0ma\u001b[0m\u001b[1;33m=\u001b[0m\u001b[0mstate\u001b[0m\u001b[1;33m[\u001b[0m\u001b[1;34m\"D-F时序\"\u001b[0m\u001b[1;33m]\u001b[0m\u001b[1;33m[\u001b[0m\u001b[1;34m\"位置\"\u001b[0m\u001b[1;33m]\u001b[0m\u001b[1;33m.\u001b[0m\u001b[0miloc\u001b[0m\u001b[1;33m[\u001b[0m\u001b[0mstate\u001b[0m\u001b[1;33m[\u001b[0m\u001b[1;34m\"当前位置\"\u001b[0m\u001b[1;33m]\u001b[0m\u001b[1;33m+\u001b[0m\u001b[1;36m1\u001b[0m\u001b[1;33m]\u001b[0m\u001b[1;33m\u001b[0m\u001b[0m\n\u001b[0m\u001b[0;32m      8\u001b[0m         \u001b[0mb\u001b[0m\u001b[1;33m=\u001b[0m\u001b[0mstate\u001b[0m\u001b[1;33m[\u001b[0m\u001b[1;34m\"发射点\"\u001b[0m\u001b[1;33m]\u001b[0m\u001b[1;33m\u001b[0m\u001b[0m\n\u001b[0;32m      9\u001b[0m         \u001b[1;32mif\u001b[0m \u001b[0ma\u001b[0m\u001b[1;33m!=\u001b[0m\u001b[0mb\u001b[0m\u001b[1;33m:\u001b[0m\u001b[1;33m\u001b[0m\u001b[0m\n",
      "\u001b[1;32mc:\\python35\\lib\\site-packages\\pandas\\core\\indexing.py\u001b[0m in \u001b[0;36m__getitem__\u001b[1;34m(self, key)\u001b[0m\n\u001b[0;32m   1310\u001b[0m             \u001b[1;32mreturn\u001b[0m \u001b[0mself\u001b[0m\u001b[1;33m.\u001b[0m\u001b[0m_getitem_tuple\u001b[0m\u001b[1;33m(\u001b[0m\u001b[0mkey\u001b[0m\u001b[1;33m)\u001b[0m\u001b[1;33m\u001b[0m\u001b[0m\n\u001b[0;32m   1311\u001b[0m         \u001b[1;32melse\u001b[0m\u001b[1;33m:\u001b[0m\u001b[1;33m\u001b[0m\u001b[0m\n\u001b[1;32m-> 1312\u001b[1;33m             \u001b[1;32mreturn\u001b[0m \u001b[0mself\u001b[0m\u001b[1;33m.\u001b[0m\u001b[0m_getitem_axis\u001b[0m\u001b[1;33m(\u001b[0m\u001b[0mkey\u001b[0m\u001b[1;33m,\u001b[0m \u001b[0maxis\u001b[0m\u001b[1;33m=\u001b[0m\u001b[1;36m0\u001b[0m\u001b[1;33m)\u001b[0m\u001b[1;33m\u001b[0m\u001b[0m\n\u001b[0m\u001b[0;32m   1313\u001b[0m \u001b[1;33m\u001b[0m\u001b[0m\n\u001b[0;32m   1314\u001b[0m     \u001b[1;32mdef\u001b[0m \u001b[0m_getitem_axis\u001b[0m\u001b[1;33m(\u001b[0m\u001b[0mself\u001b[0m\u001b[1;33m,\u001b[0m \u001b[0mkey\u001b[0m\u001b[1;33m,\u001b[0m \u001b[0maxis\u001b[0m\u001b[1;33m=\u001b[0m\u001b[1;36m0\u001b[0m\u001b[1;33m)\u001b[0m\u001b[1;33m:\u001b[0m\u001b[1;33m\u001b[0m\u001b[0m\n",
      "\u001b[1;32mc:\\python35\\lib\\site-packages\\pandas\\core\\indexing.py\u001b[0m in \u001b[0;36m_getitem_axis\u001b[1;34m(self, key, axis)\u001b[0m\n\u001b[0;32m   1626\u001b[0m \u001b[1;33m\u001b[0m\u001b[0m\n\u001b[0;32m   1627\u001b[0m                 \u001b[1;31m# validate the location\u001b[0m\u001b[1;33m\u001b[0m\u001b[1;33m\u001b[0m\u001b[0m\n\u001b[1;32m-> 1628\u001b[1;33m                 \u001b[0mself\u001b[0m\u001b[1;33m.\u001b[0m\u001b[0m_is_valid_integer\u001b[0m\u001b[1;33m(\u001b[0m\u001b[0mkey\u001b[0m\u001b[1;33m,\u001b[0m \u001b[0maxis\u001b[0m\u001b[1;33m)\u001b[0m\u001b[1;33m\u001b[0m\u001b[0m\n\u001b[0m\u001b[0;32m   1629\u001b[0m \u001b[1;33m\u001b[0m\u001b[0m\n\u001b[0;32m   1630\u001b[0m             \u001b[1;32mreturn\u001b[0m \u001b[0mself\u001b[0m\u001b[1;33m.\u001b[0m\u001b[0m_get_loc\u001b[0m\u001b[1;33m(\u001b[0m\u001b[0mkey\u001b[0m\u001b[1;33m,\u001b[0m \u001b[0maxis\u001b[0m\u001b[1;33m=\u001b[0m\u001b[0maxis\u001b[0m\u001b[1;33m)\u001b[0m\u001b[1;33m\u001b[0m\u001b[0m\n",
      "\u001b[1;32mc:\\python35\\lib\\site-packages\\pandas\\core\\indexing.py\u001b[0m in \u001b[0;36m_is_valid_integer\u001b[1;34m(self, key, axis)\u001b[0m\n\u001b[0;32m   1540\u001b[0m         \u001b[0ml\u001b[0m \u001b[1;33m=\u001b[0m \u001b[0mlen\u001b[0m\u001b[1;33m(\u001b[0m\u001b[0max\u001b[0m\u001b[1;33m)\u001b[0m\u001b[1;33m\u001b[0m\u001b[0m\n\u001b[0;32m   1541\u001b[0m         \u001b[1;32mif\u001b[0m \u001b[0mkey\u001b[0m \u001b[1;33m>=\u001b[0m \u001b[0ml\u001b[0m \u001b[1;32mor\u001b[0m \u001b[0mkey\u001b[0m \u001b[1;33m<\u001b[0m \u001b[1;33m-\u001b[0m\u001b[0ml\u001b[0m\u001b[1;33m:\u001b[0m\u001b[1;33m\u001b[0m\u001b[0m\n\u001b[1;32m-> 1542\u001b[1;33m             \u001b[1;32mraise\u001b[0m \u001b[0mIndexError\u001b[0m\u001b[1;33m(\u001b[0m\u001b[1;34m\"single positional indexer is out-of-bounds\"\u001b[0m\u001b[1;33m)\u001b[0m\u001b[1;33m\u001b[0m\u001b[0m\n\u001b[0m\u001b[0;32m   1543\u001b[0m         \u001b[1;32mreturn\u001b[0m \u001b[1;32mTrue\u001b[0m\u001b[1;33m\u001b[0m\u001b[0m\n\u001b[0;32m   1544\u001b[0m \u001b[1;33m\u001b[0m\u001b[0m\n",
      "\u001b[1;31mIndexError\u001b[0m: single positional indexer is out-of-bounds"
     ]
    }
   ],
   "source": [
    "'''\n",
    "目前权值是以小时为单位的，所以最终结果需要转为分钟 即 * 60  \n",
    "d_f:表示所有24辆车的路径\n",
    "{车号:path}\n",
    "departure:表示每辆车的发车时间，出发时刻，分钟为单位\n",
    "{车号:时刻}\n",
    "f_z:{车号:path}\n",
    "z_f:{车号:path}\n",
    "'''\n",
    "#stage1=stage1Consum(d_f,tmp_1)\n",
    "stage1=stage1Consum(d_f,vv)"
   ]
  },
  {
   "cell_type": "code",
   "execution_count": null,
   "metadata": {
    "collapsed": true
   },
   "outputs": [],
   "source": []
  },
  {
   "cell_type": "code",
   "execution_count": null,
   "metadata": {
    "collapsed": true
   },
   "outputs": [],
   "source": []
  },
  {
   "cell_type": "code",
   "execution_count": null,
   "metadata": {
    "collapsed": true
   },
   "outputs": [],
   "source": []
  },
  {
   "cell_type": "code",
   "execution_count": null,
   "metadata": {
    "collapsed": true
   },
   "outputs": [],
   "source": []
  },
  {
   "cell_type": "code",
   "execution_count": 318,
   "metadata": {
    "collapsed": true,
    "deletable": true,
    "editable": true
   },
   "outputs": [],
   "source": [
    "vv=generDF(v,'A')"
   ]
  },
  {
   "cell_type": "code",
   "execution_count": 319,
   "metadata": {
    "collapsed": true,
    "deletable": true,
    "editable": true
   },
   "outputs": [],
   "source": [
    "vv.loc[2,'耗时']=8"
   ]
  },
  {
   "cell_type": "code",
   "execution_count": 320,
   "metadata": {
    "collapsed": true,
    "deletable": true,
    "editable": true
   },
   "outputs": [
    {
     "data": {
      "text/html": [
       "<div>\n",
       "<style>\n",
       "    .dataframe thead tr:only-child th {\n",
       "        text-align: right;\n",
       "    }\n",
       "\n",
       "    .dataframe thead th {\n",
       "        text-align: left;\n",
       "    }\n",
       "\n",
       "    .dataframe tbody tr th {\n",
       "        vertical-align: top;\n",
       "    }\n",
       "</style>\n",
       "<table border=\"1\" class=\"dataframe\">\n",
       "  <thead>\n",
       "    <tr style=\"text-align: right;\">\n",
       "      <th></th>\n",
       "      <th>位置</th>\n",
       "      <th>类型</th>\n",
       "      <th>耗时</th>\n",
       "    </tr>\n",
       "  </thead>\n",
       "  <tbody>\n",
       "    <tr>\n",
       "      <th>0</th>\n",
       "      <td>D2</td>\n",
       "      <td>node</td>\n",
       "      <td>0.000000</td>\n",
       "    </tr>\n",
       "    <tr>\n",
       "      <th>1</th>\n",
       "      <td>(D2, J12)</td>\n",
       "      <td>edge</td>\n",
       "      <td>32.468788</td>\n",
       "    </tr>\n",
       "    <tr>\n",
       "      <th>2</th>\n",
       "      <td>J12</td>\n",
       "      <td>node</td>\n",
       "      <td>8.000000</td>\n",
       "    </tr>\n",
       "    <tr>\n",
       "      <th>3</th>\n",
       "      <td>(J12, J13)</td>\n",
       "      <td>edge</td>\n",
       "      <td>19.991835</td>\n",
       "    </tr>\n",
       "    <tr>\n",
       "      <th>4</th>\n",
       "      <td>J13</td>\n",
       "      <td>node</td>\n",
       "      <td>0.000000</td>\n",
       "    </tr>\n",
       "    <tr>\n",
       "      <th>5</th>\n",
       "      <td>(J13, J14)</td>\n",
       "      <td>edge</td>\n",
       "      <td>14.058188</td>\n",
       "    </tr>\n",
       "    <tr>\n",
       "      <th>6</th>\n",
       "      <td>J14</td>\n",
       "      <td>node</td>\n",
       "      <td>0.000000</td>\n",
       "    </tr>\n",
       "    <tr>\n",
       "      <th>7</th>\n",
       "      <td>(J14, J15)</td>\n",
       "      <td>edge</td>\n",
       "      <td>31.714286</td>\n",
       "    </tr>\n",
       "    <tr>\n",
       "      <th>8</th>\n",
       "      <td>J15</td>\n",
       "      <td>node</td>\n",
       "      <td>0.000000</td>\n",
       "    </tr>\n",
       "    <tr>\n",
       "      <th>9</th>\n",
       "      <td>(J15, J16)</td>\n",
       "      <td>edge</td>\n",
       "      <td>21.953569</td>\n",
       "    </tr>\n",
       "    <tr>\n",
       "      <th>10</th>\n",
       "      <td>J16</td>\n",
       "      <td>node</td>\n",
       "      <td>0.000000</td>\n",
       "    </tr>\n",
       "    <tr>\n",
       "      <th>11</th>\n",
       "      <td>(J16, J39)</td>\n",
       "      <td>edge</td>\n",
       "      <td>20.352450</td>\n",
       "    </tr>\n",
       "    <tr>\n",
       "      <th>12</th>\n",
       "      <td>J39</td>\n",
       "      <td>node</td>\n",
       "      <td>0.000000</td>\n",
       "    </tr>\n",
       "    <tr>\n",
       "      <th>13</th>\n",
       "      <td>(J39, J40)</td>\n",
       "      <td>edge</td>\n",
       "      <td>20.308728</td>\n",
       "    </tr>\n",
       "    <tr>\n",
       "      <th>14</th>\n",
       "      <td>J40</td>\n",
       "      <td>node</td>\n",
       "      <td>0.000000</td>\n",
       "    </tr>\n",
       "    <tr>\n",
       "      <th>15</th>\n",
       "      <td>(J40, F38)</td>\n",
       "      <td>edge</td>\n",
       "      <td>13.727507</td>\n",
       "    </tr>\n",
       "    <tr>\n",
       "      <th>16</th>\n",
       "      <td>F38</td>\n",
       "      <td>node</td>\n",
       "      <td>0.000000</td>\n",
       "    </tr>\n",
       "  </tbody>\n",
       "</table>\n",
       "</div>"
      ],
      "text/plain": [
       "            位置    类型         耗时\n",
       "0           D2  node   0.000000\n",
       "1    (D2, J12)  edge  32.468788\n",
       "2          J12  node   8.000000\n",
       "3   (J12, J13)  edge  19.991835\n",
       "4          J13  node   0.000000\n",
       "5   (J13, J14)  edge  14.058188\n",
       "6          J14  node   0.000000\n",
       "7   (J14, J15)  edge  31.714286\n",
       "8          J15  node   0.000000\n",
       "9   (J15, J16)  edge  21.953569\n",
       "10         J16  node   0.000000\n",
       "11  (J16, J39)  edge  20.352450\n",
       "12         J39  node   0.000000\n",
       "13  (J39, J40)  edge  20.308728\n",
       "14         J40  node   0.000000\n",
       "15  (J40, F38)  edge  13.727507\n",
       "16         F38  node   0.000000"
      ]
     },
     "execution_count": 320,
     "metadata": {},
     "output_type": "execute_result"
    }
   ],
   "source": [
    "vv"
   ]
  },
  {
   "cell_type": "code",
   "execution_count": 305,
   "metadata": {
    "collapsed": false,
    "deletable": true,
    "editable": true
   },
   "outputs": [
    {
     "data": {
      "text/plain": [
       "'edge'"
      ]
     },
     "execution_count": 305,
     "metadata": {},
     "output_type": "execute_result"
    }
   ],
   "source": [
    "vv.iloc[1]['类型']"
   ]
  }
 ],
 "metadata": {
  "kernelspec": {
   "display_name": "Python 3",
   "language": "python",
   "name": "python3"
  },
  "language_info": {
   "codemirror_mode": {
    "name": "ipython",
    "version": 3
   },
   "file_extension": ".py",
   "mimetype": "text/x-python",
   "name": "python",
   "nbconvert_exporter": "python",
   "pygments_lexer": "ipython3",
   "version": "3.5.2"
  }
 },
 "nbformat": 4,
 "nbformat_minor": 2
}
