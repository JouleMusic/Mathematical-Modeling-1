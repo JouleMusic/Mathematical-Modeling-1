{
 "cells": [
  {
   "cell_type": "code",
   "execution_count": 1,
   "metadata": {
    "collapsed": true,
    "deletable": true,
    "editable": true
   },
   "outputs": [],
   "source": [
    "%matplotlib inline\n",
    "from operator import itemgetter\n",
    "import numpy as np\n",
    "import matplotlib.pyplot as plt\n",
    "import pandas as pd\n",
    "df=lambda x: pd.DataFrame(x)"
   ]
  },
  {
   "cell_type": "code",
   "execution_count": 2,
   "metadata": {
    "collapsed": true,
    "deletable": true,
    "editable": true
   },
   "outputs": [],
   "source": [
    "oo=np.array([np.random.random_sample() for x in range(64)])"
   ]
  },
  {
   "cell_type": "code",
   "execution_count": 3,
   "metadata": {
    "collapsed": true,
    "deletable": true,
    "editable": true
   },
   "outputs": [],
   "source": [
    "oo=oo.reshape([8,8])"
   ]
  },
  {
   "cell_type": "code",
   "execution_count": 4,
   "metadata": {
    "collapsed": false,
    "deletable": true,
    "editable": true
   },
   "outputs": [
    {
     "data": {
      "text/html": [
       "<div>\n",
       "<table border=\"1\" class=\"dataframe\">\n",
       "  <thead>\n",
       "    <tr style=\"text-align: right;\">\n",
       "      <th></th>\n",
       "      <th>0</th>\n",
       "      <th>1</th>\n",
       "      <th>2</th>\n",
       "      <th>3</th>\n",
       "      <th>4</th>\n",
       "      <th>5</th>\n",
       "      <th>6</th>\n",
       "      <th>7</th>\n",
       "    </tr>\n",
       "  </thead>\n",
       "  <tbody>\n",
       "    <tr>\n",
       "      <th>0</th>\n",
       "      <td>0.758712</td>\n",
       "      <td>0.244118</td>\n",
       "      <td>0.970029</td>\n",
       "      <td>0.098429</td>\n",
       "      <td>0.742530</td>\n",
       "      <td>0.119441</td>\n",
       "      <td>0.383786</td>\n",
       "      <td>0.215677</td>\n",
       "    </tr>\n",
       "    <tr>\n",
       "      <th>1</th>\n",
       "      <td>0.014468</td>\n",
       "      <td>0.728527</td>\n",
       "      <td>0.398069</td>\n",
       "      <td>0.681757</td>\n",
       "      <td>0.212436</td>\n",
       "      <td>0.470291</td>\n",
       "      <td>0.354671</td>\n",
       "      <td>0.937941</td>\n",
       "    </tr>\n",
       "    <tr>\n",
       "      <th>2</th>\n",
       "      <td>0.048175</td>\n",
       "      <td>0.675015</td>\n",
       "      <td>0.721274</td>\n",
       "      <td>0.964565</td>\n",
       "      <td>0.901043</td>\n",
       "      <td>0.403402</td>\n",
       "      <td>0.650767</td>\n",
       "      <td>0.209396</td>\n",
       "    </tr>\n",
       "    <tr>\n",
       "      <th>3</th>\n",
       "      <td>0.456551</td>\n",
       "      <td>0.459566</td>\n",
       "      <td>0.170456</td>\n",
       "      <td>0.524326</td>\n",
       "      <td>0.246128</td>\n",
       "      <td>0.012643</td>\n",
       "      <td>0.009475</td>\n",
       "      <td>0.479678</td>\n",
       "    </tr>\n",
       "    <tr>\n",
       "      <th>4</th>\n",
       "      <td>0.719056</td>\n",
       "      <td>0.642518</td>\n",
       "      <td>0.712252</td>\n",
       "      <td>0.602465</td>\n",
       "      <td>0.533440</td>\n",
       "      <td>0.963829</td>\n",
       "      <td>0.318315</td>\n",
       "      <td>0.317158</td>\n",
       "    </tr>\n",
       "    <tr>\n",
       "      <th>5</th>\n",
       "      <td>0.556159</td>\n",
       "      <td>0.064858</td>\n",
       "      <td>0.219315</td>\n",
       "      <td>0.727926</td>\n",
       "      <td>0.397644</td>\n",
       "      <td>0.787072</td>\n",
       "      <td>0.193681</td>\n",
       "      <td>0.815757</td>\n",
       "    </tr>\n",
       "    <tr>\n",
       "      <th>6</th>\n",
       "      <td>0.871911</td>\n",
       "      <td>0.727401</td>\n",
       "      <td>0.816466</td>\n",
       "      <td>0.360470</td>\n",
       "      <td>0.110320</td>\n",
       "      <td>0.867005</td>\n",
       "      <td>0.602430</td>\n",
       "      <td>0.578858</td>\n",
       "    </tr>\n",
       "    <tr>\n",
       "      <th>7</th>\n",
       "      <td>0.174233</td>\n",
       "      <td>0.261232</td>\n",
       "      <td>0.848878</td>\n",
       "      <td>0.465919</td>\n",
       "      <td>0.826880</td>\n",
       "      <td>0.664979</td>\n",
       "      <td>0.889450</td>\n",
       "      <td>0.384607</td>\n",
       "    </tr>\n",
       "  </tbody>\n",
       "</table>\n",
       "</div>"
      ],
      "text/plain": [
       "          0         1         2         3         4         5         6  \\\n",
       "0  0.758712  0.244118  0.970029  0.098429  0.742530  0.119441  0.383786   \n",
       "1  0.014468  0.728527  0.398069  0.681757  0.212436  0.470291  0.354671   \n",
       "2  0.048175  0.675015  0.721274  0.964565  0.901043  0.403402  0.650767   \n",
       "3  0.456551  0.459566  0.170456  0.524326  0.246128  0.012643  0.009475   \n",
       "4  0.719056  0.642518  0.712252  0.602465  0.533440  0.963829  0.318315   \n",
       "5  0.556159  0.064858  0.219315  0.727926  0.397644  0.787072  0.193681   \n",
       "6  0.871911  0.727401  0.816466  0.360470  0.110320  0.867005  0.602430   \n",
       "7  0.174233  0.261232  0.848878  0.465919  0.826880  0.664979  0.889450   \n",
       "\n",
       "          7  \n",
       "0  0.215677  \n",
       "1  0.937941  \n",
       "2  0.209396  \n",
       "3  0.479678  \n",
       "4  0.317158  \n",
       "5  0.815757  \n",
       "6  0.578858  \n",
       "7  0.384607  "
      ]
     },
     "execution_count": 4,
     "metadata": {},
     "output_type": "execute_result"
    }
   ],
   "source": [
    "df(oo)"
   ]
  },
  {
   "cell_type": "code",
   "execution_count": 5,
   "metadata": {
    "collapsed": false,
    "deletable": true,
    "editable": true
   },
   "outputs": [
    {
     "data": {
      "text/plain": [
       "<matplotlib.image.AxesImage at 0x873a2e8>"
      ]
     },
     "execution_count": 5,
     "metadata": {},
     "output_type": "execute_result"
    },
    {
     "data": {
      "image/png": "[encoded data removed]",
      "text/plain": [
       "<matplotlib.figure.Figure at 0x497b588>"
      ]
     },
     "metadata": {},
     "output_type": "display_data"
    }
   ],
   "source": [
    "plt.imshow(oo)"
   ]
  },
  {
   "cell_type": "code",
   "execution_count": 6,
   "metadata": {
    "collapsed": true,
    "deletable": true,
    "editable": true
   },
   "outputs": [],
   "source": [
    "import pandas as pd"
   ]
  },
  {
   "cell_type": "code",
   "execution_count": 7,
   "metadata": {
    "collapsed": true,
    "deletable": true,
    "editable": true
   },
   "outputs": [],
   "source": [
    "rr=pd.read_excel('data/e-loc.xls')"
   ]
  },
  {
   "cell_type": "code",
   "execution_count": 8,
   "metadata": {
    "collapsed": true,
    "deletable": true,
    "editable": true
   },
   "outputs": [],
   "source": [
    "#距离函数\n",
    "import math\n",
    "#a:(x,y)\n",
    "def distance(a,b):\n",
    "    return math.sqrt((a[0]-b[0])**2+(a[1]-b[1])**2)"
   ]
  },
  {
   "cell_type": "code",
   "execution_count": 9,
   "metadata": {
    "collapsed": true,
    "deletable": true,
    "editable": true
   },
   "outputs": [],
   "source": [
    "#-全局变量\n",
    "node=pd.read_csv('data/node.CSV',header=None)\n",
    "node={name:(x,y) for i,(name,x,y) in node.iterrows()}"
   ]
  },
  {
   "cell_type": "code",
   "execution_count": 10,
   "metadata": {
    "collapsed": false,
    "deletable": true,
    "editable": true
   },
   "outputs": [
    {
     "data": {
      "text/plain": [
       "(7, 105)"
      ]
     },
     "execution_count": 10,
     "metadata": {},
     "output_type": "execute_result"
    }
   ],
   "source": [
    "#表示坐标，单位km\n",
    "node['F16']"
   ]
  },
  {
   "cell_type": "code",
   "execution_count": 11,
   "metadata": {
    "collapsed": true,
    "deletable": true,
    "editable": true
   },
   "outputs": [],
   "source": [
    "#-全局变量\n",
    "edge=pd.read_csv('data/bian.CSV',header=None)\n",
    "edge=[(f,t) for i,(f,t) in edge.iterrows()]"
   ]
  },
  {
   "cell_type": "code",
   "execution_count": 12,
   "metadata": {
    "collapsed": false,
    "deletable": true,
    "editable": true
   },
   "outputs": [
    {
     "data": {
      "text/plain": [
       "('F14', 'J27')"
      ]
     },
     "execution_count": 12,
     "metadata": {},
     "output_type": "execute_result"
    }
   ],
   "source": [
    "#表示边对\n",
    "edge[2]"
   ]
  },
  {
   "cell_type": "code",
   "execution_count": 13,
   "metadata": {
    "collapsed": true,
    "deletable": true,
    "editable": true
   },
   "outputs": [],
   "source": [
    "#主干道-全局变量\n",
    "edge_zhu=pd.read_csv('data/bian-zhu.CSV',header=None)\n",
    "edge_zhu=[(f,t) for i,(f,t) in edge_zhu.iterrows()]"
   ]
  },
  {
   "cell_type": "code",
   "execution_count": 14,
   "metadata": {
    "collapsed": true,
    "deletable": true,
    "editable": true
   },
   "outputs": [],
   "source": [
    "#非主干道-全局变量\n",
    "edge_nor=pd.read_csv('data/bian-nor.CSV',header=None)\n",
    "edge_nor=[(f,t) for i,(f,t) in edge_nor.iterrows()]"
   ]
  },
  {
   "cell_type": "code",
   "execution_count": 15,
   "metadata": {
    "collapsed": false,
    "deletable": true,
    "editable": true
   },
   "outputs": [
    {
     "data": {
      "text/plain": [
       "True"
      ]
     },
     "execution_count": 15,
     "metadata": {},
     "output_type": "execute_result"
    }
   ],
   "source": [
    "len(edge_nor)+len(edge_zhu)==len(edge)"
   ]
  },
  {
   "cell_type": "code",
   "execution_count": 16,
   "metadata": {
    "collapsed": true,
    "deletable": true,
    "editable": true
   },
   "outputs": [],
   "source": [
    "#表示边的距离，单位km，id按edge数组顺序\n",
    "bianDist={i:(distance(node[e[0]],node[e[1]]),e[0],e[1]) for i,e in enumerate(edge)}"
   ]
  },
  {
   "cell_type": "code",
   "execution_count": 17,
   "metadata": {
    "collapsed": false,
    "deletable": true,
    "editable": true
   },
   "outputs": [
    {
     "data": {
      "text/plain": [
       "(11.40175425099138, 'F16', 'J27')"
      ]
     },
     "execution_count": 17,
     "metadata": {},
     "output_type": "execute_result"
    }
   ],
   "source": [
    "bianDist[0]"
   ]
  },
  {
   "cell_type": "code",
   "execution_count": 18,
   "metadata": {
    "collapsed": true,
    "deletable": true,
    "editable": true
   },
   "outputs": [],
   "source": [
    "edgeDist={e[0]+e[1]:(distance(node[e[0]],node[e[1]]),e[0],e[1]) for i,e in enumerate(edge)}"
   ]
  },
  {
   "cell_type": "code",
   "execution_count": null,
   "metadata": {
    "collapsed": false,
    "deletable": true,
    "editable": true
   },
   "outputs": [],
   "source": [
    "edgeDist"
   ]
  },
  {
   "cell_type": "code",
   "execution_count": 19,
   "metadata": {
    "collapsed": false,
    "deletable": true,
    "editable": true
   },
   "outputs": [
    {
     "data": {
      "text/plain": [
       "(40.26164427839479, 6.324555320336759)"
      ]
     },
     "execution_count": 19,
     "metadata": {},
     "output_type": "execute_result"
    }
   ],
   "source": [
    "#最大，最小 距离\n",
    "max([d for d,f,t in bianDist.values()]),min([d for d,f,t in bianDist.values()])"
   ]
  },
  {
   "cell_type": "code",
   "execution_count": 20,
   "metadata": {
    "collapsed": true,
    "deletable": true,
    "editable": true
   },
   "outputs": [],
   "source": [
    "import networkx as nx"
   ]
  },
  {
   "cell_type": "code",
   "execution_count": 21,
   "metadata": {
    "collapsed": true,
    "deletable": true,
    "editable": true,
    "scrolled": true
   },
   "outputs": [],
   "source": [
    "#建立图模型-全局变量\n",
    "G = nx.Graph()\n",
    "G.add_nodes_from(list(node.keys()))\n",
    "G.add_edges_from(edge_nor,{\"主干道\":False,\"容量\":1})\n",
    "G.add_edges_from(edge_zhu,{\"主干道\":True,\"容量\":2})"
   ]
  },
  {
   "cell_type": "code",
   "execution_count": 22,
   "metadata": {
    "collapsed": true,
    "deletable": true,
    "editable": true
   },
   "outputs": [],
   "source": [
    "for e in G.edges_iter():\n",
    "    G.add_edge(e[0],e[1],{'物理距离':distance(node[e[0]],node[e[1]])})"
   ]
  },
  {
   "cell_type": "code",
   "execution_count": 23,
   "metadata": {
    "collapsed": true,
    "deletable": true,
    "editable": true
   },
   "outputs": [],
   "source": [
    "#建立多边图模型\n",
    "MG = nx.MultiGraph()\n",
    "MG.add_nodes_from(list(node.keys()))\n",
    "MG.add_edges_from(edge_nor,{\"主干道\":False})\n",
    "MG.add_edges_from(edge_zhu,{\"主干道\":True})\n",
    "MG.add_edges_from(edge_zhu,{\"主干道\":True})"
   ]
  },
  {
   "cell_type": "code",
   "execution_count": 24,
   "metadata": {
    "collapsed": false,
    "deletable": true,
    "editable": true
   },
   "outputs": [
    {
     "data": {
      "text/plain": [
       "174"
      ]
     },
     "execution_count": 24,
     "metadata": {},
     "output_type": "execute_result"
    }
   ],
   "source": [
    "len(G.edges())"
   ]
  },
  {
   "cell_type": "code",
   "execution_count": 25,
   "metadata": {
    "collapsed": false,
    "deletable": true,
    "editable": true
   },
   "outputs": [
    {
     "data": {
      "text/plain": [
       "18"
      ]
     },
     "execution_count": 25,
     "metadata": {},
     "output_type": "execute_result"
    }
   ],
   "source": [
    "len(edge_zhu)"
   ]
  },
  {
   "cell_type": "code",
   "execution_count": 26,
   "metadata": {
    "collapsed": false,
    "deletable": true,
    "editable": true
   },
   "outputs": [
    {
     "data": {
      "text/plain": [
       "192"
      ]
     },
     "execution_count": 26,
     "metadata": {},
     "output_type": "execute_result"
    }
   ],
   "source": [
    "len(MG.edges())"
   ]
  },
  {
   "cell_type": "code",
   "execution_count": 27,
   "metadata": {
    "collapsed": true,
    "deletable": true,
    "editable": true
   },
   "outputs": [],
   "source": [
    "G备份=G.copy()"
   ]
  },
  {
   "cell_type": "code",
   "execution_count": 28,
   "metadata": {
    "collapsed": false,
    "deletable": true,
    "editable": true
   },
   "outputs": [],
   "source": [
    "#导出可视化所需邻接表\n",
    "s=nx.adjacency_matrix(G备份,G.nodes())\n",
    "ss=pd.DataFrame(s.toarray(),index=G.nodes(),columns=G.nodes())\n",
    "ss.to_excel(\"n2.xls\")"
   ]
  },
  {
   "cell_type": "code",
   "execution_count": 219,
   "metadata": {
    "collapsed": true,
    "deletable": true,
    "editable": true
   },
   "outputs": [],
   "source": [
    "#键值对式序列化库V1\n",
    "PICKLE_PATH='./G备份.pick'\n",
    "import shelve\n",
    "\n",
    "def set_pickle(k='temp',v=''):\n",
    "    with shelve.open(PICKLE_PATH) as file:\n",
    "        file[k]=v\n",
    "\n",
    "def get_pickle(k):\n",
    "    if k is None:\n",
    "        return False\n",
    "    with shelve.open(PICKLE_PATH) as file:\n",
    "        try:\n",
    "            v=file[k]\n",
    "        except KeyError:\n",
    "            return None\n",
    "        else:\n",
    "            return v"
   ]
  },
  {
   "cell_type": "code",
   "execution_count": 30,
   "metadata": {
    "collapsed": true,
    "deletable": true,
    "editable": true
   },
   "outputs": [],
   "source": [
    "set_pickle('v1',G备份)"
   ]
  },
  {
   "cell_type": "code",
   "execution_count": 31,
   "metadata": {
    "collapsed": true,
    "deletable": true,
    "editable": true
   },
   "outputs": [],
   "source": [
    "#节点分类-全局变量\n",
    "D,F,Z,J=[],[],[],[]\n",
    "for i in G.nodes_iter():\n",
    "    if i[0]=='D':\n",
    "        D.append(i)\n",
    "    if i[0]=='F':\n",
    "        F.append(i)\n",
    "    if i[0]=='Z':\n",
    "        Z.append(i)\n",
    "    if i[0]=='J':\n",
    "        J.append(i)"
   ]
  },
  {
   "cell_type": "code",
   "execution_count": 32,
   "metadata": {
    "collapsed": true,
    "deletable": true,
    "editable": true
   },
   "outputs": [],
   "source": [
    "for i in G.nodes_iter():\n",
    "    if i[0]=='D':\n",
    "        G.add_node(i,{'类型':'待机'})\n",
    "    if i[0]=='F':\n",
    "        G.add_node(i,{'类型':'发射'})\n",
    "    if i[0]=='Z':\n",
    "        G.add_node(i,{'类型':'转载'})\n",
    "    if i[0]=='J':\n",
    "        G.add_node(i,{'类型':'路口'})"
   ]
  },
  {
   "cell_type": "code",
   "execution_count": 33,
   "metadata": {
    "collapsed": false,
    "deletable": true,
    "editable": true
   },
   "outputs": [
    {
     "data": {
      "text/plain": [
       "{'主干道': False, '容量': 1, '物理距离': 40.26164427839479}"
      ]
     },
     "execution_count": 33,
     "metadata": {},
     "output_type": "execute_result"
    }
   ],
   "source": [
    "#边属性读取\n",
    "G.edge['J02']['D2']"
   ]
  },
  {
   "cell_type": "code",
   "execution_count": 34,
   "metadata": {
    "collapsed": false,
    "deletable": true,
    "editable": true
   },
   "outputs": [
    {
     "data": {
      "text/plain": [
       "{0: {'主干道': False}}"
      ]
     },
     "execution_count": 34,
     "metadata": {},
     "output_type": "execute_result"
    }
   ],
   "source": [
    "#MG边属性读取\n",
    "MG.edge['J02']['D2']"
   ]
  },
  {
   "cell_type": "code",
   "execution_count": 35,
   "metadata": {
    "collapsed": false,
    "deletable": true,
    "editable": true
   },
   "outputs": [
    {
     "data": {
      "text/plain": [
       "{'J28': {'主干道': False, '容量': 1, '物理距离': 8.06225774829855}}"
      ]
     },
     "execution_count": 35,
     "metadata": {},
     "output_type": "execute_result"
    }
   ],
   "source": [
    "G['F19']"
   ]
  },
  {
   "cell_type": "code",
   "execution_count": 36,
   "metadata": {
    "collapsed": true,
    "deletable": true,
    "editable": true
   },
   "outputs": [],
   "source": [
    "#D1,D2需要一个路径表，分情况讨论\n",
    "#物理距离前几-及对应 F\n",
    "#结合车类型和道路类型耗时前几-及对应 F\n",
    "\n",
    "#Z也需要，及对应 F\n",
    "\n",
    "#从而追加参数 超级短路径(共现于 D-F,F-Z )\n",
    "#以及 F-Z 这个路径表，存在两个方向的使用。 "
   ]
  },
  {
   "cell_type": "code",
   "execution_count": 37,
   "metadata": {
    "collapsed": true,
    "deletable": true,
    "editable": true
   },
   "outputs": [],
   "source": [
    "#path,变成边组\n",
    "def pathTuple(path):\n",
    "    res=[]\n",
    "    for i in range(len(path)-1):\n",
    "        a,b=path[i:i+2]\n",
    "        res.append((a,b))\n",
    "    return res"
   ]
  },
  {
   "cell_type": "code",
   "execution_count": 38,
   "metadata": {
    "collapsed": false,
    "deletable": true,
    "editable": true
   },
   "outputs": [],
   "source": [
    "#pathTuple(v)"
   ]
  },
  {
   "cell_type": "code",
   "execution_count": 39,
   "metadata": {
    "collapsed": true,
    "deletable": true,
    "editable": true
   },
   "outputs": [],
   "source": [
    "#path,物理距离计算\n",
    "def pathDistance(path):\n",
    "    res=[]\n",
    "    for i in range(len(path)-1):\n",
    "        a,b=path[i:i+2]\n",
    "        res.append(edgeDist.get(a+b)[0] if edgeDist.get(a+b,None) else edgeDist.get(b+a)[0])\n",
    "    return sum(res)"
   ]
  },
  {
   "cell_type": "code",
   "execution_count": 40,
   "metadata": {
    "collapsed": true,
    "deletable": true,
    "editable": true
   },
   "outputs": [],
   "source": [
    "#path,时间计算-全局式的\n",
    "#car->\"A\",\"B\",\"C\"\n",
    "def pathTime(path,car):\n",
    "    res=[]\n",
    "    veb=None\n",
    "    for i in range(len(path)-1):\n",
    "        a,b=path[i:i+2]\n",
    "        dis=G.edge[a][b]['物理距离']\n",
    "        if car == 'A':\n",
    "            if G.edge[a][b]['主干道']:\n",
    "                veb=70\n",
    "            else:\n",
    "                veb=45\n",
    "        if car == 'B':\n",
    "            if G.edge[a][b]['主干道']:\n",
    "                veb=60\n",
    "            else:\n",
    "                veb=35\n",
    "        if car == 'C':\n",
    "            if G.edge[a][b]['主干道']:\n",
    "                veb=50\n",
    "            else:\n",
    "                veb=30            \n",
    "        tim=dis/veb\n",
    "        res.append(tim)\n",
    "    return sum(res)"
   ]
  },
  {
   "cell_type": "code",
   "execution_count": null,
   "metadata": {
    "collapsed": false,
    "deletable": true,
    "editable": true
   },
   "outputs": [],
   "source": [
    "v"
   ]
  },
  {
   "cell_type": "code",
   "execution_count": 250,
   "metadata": {
    "collapsed": false,
    "deletable": true,
    "editable": true
   },
   "outputs": [
    {
     "data": {
      "text/plain": [
       "3.5668569770459766"
      ]
     },
     "execution_count": 250,
     "metadata": {},
     "output_type": "execute_result"
    }
   ],
   "source": [
    "pathTime(v,'B')"
   ]
  },
  {
   "cell_type": "code",
   "execution_count": 41,
   "metadata": {
    "collapsed": false,
    "deletable": true,
    "editable": true
   },
   "outputs": [
    {
     "data": {
      "text/plain": [
       "0.32576440717118227"
      ]
     },
     "execution_count": 41,
     "metadata": {},
     "output_type": "execute_result"
    }
   ],
   "source": [
    "pathTime(edge[0],'B')"
   ]
  },
  {
   "cell_type": "code",
   "execution_count": 246,
   "metadata": {
    "collapsed": false,
    "deletable": true,
    "editable": true
   },
   "outputs": [
    {
     "data": {
      "text/plain": [
       "167.48062919492975"
      ]
     },
     "execution_count": 246,
     "metadata": {},
     "output_type": "execute_result"
    }
   ],
   "source": [
    "pathDistance(v)"
   ]
  },
  {
   "cell_type": "code",
   "execution_count": 42,
   "metadata": {
    "collapsed": true,
    "deletable": true,
    "editable": true
   },
   "outputs": [],
   "source": [
    "#D-F最短物理路径\n",
    "#临时性算法优化：all_shortest_paths 迭代器版的最短路径\n",
    "D_F={}\n",
    "for d in D:\n",
    "    D_F[d]={}\n",
    "    for f in F:\n",
    "        shorttemp=nx.shortest_path(G,source=d,target=f)\n",
    "        D_F[d][f]=(shorttemp,nx.shortest_path_length(G,source=d,target=f),pathDistance(shorttemp))"
   ]
  },
  {
   "cell_type": "code",
   "execution_count": 720,
   "metadata": {
    "collapsed": false,
    "deletable": true,
    "editable": true
   },
   "outputs": [],
   "source": [
    "#D-J最短物理路径\n",
    "#临时性算法优化：all_shortest_paths 迭代器版的最短路径\n",
    "D_J={}\n",
    "for d in D:\n",
    "    D_J[d]={}\n",
    "    for j in J:\n",
    "        shorttemp=nx.shortest_path(G,source=d,target=j)\n",
    "        D_J[d][j]=(shorttemp,nx.shortest_path_length(G,source=d,target=j),pathDistance(shorttemp))"
   ]
  },
  {
   "cell_type": "code",
   "execution_count": 724,
   "metadata": {
    "collapsed": false
   },
   "outputs": [
    {
     "data": {
      "text/plain": [
       "62"
      ]
     },
     "execution_count": 724,
     "metadata": {},
     "output_type": "execute_result"
    }
   ],
   "source": [
    "len(D_J['D2'])"
   ]
  },
  {
   "cell_type": "code",
   "execution_count": 44,
   "metadata": {
    "collapsed": true,
    "deletable": true,
    "editable": true
   },
   "outputs": [],
   "source": [
    "#D-F权值化后最短 耗时路径 \n",
    "\n",
    "#先算权\n",
    "for e in G.edges_iter():\n",
    "    dist=G.edge[e[0]][e[1]]['物理距离']\n",
    "    if G.edge[e[0]][e[1]]['主干道']:\n",
    "        veb=70\n",
    "    else:\n",
    "        veb=45\n",
    "    G.add_edge(e[0],e[1],{'A车耗时':dist/veb})\n",
    "    \n",
    "    if G.edge[e[0]][e[1]]['主干道']:\n",
    "        veb=60\n",
    "    else:\n",
    "        veb=35\n",
    "    G.add_edge(e[0],e[1],{'B车耗时':dist/veb})\n",
    "    \n",
    "    if G.edge[e[0]][e[1]]['主干道']:\n",
    "        veb=50\n",
    "    else:\n",
    "        veb=30 \n",
    "    G.add_edge(e[0],e[1],{'C车耗时':dist/veb})"
   ]
  },
  {
   "cell_type": "code",
   "execution_count": 45,
   "metadata": {
    "collapsed": true,
    "deletable": true,
    "editable": true
   },
   "outputs": [],
   "source": [
    "#A车\n",
    "#再遍历\n",
    "A_D_F={}\n",
    "for d in D:\n",
    "    A_D_F[d]={}\n",
    "    for f in F:\n",
    "        shorttemp=nx.shortest_path(G,source=d,target=f,weight=\"A车耗时\")\n",
    "        A_D_F[d][f]=(shorttemp,len(shorttemp),pathDistance(shorttemp),pathTime(shorttemp,'A'))"
   ]
  },
  {
   "cell_type": "code",
   "execution_count": 46,
   "metadata": {
    "collapsed": true,
    "deletable": true,
    "editable": true
   },
   "outputs": [],
   "source": [
    "#B车\n",
    "#再遍历\n",
    "B_D_F={}\n",
    "for d in D:\n",
    "    B_D_F[d]={}\n",
    "    for f in F:\n",
    "        shorttemp=nx.shortest_path(G,source=d,target=f,weight=\"B车耗时\")\n",
    "        B_D_F[d][f]=(shorttemp,len(shorttemp),pathDistance(shorttemp),pathTime(shorttemp,'B'))"
   ]
  },
  {
   "cell_type": "code",
   "execution_count": 47,
   "metadata": {
    "collapsed": true,
    "deletable": true,
    "editable": true
   },
   "outputs": [],
   "source": [
    "#C车\n",
    "#再遍历\n",
    "C_D_F={}\n",
    "for d in D:\n",
    "    C_D_F[d]={}\n",
    "    for f in F:\n",
    "        shorttemp=nx.shortest_path(G,source=d,target=f,weight=\"C车耗时\")\n",
    "        C_D_F[d][f]=(shorttemp,len(shorttemp),pathDistance(shorttemp),pathTime(shorttemp,'C'))"
   ]
  },
  {
   "cell_type": "code",
   "execution_count": null,
   "metadata": {
    "collapsed": false,
    "deletable": true,
    "editable": true
   },
   "outputs": [],
   "source": []
  },
  {
   "cell_type": "code",
   "execution_count": 49,
   "metadata": {
    "collapsed": true,
    "deletable": true,
    "editable": true
   },
   "outputs": [],
   "source": [
    "carA=[\"A\"+str(i).zfill(2) for i in range(1,7)]\n",
    "carB=[\"B\"+str(i).zfill(2) for i in range(1,7)]\n",
    "carC=[\"C\"+str(i).zfill(2) for i in range(1,13)]"
   ]
  },
  {
   "cell_type": "code",
   "execution_count": 585,
   "metadata": {
    "collapsed": true,
    "deletable": true,
    "editable": true
   },
   "outputs": [],
   "source": [
    "def alignLaunch(stage1):\n",
    "    #寻找最慢车\n",
    "    t=[(car,state[\"出发时刻\"]+sum(state[\"D-F时序\"]['耗时'].iloc[1:state[\"当前位置\"]+1])) for car,state in stage1.items()]\n",
    "    tdic={car:state[\"出发时刻\"]+sum(state[\"D-F时序\"]['耗时'].iloc[1:state[\"当前位置\"]+1]) for car,state in stage1.items()}\n",
    "    tz=max(t, key=lambda item: item[1])\n",
    "    #计算耗时\n",
    "    slowCar,slowTime=tz[0],tz[1]\n",
    "    #每个车与它相减，获得对齐罚时\n",
    "    for car,state in stage1.items():\n",
    "        stage1[car]['D-F时序'].iloc[-1,-1]=slowTime-tdic[car]\n",
    "    return stage1"
   ]
  },
  {
   "cell_type": "code",
   "execution_count": null,
   "metadata": {
    "collapsed": false,
    "deletable": true,
    "editable": true
   },
   "outputs": [],
   "source": [
    "'''\n",
    "def stage1Meeting(stage1):\n",
    "    #终止计算条件-到达发射点了\n",
    "    #同时过滤已经到发射点的车\n",
    "    should,st=[],{}\n",
    "    for car,state in stage1.items():\n",
    "        a=state[\"D-F时序\"][\"位置\"].iloc[state[\"当前位置\"]+1]\n",
    "        b=state[\"发射点\"]\n",
    "        if a!=b:\n",
    "            should.append(car) \n",
    "    if len(should)==0:\n",
    "        return stage1\n",
    "    else:\n",
    "    #装填过滤的车\n",
    "        for i in should:\n",
    "            st[i]=stage1[i]\n",
    "    \n",
    "    #耗时计算\n",
    "    t=[(car,state[\"出发时刻\"]+sum(state[\"D-F时序\"]['耗时'].iloc[1:state[\"当前位置\"]+1])) for car,state in st.items()]\n",
    "    tdic={car:state[\"出发时刻\"]+sum(state[\"D-F时序\"]['耗时'].iloc[1:state[\"当前位置\"]+1]) for car,state in st.items()}\n",
    "    \n",
    "    #t=sorted(t, key=lambda item: item[1])\n",
    "    #fastCar,fastTime=t[0][0],t[0][1]\n",
    "    tz=min(t, key=lambda item: item[1])\n",
    "    fastCar,fastTime=tz[0],tz[1]\n",
    "    \n",
    "    #时间线比较\n",
    "    tt=st[fastCar][\"D-F时序\"].iloc[st[fastCar]['当前位置']+2]\n",
    "    if tt['类型'] != 'edge':\n",
    "        print(\"出错了：001\")\n",
    "        return stage1\n",
    "    ttt=tt[\"位置\"]\n",
    "    roadSize=G.edge[ttt[0]][ttt[1]]['容量']\n",
    "    #时间线比较-之重叠\n",
    "    meetingCars=[]\n",
    "    for car,state in st.items():\n",
    "        loc=state[\"D-F时序\"]['位置'].iloc[state[\"当前位置\"]]\n",
    "        if set(ttt)==set(loc):\n",
    "            meetingCars.append(car)\n",
    "    if len(meetingCars)>=roadSize:\n",
    "        #说明需要会车等待\n",
    "        if len(meetingCars)>roadSize:\n",
    "            print(\"出错了：002\")\n",
    "            return stage1\n",
    "        #To-do 会车等待决策+1\n",
    "        waitTime = min([tdic[i] for i in meetingCars]) - fastTime\n",
    "        #写入等待时间\n",
    "        stage1[fastCar][\"D-F时序\"].loc[stage1[fastCar]['当前位置']+1,'耗时']=waitTime\n",
    "    stage1[fastCar]['当前位置']=stage1[fastCar]['当前位置']+2\n",
    "    \n",
    "    return stage1Meeting(stage1)    \n",
    "'''"
   ]
  },
  {
   "cell_type": "code",
   "execution_count": 805,
   "metadata": {
    "collapsed": true
   },
   "outputs": [],
   "source": [
    "def stage1Meeting(stage1):\n",
    "    #终止计算条件-到达发射点了\n",
    "    #同时过滤已经到发射点的车\n",
    "    should,st=[],{}\n",
    "    for car,state in stage1.items():\n",
    "        a=state[\"D-F时序\"][\"位置\"].iloc[state[\"当前位置\"]+1]\n",
    "        b=state[\"发射点\"]\n",
    "        if a!=b:\n",
    "            should.append(car) \n",
    "    if len(should)==0:\n",
    "        return stage1\n",
    "    else:\n",
    "    #装填过滤的车\n",
    "        for i in should:\n",
    "            st[i]=stage1[i]\n",
    "    \n",
    "    #耗时计算\n",
    "    t=[(car,state[\"出发时刻\"]+sum(state[\"D-F时序\"]['耗时'].iloc[1:state[\"当前位置\"]+1])) for car,state in st.items()]\n",
    "    tdic={car:state[\"出发时刻\"]+sum(state[\"D-F时序\"]['耗时'].iloc[1:state[\"当前位置\"]+1]) for car,state in st.items()}\n",
    "    \n",
    "    #t=sorted(t, key=lambda item: item[1])\n",
    "    #fastCar,fastTime=t[0][0],t[0][1]\n",
    "    tz=min(t, key=lambda item: item[1])\n",
    "    fastCar,fastTime=tz[0],tz[1]\n",
    "    \n",
    "    #时间线比较\n",
    "    tt=st[fastCar][\"D-F时序\"].iloc[st[fastCar]['当前位置']+2]\n",
    "    if tt['类型'] != 'edge':\n",
    "        print(\"出错了：001\")\n",
    "        return stage1\n",
    "    ttt=tt[\"位置\"]\n",
    "    roadSize=G.edge[ttt[0]][ttt[1]]['容量']\n",
    "    #时间线比较-之重叠\n",
    "    meetingCars=[]\n",
    "    for car,state in st.items():\n",
    "        loc=state[\"D-F时序\"]['位置'].iloc[state[\"当前位置\"]]\n",
    "        if set(ttt)==set(loc):\n",
    "            meetingCars.append(car)\n",
    "    \n",
    "    #计算其是否在区间时间范围内\n",
    "    amtz=[]\n",
    "    for car in meetingCars:\n",
    "        a=sum(stage1[car][\"D-F时序\"]['耗时'].iloc[1:stage1[car][\"当前位置\"]+1])\n",
    "        b=sum(stage1[car][\"D-F时序\"]['耗时'].iloc[1:stage1[car][\"当前位置\"]])\n",
    "\n",
    "        if a <= fastTime and fastTime < b:\n",
    "            amtz.append(car)\n",
    "    meetingCars=amtz\n",
    "    \n",
    "    if len(meetingCars)>=roadSize:\n",
    "        #说明需要会车等待\n",
    "        if len(meetingCars)>roadSize:\n",
    "            print(meetingCars)\n",
    "            print(\"出错了：002\")\n",
    "            return stage1\n",
    "        #To-do 会车等待决策+1\n",
    "        waitTime = min([tdic[i] for i in meetingCars]) - fastTime\n",
    "        #写入等待时间\n",
    "        stage1[fastCar][\"D-F时序\"].loc[stage1[fastCar]['当前位置']+1,'耗时']=waitTime\n",
    "    stage1[fastCar]['当前位置']=stage1[fastCar]['当前位置']+2\n",
    "    \n",
    "    return stage1Meeting(stage1)    "
   ]
  },
  {
   "cell_type": "code",
   "execution_count": 587,
   "metadata": {
    "collapsed": true,
    "deletable": true,
    "editable": true
   },
   "outputs": [],
   "source": [
    "#D-F时序-生成\n",
    "#car 表示ABC车型\n",
    "def generDF(path,car):\n",
    "    res=[]\n",
    "    pathT=pathTuple(path)\n",
    "    for i in range(len(pathT)):\n",
    "        res.append(path[i])\n",
    "        res.append(pathT[i])\n",
    "    res.append(path[-1])\n",
    "    return pd.DataFrame({\"位置\":res,\n",
    "                         \"耗时\":[G.edge[i[0]][i[1]][car+'车耗时']*60 if type(i) is tuple else 0 for i in res],\n",
    "                         \"类型\":[\"node\" if type(i) is str else \"edge\" for i in res]\n",
    "                        })"
   ]
  },
  {
   "cell_type": "code",
   "execution_count": 588,
   "metadata": {
    "collapsed": true,
    "deletable": true,
    "editable": true
   },
   "outputs": [],
   "source": [
    "'''\n",
    "目前权值是以小时为单位的，所以最终结果需要转为分钟 即 * 60  \n",
    "d_f:表示所有24辆车的路径\n",
    "{车号:path}\n",
    "departure:表示每辆车的发车时间，出发时刻，分钟为单位\n",
    "{车号:时刻}\n",
    "'''\n",
    "#波次1的耗时计算\n",
    "def stage1Consum(d_f,departure):\n",
    "    stage1={}\n",
    "    for car,path in d_f.items():\n",
    "        stage1[car]={\n",
    "            \"车型\":car[0],\n",
    "            \"D-F时序\":generDF(path,car[0]),\n",
    "            \"发射点\":path[-1],\n",
    "            \"出发时刻\":departure[car],\n",
    "            \"当前位置\":1\n",
    "        }\n",
    "    #To-do:发车次序纠错\n",
    "    #重叠计算\n",
    "    newst1=stage1Meeting(stage1)#此处为范式，由于是可变式，所以newst1还是和原来的引用一样\n",
    "    #齐射罚时\n",
    "    newst1=alignLaunch(newst1)\n",
    "    \n",
    "    return newst1"
   ]
  },
  {
   "cell_type": "code",
   "execution_count": 589,
   "metadata": {
    "collapsed": true,
    "deletable": true,
    "editable": true
   },
   "outputs": [],
   "source": [
    "#car 表示ABC车型\n",
    "def generFZ(path,car):\n",
    "    res=[]\n",
    "    pathT=pathTuple(path)\n",
    "    for i in range(len(pathT)):\n",
    "        res.append(path[i])\n",
    "        res.append(pathT[i])\n",
    "    res.append(path[-1])\n",
    "    return pd.DataFrame({\"位置\":res,\n",
    "                         \"耗时\":[G.edge[i[0]][i[1]][car+'车耗时']*60 if type(i) is tuple else 0 for i in res],\n",
    "                         \"类型\":[\"node\" if type(i) is str else \"edge\" for i in res]\n",
    "                        })"
   ]
  },
  {
   "cell_type": "code",
   "execution_count": 590,
   "metadata": {
    "collapsed": true,
    "deletable": true,
    "editable": true
   },
   "outputs": [],
   "source": [
    "#car 表示ABC车型\n",
    "def generZF(path,car):\n",
    "    res=[]\n",
    "    pathT=pathTuple(path)\n",
    "    for i in range(len(pathT)):\n",
    "        res.append(path[i])\n",
    "        res.append(pathT[i])\n",
    "    res.append(path[-1])\n",
    "    return pd.DataFrame({\"位置\":res,\n",
    "                         \"耗时\":[G.edge[i[0]][i[1]][car+'车耗时']*60 if type(i) is tuple else 0 for i in res],\n",
    "                         \"类型\":[\"node\" if type(i) is str else \"edge\" for i in res]\n",
    "                        })"
   ]
  },
  {
   "cell_type": "code",
   "execution_count": 591,
   "metadata": {
    "collapsed": true,
    "deletable": true,
    "editable": true
   },
   "outputs": [],
   "source": [
    "'''\n",
    "def stage2Meeting(stage2):\n",
    "    #终止条件-齐射\n",
    "    should,st=[],{}\n",
    "    for car,state in stage2.items():\n",
    "        a=state[\"Z-F时序\"][\"位置\"].iloc[state[\"当前Z-F位置\"]+1]\n",
    "        b=state[\"发射点\"]\n",
    "        if a!=b:\n",
    "            should.append(car) \n",
    "    if len(should)==0:\n",
    "        return stage2\n",
    "    \n",
    "    #过滤到达终点的\n",
    "    #装填过滤的车\n",
    "    for i in should:\n",
    "        st[i]=stage2[i]\n",
    "    \n",
    "    #重叠检测\n",
    "    #耗时计算\n",
    "    t,tdic=[],{}\n",
    "    for car,state in st.items():\n",
    "        if state[\"转载完成\"]:\n",
    "            h=sum(state[\"Z-F时序\"]['耗时'].iloc[1:state[\"当前Z-F位置\"]+1])+sum(state[\"F-Z时序\"]['耗时'].iloc[1:state[\"当前F-Z位置\"]+1])\n",
    "        else:\n",
    "            h=sum(state[\"F-Z时序\"]['耗时'].iloc[1:state[\"当前F-Z位置\"]+1])\n",
    "        t.append((car,h))\n",
    "        tdic[car]=h\n",
    "            \n",
    "    #t=sorted(t, key=lambda item: item[1])\n",
    "    #fastCar,fastTime=t[0][0],t[0][1]\n",
    "    tz=min(t, key=lambda item: item[1])\n",
    "    fastCar,fastTime=tz[0],tz[1]\n",
    "    \n",
    "    #时间线比较\n",
    "    if st[fastCar][\"转载完成\"]:\n",
    "        tt=st[fastCar][\"Z-F时序\"].iloc[st[fastCar]['当前Z-F位置']+2]\n",
    "        if tt['类型'] != 'edge':\n",
    "            print(\"出错了：003\")\n",
    "            return stage2\n",
    "        ttt=tt[\"位置\"]\n",
    "        roadSize=G.edge[ttt[0]][ttt[1]]['容量']\n",
    "        #时间线比较-之重叠\n",
    "        meetingCars=[]\n",
    "        for car,state in st.items():\n",
    "            if state[\"转载完成\"]:\n",
    "                loc=state[\"Z-F时序\"]['位置'].iloc[state[\"当前Z-F位置\"]]\n",
    "            else:\n",
    "                loc=state[\"F-Z时序\"]['位置'].iloc[state[\"当前F-Z位置\"]]\n",
    "            if set(ttt)==set(loc):\n",
    "                meetingCars.append(car)\n",
    "        if len(meetingCars)>=roadSize:\n",
    "            #说明需要会车等待\n",
    "            if len(meetingCars)>roadSize:\n",
    "                print(\"出错了：004\")\n",
    "                return stage2\n",
    "            #To-do 会车等待决策+1\n",
    "            waitTime = min([tdic[i] for i in meetingCars]) - fastTime\n",
    "            #写入等待时间\n",
    "            stage2[fastCar][\"Z-F时序\"].loc[stage2[fastCar]['当前Z-F位置']+1,'耗时']=waitTime\n",
    "        stage2[fastCar]['当前Z-F位置']=stage2[fastCar]['当前Z-F位置']+2\n",
    "    else:\n",
    "        tt=st[fastCar][\"F-Z时序\"].iloc[st[fastCar]['当前F-Z位置']+2]\n",
    "        if tt['类型'] != 'edge':\n",
    "            print(\"出错了：005\")\n",
    "            return stage2\n",
    "        ttt=tt[\"位置\"]\n",
    "        roadSize=G.edge[ttt[0]][ttt[1]]['容量']\n",
    "        #时间线比较-之重叠\n",
    "        meetingCars=[]\n",
    "        for car,state in st.items():\n",
    "            if state[\"转载完成\"]:\n",
    "                loc=state[\"Z-F时序\"]['位置'].iloc[state[\"当前Z-F位置\"]]\n",
    "            else:\n",
    "                loc=state[\"F-Z时序\"]['位置'].iloc[state[\"当前F-Z位置\"]]\n",
    "            if set(ttt)==set(loc):\n",
    "                meetingCars.append(car)\n",
    "        if len(meetingCars)>=roadSize:\n",
    "            #说明需要会车等待\n",
    "            if len(meetingCars)>roadSize:\n",
    "                print(\"出错了：006\")\n",
    "                return stage2\n",
    "            #To-do 会车等待决策+1\n",
    "            waitTime = min([tdic[i] for i in meetingCars]) - fastTime\n",
    "            #写入等待时间\n",
    "            stage2[fastCar][\"F-Z时序\"].loc[stage2[fastCar]['当前F-Z位置']+1,'耗时']=waitTime\n",
    "        #时间线比较-之转载爆仓\n",
    "        zt=st[fastCar][\"F-Z时序\"].iloc[st[fastCar]['当前F-Z位置']+3]\n",
    "        if zt['类型'] != 'node':\n",
    "            print(\"出错了：007\")\n",
    "            return stage2\n",
    "        if zt['位置'] == st[fastCar]['转载点']:\n",
    "            #检测是否爆仓\n",
    "            #所有是这个转载点的车\n",
    "            #且到过转载点的\n",
    "            stz=[car for car,state in stage2.items() if state[\"转载完成\"] and state['转载点']==zt['位置']]\n",
    "            ztTime=sum(st[fastCar][\"F-Z时序\"]['耗时'].iloc[1:st[fastCar]['当前F-Z位置']+2])\n",
    "            #计算其是否在区间时间范围内\n",
    "            stzz,mtz=[],[]\n",
    "            for car in stz:\n",
    "                a=sum(stage2[car][\"F-Z时序\"]['耗时'].iloc[1:-1])\n",
    "                b=sum(stage2[car][\"F-Z时序\"]['耗时'].iloc[1:])\n",
    "                if a <= ztTime and ztTime < b:\n",
    "                    mtz.append(b)\n",
    "                    stzz.append(car)\n",
    "            #基础转载时间\n",
    "            zz=10\n",
    "            if len(stzz) >= 2:\n",
    "                if len(stzz) > 2:\n",
    "                    print(\"报错：特殊\")\n",
    "                #说明爆仓\n",
    "                waitt=min(mtz)-ztTime\n",
    "                stage2[fastCar][\"F-Z时序\"].loc[stage2[fastCar]['当前F-Z位置']+1,'耗时']=waitt\n",
    "                #计算新的到达时间\n",
    "                ztt=sum(st[fastCar][\"F-Z时序\"]['耗时'].iloc[1:st[fastCar]['当前F-Z位置']+2])\n",
    "                zz+=max(mtz)-ztt\n",
    "            #未爆仓，进场计算转载耗时\n",
    "            if len(stzz) ==1:\n",
    "                #表示存在正在转载物\n",
    "                zz+=sum(stage2[stzz[0]][\"F-Z时序\"]['耗时'].iloc[1:])-ztTime\n",
    "            #并写入转载完成和位置，转载时间\n",
    "            stage2[fastCar]['转载完成']=True\n",
    "            stage2[fastCar]['当前F-Z位置']=stage2[fastCar]['当前F-Z位置']+3\n",
    "            stage2[fastCar][\"F-Z时序\"].loc[stage2[fastCar]['当前F-Z位置'],'耗时']=zz\n",
    "        stage2[fastCar]['当前F-Z位置']=stage2[fastCar]['当前F-Z位置']+2\n",
    "\n",
    "    return stage2Meeting(stage2)\n",
    "''' "
   ]
  },
  {
   "cell_type": "code",
   "execution_count": 806,
   "metadata": {
    "collapsed": true
   },
   "outputs": [],
   "source": [
    "def stage2Meeting(stage2):\n",
    "    #终止条件-齐射\n",
    "    should,st=[],{}\n",
    "    for car,state in stage2.items():\n",
    "        a=state[\"Z-F时序\"][\"位置\"].iloc[state[\"当前Z-F位置\"]+1]\n",
    "        b=state[\"发射点\"]\n",
    "        if a!=b:\n",
    "            should.append(car) \n",
    "    if len(should)==0:\n",
    "        return stage2\n",
    "    \n",
    "    #过滤到达终点的\n",
    "    #装填过滤的车\n",
    "    for i in should:\n",
    "        st[i]=stage2[i]\n",
    "    \n",
    "    #重叠检测\n",
    "    #耗时计算\n",
    "    t,tdic=[],{}\n",
    "    for car,state in st.items():\n",
    "        if state[\"转载完成\"]:\n",
    "            h=sum(state[\"Z-F时序\"]['耗时'].iloc[1:state[\"当前Z-F位置\"]+1])+sum(state[\"F-Z时序\"]['耗时'].iloc[1:state[\"当前F-Z位置\"]+1])\n",
    "        else:\n",
    "            h=sum(state[\"F-Z时序\"]['耗时'].iloc[1:state[\"当前F-Z位置\"]+1])\n",
    "        t.append((car,h))\n",
    "        tdic[car]=h\n",
    "            \n",
    "    #t=sorted(t, key=lambda item: item[1])\n",
    "    #fastCar,fastTime=t[0][0],t[0][1]\n",
    "    tz=min(t, key=lambda item: item[1])\n",
    "    fastCar,fastTime=tz[0],tz[1]\n",
    "    \n",
    "    #时间线比较\n",
    "    if st[fastCar][\"转载完成\"]:\n",
    "        tt=st[fastCar][\"Z-F时序\"].iloc[st[fastCar]['当前Z-F位置']+2]\n",
    "        if tt['类型'] != 'edge':\n",
    "            print(\"出错了：003\")\n",
    "            return stage2\n",
    "        ttt=tt[\"位置\"]\n",
    "        roadSize=G.edge[ttt[0]][ttt[1]]['容量']\n",
    "        #时间线比较-之重叠\n",
    "        meetingCars=[]\n",
    "        for car,state in st.items():\n",
    "            if state[\"转载完成\"]:\n",
    "                loc=state[\"Z-F时序\"]['位置'].iloc[state[\"当前Z-F位置\"]]\n",
    "            else:\n",
    "                loc=state[\"F-Z时序\"]['位置'].iloc[state[\"当前F-Z位置\"]]\n",
    "            if set(ttt)==set(loc):\n",
    "                meetingCars.append(car)\n",
    "        \n",
    "        #计算其是否在区间时间范围内\n",
    "        amtz=[]\n",
    "        for car in meetingCars:\n",
    "            if state[\"转载完成\"]:\n",
    "                a=sum(stage2[car][\"Z-F时序\"]['耗时'].iloc[1:stage2[car][\"当前Z-F位置\"]+1])+sum(stage2[car][\"F-Z时序\"]['耗时'].iloc[1:stage2[car][\"当前F-Z位置\"]+1])\n",
    "                b=sum(stage2[car][\"Z-F时序\"]['耗时'].iloc[1:stage2[car][\"当前Z-F位置\"]])+sum(stage2[car][\"F-Z时序\"]['耗时'].iloc[1:stage2[car][\"当前F-Z位置\"]+1])\n",
    "            else:\n",
    "                a=sum(stage2[car][\"F-Z时序\"]['耗时'].iloc[1:stage2[car][\"当前F-Z位置\"]+1])\n",
    "                b=sum(stage2[car][\"F-Z时序\"]['耗时'].iloc[1:stage2[car][\"当前F-Z位置\"]])\n",
    "\n",
    "            if a <= fastTime and fastTime < b:\n",
    "                amtz.append(car)\n",
    "        meetingCars=amtz\n",
    "        \n",
    "        if len(meetingCars)>=roadSize:\n",
    "            #说明需要会车等待\n",
    "            if len(meetingCars)>roadSize:\n",
    "                print(\"出错了：004\")\n",
    "                return stage2\n",
    "            #To-do 会车等待决策+1\n",
    "            waitTime = min([tdic[i] for i in meetingCars]) - fastTime\n",
    "            #写入等待时间\n",
    "            stage2[fastCar][\"Z-F时序\"].loc[stage2[fastCar]['当前Z-F位置']+1,'耗时']=waitTime\n",
    "        stage2[fastCar]['当前Z-F位置']=stage2[fastCar]['当前Z-F位置']+2\n",
    "    else:\n",
    "        tt=st[fastCar][\"F-Z时序\"].iloc[st[fastCar]['当前F-Z位置']+2]\n",
    "        if tt['类型'] != 'edge':\n",
    "            print(\"出错了：005\")\n",
    "            return stage2\n",
    "        ttt=tt[\"位置\"]\n",
    "        roadSize=G.edge[ttt[0]][ttt[1]]['容量']\n",
    "        #时间线比较-之重叠\n",
    "        meetingCars=[]\n",
    "        for car,state in st.items():\n",
    "            if state[\"转载完成\"]:\n",
    "                loc=state[\"Z-F时序\"]['位置'].iloc[state[\"当前Z-F位置\"]]\n",
    "            else:\n",
    "                loc=state[\"F-Z时序\"]['位置'].iloc[state[\"当前F-Z位置\"]]\n",
    "            if set(ttt)==set(loc):\n",
    "                meetingCars.append(car)\n",
    "        #计算其是否在区间时间范围内\n",
    "        amtz=[]\n",
    "        for car in meetingCars:\n",
    "            if state[\"转载完成\"]:\n",
    "                a=sum(stage2[car][\"Z-F时序\"]['耗时'].iloc[1:stage2[car][\"当前Z-F位置\"]+1])+sum(stage2[car][\"F-Z时序\"]['耗时'].iloc[1:stage2[car][\"当前F-Z位置\"]+1])\n",
    "                b=sum(stage2[car][\"Z-F时序\"]['耗时'].iloc[1:stage2[car][\"当前Z-F位置\"]])+sum(stage2[car][\"F-Z时序\"]['耗时'].iloc[1:stage2[car][\"当前F-Z位置\"]+1])\n",
    "            else:\n",
    "                a=sum(stage2[car][\"F-Z时序\"]['耗时'].iloc[1:stage2[car][\"当前F-Z位置\"]+1])\n",
    "                b=sum(stage2[car][\"F-Z时序\"]['耗时'].iloc[1:stage2[car][\"当前F-Z位置\"]])\n",
    "\n",
    "            if a <= fastTime and fastTime < b:\n",
    "                amtz.append(car)\n",
    "        meetingCars=amtz\n",
    "        if len(meetingCars)>=roadSize:\n",
    "            #说明需要会车等待\n",
    "            if len(meetingCars)>roadSize:\n",
    "                print(meetingCars)\n",
    "                print(\"出错了：006\")\n",
    "                return stage2\n",
    "            #To-do 会车等待决策+1\n",
    "            waitTime = min([tdic[i] for i in meetingCars]) - fastTime\n",
    "            #写入等待时间\n",
    "            stage2[fastCar][\"F-Z时序\"].loc[stage2[fastCar]['当前F-Z位置']+1,'耗时']=waitTime\n",
    "        #时间线比较-之转载爆仓\n",
    "        zt=st[fastCar][\"F-Z时序\"].iloc[st[fastCar]['当前F-Z位置']+3]\n",
    "        if zt['类型'] != 'node':\n",
    "            print(\"出错了：007\")\n",
    "            return stage2\n",
    "        if zt['位置'] == st[fastCar]['转载点']:\n",
    "            #检测是否爆仓\n",
    "            #所有是这个转载点的车\n",
    "            #且到过转载点的\n",
    "            stz=[car for car,state in stage2.items() if state[\"转载完成\"] and state['转载点']==zt['位置']]\n",
    "            ztTime=sum(st[fastCar][\"F-Z时序\"]['耗时'].iloc[1:st[fastCar]['当前F-Z位置']+2])\n",
    "            #计算其是否在区间时间范围内\n",
    "            stzz,mtz=[],[]\n",
    "            for car in stz:\n",
    "                a=sum(stage2[car][\"F-Z时序\"]['耗时'].iloc[1:-1])\n",
    "                b=sum(stage2[car][\"F-Z时序\"]['耗时'].iloc[1:])\n",
    "                if a <= ztTime and ztTime < b:\n",
    "                    mtz.append(b)\n",
    "                    stzz.append(car)\n",
    "            #基础转载时间\n",
    "            zz=10\n",
    "            if len(stzz) >= 2:\n",
    "                if len(stzz) > 2:\n",
    "                    print(\"报错：特殊\")\n",
    "                #说明爆仓\n",
    "                waitt=min(mtz)-ztTime\n",
    "                stage2[fastCar][\"F-Z时序\"].loc[stage2[fastCar]['当前F-Z位置']+1,'耗时']=waitt\n",
    "                #计算新的到达时间\n",
    "                ztt=sum(st[fastCar][\"F-Z时序\"]['耗时'].iloc[1:st[fastCar]['当前F-Z位置']+2])\n",
    "                zz+=max(mtz)-ztt\n",
    "            #未爆仓，进场计算转载耗时\n",
    "            if len(stzz) ==1:\n",
    "                #表示存在正在转载物\n",
    "                zz+=sum(stage2[stzz[0]][\"F-Z时序\"]['耗时'].iloc[1:])-ztTime\n",
    "            #并写入转载完成和位置，转载时间\n",
    "            stage2[fastCar]['转载完成']=True\n",
    "            stage2[fastCar]['当前F-Z位置']=stage2[fastCar]['当前F-Z位置']+3\n",
    "            stage2[fastCar][\"F-Z时序\"].loc[stage2[fastCar]['当前F-Z位置'],'耗时']=zz\n",
    "        stage2[fastCar]['当前F-Z位置']=stage2[fastCar]['当前F-Z位置']+2\n",
    "\n",
    "    return stage2Meeting(stage2)"
   ]
  },
  {
   "cell_type": "code",
   "execution_count": 592,
   "metadata": {
    "collapsed": true,
    "deletable": true,
    "editable": true
   },
   "outputs": [],
   "source": [
    "'''\n",
    "def alignLaunch2(stage2):\n",
    "    #寻找最慢车\n",
    "    t,tdic=[],{}\n",
    "    for car,state in st.items():\n",
    "        h=sum(state[\"Z-F时序\"]['耗时'].iloc[1:state[\"当前Z-F位置\"]+1])+sum(state[\"F-Z时序\"]['耗时'].iloc[1:state[\"当前F-Z位置\"]+1])\n",
    "        t.append((car,h))\n",
    "        tdic[car]=h\n",
    "    tz=max(t, key=lambda item: item[1])\n",
    "    #计算耗时\n",
    "    slowCar,slowTime=tz[0],tz[1]\n",
    "    #每个车与它相减，获得对齐罚时\n",
    "    for car,state in stage2.items():\n",
    "        stage2[car]['Z-F时序'].iloc[-1,-1]=slowTime-tdic[car]\n",
    "    return stage2\n",
    "'''\n",
    "# 修改了第三行 st -> stage2\n",
    "def alignLaunch2(stage2):\n",
    "    #寻找最慢车\n",
    "    t,tdic=[],{}\n",
    "    for car,state in stage2.items():\n",
    "        h=sum(state[\"Z-F时序\"]['耗时'].iloc[1:state[\"当前Z-F位置\"]+1])+sum(state[\"F-Z时序\"]['耗时'].iloc[1:state[\"当前F-Z位置\"]+1])\n",
    "        t.append((car,h))\n",
    "        tdic[car]=h\n",
    "    tz=max(t, key=lambda item: item[1])\n",
    "    #计算耗时\n",
    "    slowCar,slowTime=tz[0],tz[1]\n",
    "    #每个车与它相减，获得对齐罚时\n",
    "    for car,state in stage2.items():\n",
    "        stage2[car]['Z-F时序'].iloc[-1,-1]=slowTime-tdic[car]\n",
    "    return stage2"
   ]
  },
  {
   "cell_type": "code",
   "execution_count": 593,
   "metadata": {
    "collapsed": true,
    "deletable": true,
    "editable": true
   },
   "outputs": [],
   "source": [
    "'''\n",
    "f_z:{车号:path}\n",
    "z_f:{车号:path}\n",
    "'''\n",
    "def stage2Consum(f_z,z_f):\n",
    "    stage2={}\n",
    "    for car in f_z.keys():\n",
    "        stage2[car]={\n",
    "            \"车型\":car[0],\n",
    "            \"F-Z时序\":generFZ(f_z[car],car[0]),\n",
    "            \"当前F-Z位置\":1,\n",
    "            \"转载点\":f_z[car][-1],\n",
    "            \"转载完成\":False,\n",
    "            \"Z-F时序\":generZF(z_f[car],car[0]),\n",
    "            \"当前Z-F位置\":1,\n",
    "            \"发射点\":z_f[car][-1]\n",
    "        }\n",
    "    #重叠计算-转载计算-转载爆仓问题？->中断所有到此 Z 的车辆\n",
    "    newst2=stage2Meeting(stage2)#此处为范式，由于是可变式，所以newst1还是和原来的引用一样\n",
    "    #齐射罚时\n",
    "    newst2=alignLaunch2(newst2)\n",
    "    \n",
    "    return newst2"
   ]
  },
  {
   "cell_type": "code",
   "execution_count": 594,
   "metadata": {
    "collapsed": true,
    "deletable": true,
    "editable": true
   },
   "outputs": [],
   "source": [
    "def allConsum(departure,d_f,f_z,z_f):\n",
    "    stage1=stage1Consum(d_f,departure)\n",
    "    stage2=stage2Consum(f_z,z_f)\n",
    "    #计算总暴露时间(排除转载时间)\n",
    "    allTime={car:state[\"出发时刻\"]+sum(state[\"D-F时序\"]['耗时'].iloc[1:]) for car,state in stage1.items()}\n",
    "    for car,state in stage2.items():\n",
    "        allTime[car]+=sum(state[\"Z-F时序\"]['耗时'].iloc[1:-1])+sum(state[\"F-Z时序\"]['耗时'].iloc[1:])\n",
    "    \n",
    "    res=sum([time for time in allTime.values()])\n",
    "    \n",
    "    return res,stage1,stage2"
   ]
  },
  {
   "cell_type": "code",
   "execution_count": null,
   "metadata": {
    "collapsed": false,
    "deletable": true,
    "editable": true
   },
   "outputs": [],
   "source": [
    "'''\n",
    "目前权值是以小时为单位的，所以最终结果需要转为分钟 即 * 60  \n",
    "d_f:表示所有24辆车的路径\n",
    "{车号:path}\n",
    "departure:表示每辆车的发车时间，出发时刻，分钟为单位\n",
    "{车号:时刻}\n",
    "f_z:{车号:path}\n",
    "z_f:{车号:path}\n",
    "'''\n",
    "departure,d_f,f_z,z_f={},{},{},{}\n",
    "targetTime,stage1,stage2=allConsum(departure,d_f,f_z,z_f)"
   ]
  },
  {
   "cell_type": "code",
   "execution_count": 153,
   "metadata": {
    "collapsed": true,
    "deletable": true,
    "editable": true
   },
   "outputs": [],
   "source": [
    "# C_D_F[d][f]=(shorttemp,len(shorttemp),pathDistance(shorttemp),pathTime(shorttemp,'C'))"
   ]
  },
  {
   "cell_type": "code",
   "execution_count": 61,
   "metadata": {
    "collapsed": false,
    "deletable": true,
    "editable": true
   },
   "outputs": [
    {
     "data": {
      "text/plain": [
       "60"
      ]
     },
     "execution_count": 61,
     "metadata": {},
     "output_type": "execute_result"
    }
   ],
   "source": [
    "A_D1=[]\n",
    "i=0\n",
    "for key, item in A_D_F['D1'].items():\n",
    "    A_D1.append([item[-1],key])\n",
    "    i += 1\n",
    "    #print(item[0])\n",
    "i"
   ]
  },
  {
   "cell_type": "code",
   "execution_count": 62,
   "metadata": {
    "collapsed": false,
    "deletable": true,
    "editable": true
   },
   "outputs": [
    {
     "data": {
      "text/plain": [
       "60"
      ]
     },
     "execution_count": 62,
     "metadata": {},
     "output_type": "execute_result"
    }
   ],
   "source": [
    "A_D2=[]\n",
    "i=0\n",
    "for key, item in A_D_F['D2'].items():\n",
    "    A_D2.append([item[-1],key])\n",
    "    i += 1\n",
    "    #print(item[0])\n",
    "i"
   ]
  },
  {
   "cell_type": "code",
   "execution_count": null,
   "metadata": {
    "collapsed": false,
    "deletable": true,
    "editable": true
   },
   "outputs": [],
   "source": [
    "A_D1_1=sorted(A_D1, key=itemgetter(0), reverse=False)[:20]\n",
    "A_D1_1"
   ]
  },
  {
   "cell_type": "code",
   "execution_count": null,
   "metadata": {
    "collapsed": false,
    "deletable": true,
    "editable": true
   },
   "outputs": [],
   "source": [
    "A_D2_2=sorted(A_D2, key=itemgetter(0), reverse=False)[:20]\n",
    "A_D2_2"
   ]
  },
  {
   "cell_type": "code",
   "execution_count": 65,
   "metadata": {
    "collapsed": false,
    "deletable": true,
    "editable": true
   },
   "outputs": [],
   "source": [
    "A_L=[]\n",
    "for item,key in A_D1_1:\n",
    "    A_L.append(A_D_F['D1'][key])\n",
    "for item,key in A_D2_2:\n",
    "    A_L.append(A_D_F['D2'][key])"
   ]
  },
  {
   "cell_type": "code",
   "execution_count": 66,
   "metadata": {
    "collapsed": false,
    "deletable": true,
    "editable": true
   },
   "outputs": [
    {
     "data": {
      "text/plain": [
       "40"
      ]
     },
     "execution_count": 66,
     "metadata": {},
     "output_type": "execute_result"
    }
   ],
   "source": [
    "len(A_L)"
   ]
  },
  {
   "cell_type": "code",
   "execution_count": null,
   "metadata": {
    "collapsed": false,
    "deletable": true,
    "editable": true
   },
   "outputs": [],
   "source": [
    "B_D1=[]\n",
    "B_D2=[]\n",
    "for key, item in B_D_F['D1'].items():\n",
    "    B_D1.append([item[-1],key])\n",
    "for key, item in B_D_F['D2'].items():\n",
    "    B_D2.append([item[-1],key])\n",
    "B_D1_1=sorted(B_D1, key=itemgetter(0), reverse=False)[:20]\n",
    "B_D1_1"
   ]
  },
  {
   "cell_type": "code",
   "execution_count": null,
   "metadata": {
    "collapsed": false,
    "deletable": true,
    "editable": true
   },
   "outputs": [],
   "source": [
    "B_D2_2=sorted(B_D2, key=itemgetter(0), reverse=False)[:20]\n",
    "B_D2_2"
   ]
  },
  {
   "cell_type": "code",
   "execution_count": 69,
   "metadata": {
    "collapsed": true,
    "deletable": true,
    "editable": true
   },
   "outputs": [],
   "source": [
    "B_L=[]\n",
    "for item,key in B_D1_1:\n",
    "    B_L.append(B_D_F['D1'][key])\n",
    "for item,key in B_D2_2:\n",
    "    B_L.append(B_D_F['D2'][key])"
   ]
  },
  {
   "cell_type": "code",
   "execution_count": 70,
   "metadata": {
    "collapsed": false,
    "deletable": true,
    "editable": true
   },
   "outputs": [
    {
     "data": {
      "text/plain": [
       "40"
      ]
     },
     "execution_count": 70,
     "metadata": {},
     "output_type": "execute_result"
    }
   ],
   "source": [
    "len(B_L)"
   ]
  },
  {
   "cell_type": "code",
   "execution_count": null,
   "metadata": {
    "collapsed": false,
    "deletable": true,
    "editable": true
   },
   "outputs": [],
   "source": [
    "C_D1=[]\n",
    "C_D2=[]\n",
    "for key, item in C_D_F['D1'].items():\n",
    "    C_D1.append([item[-1],key])\n",
    "for key, item in C_D_F['D2'].items():\n",
    "    C_D2.append([item[-1],key])\n",
    "C_D1_1=sorted(C_D1, key=itemgetter(0), reverse=False)[:25]\n",
    "C_D1_1"
   ]
  },
  {
   "cell_type": "code",
   "execution_count": null,
   "metadata": {
    "collapsed": false,
    "deletable": true,
    "editable": true
   },
   "outputs": [],
   "source": [
    "C_D2_2=sorted(C_D2, key=itemgetter(0), reverse=False)[:25]\n",
    "C_D2_2"
   ]
  },
  {
   "cell_type": "code",
   "execution_count": 73,
   "metadata": {
    "collapsed": true,
    "deletable": true,
    "editable": true
   },
   "outputs": [],
   "source": [
    "C_L=[]\n",
    "for item,key in C_D1_1:\n",
    "    C_L.append(C_D_F['D1'][key])\n",
    "for item,key in C_D2_2:\n",
    "    C_L.append(C_D_F['D2'][key])"
   ]
  },
  {
   "cell_type": "code",
   "execution_count": 74,
   "metadata": {
    "collapsed": false,
    "deletable": true,
    "editable": true
   },
   "outputs": [
    {
     "data": {
      "text/plain": [
       "50"
      ]
     },
     "execution_count": 74,
     "metadata": {},
     "output_type": "execute_result"
    }
   ],
   "source": [
    "len(C_L)"
   ]
  },
  {
   "cell_type": "code",
   "execution_count": null,
   "metadata": {
    "collapsed": true,
    "deletable": true,
    "editable": true
   },
   "outputs": [],
   "source": []
  },
  {
   "cell_type": "code",
   "execution_count": 75,
   "metadata": {
    "collapsed": false,
    "deletable": true,
    "editable": true
   },
   "outputs": [
    {
     "data": {
      "text/plain": [
       "(['D1', 'Z03', 'J61', 'F58'], 4, 73.50083559341081, 1.6333519020757958)"
      ]
     },
     "execution_count": 75,
     "metadata": {},
     "output_type": "execute_result"
    }
   ],
   "source": [
    "A_D_F['D1']['F58']"
   ]
  },
  {
   "cell_type": "code",
   "execution_count": 76,
   "metadata": {
    "collapsed": false,
    "deletable": true,
    "editable": true
   },
   "outputs": [
    {
     "data": {
      "text/plain": [
       "dict_keys(['F57', 'F29', 'F36', 'F18', 'F44', 'F56', 'F26', 'F28', 'F45', 'F54', 'F19', 'F27', 'F39', 'F31', 'F32', 'F24', 'F30', 'F53', 'F12', 'F20', 'F15', 'F07', 'F43', 'F14', 'F58', 'F42', 'F51', 'F40', 'F17', 'F05', 'F21', 'F48', 'F33', 'F50', 'F02', 'F38', 'F60', 'F34', 'F10', 'F22', 'F25', 'F06', 'F41', 'F35', 'F09', 'F23', 'F13', 'F16', 'F37', 'F03', 'F55', 'F52', 'F11', 'F01', 'F46', 'F08', 'F49', 'F47', 'F04', 'F59'])"
      ]
     },
     "execution_count": 76,
     "metadata": {},
     "output_type": "execute_result"
    }
   ],
   "source": [
    "A_D_F['D2'].keys()"
   ]
  },
  {
   "cell_type": "code",
   "execution_count": 77,
   "metadata": {
    "collapsed": false,
    "deletable": true,
    "editable": true
   },
   "outputs": [
    {
     "data": {
      "text/plain": [
       "60"
      ]
     },
     "execution_count": 77,
     "metadata": {},
     "output_type": "execute_result"
    }
   ],
   "source": [
    "len(B_D_F['D1'])"
   ]
  },
  {
   "cell_type": "code",
   "execution_count": null,
   "metadata": {
    "collapsed": false,
    "deletable": true,
    "editable": true
   },
   "outputs": [],
   "source": []
  },
  {
   "cell_type": "markdown",
   "metadata": {
    "deletable": true,
    "editable": true
   },
   "source": [
    "# 按耗时最短排序"
   ]
  },
  {
   "cell_type": "code",
   "execution_count": 616,
   "metadata": {
    "collapsed": false,
    "deletable": true,
    "editable": true,
    "scrolled": true
   },
   "outputs": [],
   "source": [
    "A_L=sorted(A_L, key=itemgetter(3), reverse=False)\n",
    "#A_L"
   ]
  },
  {
   "cell_type": "code",
   "execution_count": 617,
   "metadata": {
    "collapsed": false,
    "deletable": true,
    "editable": true,
    "scrolled": true
   },
   "outputs": [],
   "source": [
    "B_L=sorted(B_L, key=itemgetter(3), reverse=False)\n",
    "#B_L"
   ]
  },
  {
   "cell_type": "code",
   "execution_count": 618,
   "metadata": {
    "collapsed": false,
    "deletable": true,
    "editable": true,
    "scrolled": true
   },
   "outputs": [],
   "source": [
    "C_L=sorted(C_L, key=itemgetter(3), reverse=False)\n",
    "#C_L"
   ]
  },
  {
   "cell_type": "code",
   "execution_count": null,
   "metadata": {
    "collapsed": true,
    "deletable": true,
    "editable": true
   },
   "outputs": [],
   "source": []
  },
  {
   "cell_type": "code",
   "execution_count": null,
   "metadata": {
    "collapsed": true,
    "deletable": true,
    "editable": true
   },
   "outputs": [],
   "source": [
    "'''\n",
    "目前权值是以小时为单位的，所以最终结果需要转为分钟 即 * 60  \n",
    "d_f:表示所有24辆车的路径\n",
    "{车号:path}\n",
    "departure:表示每辆车的发车时间，出发时刻，分钟为单位\n",
    "{车号:时刻}\n",
    "f_z:{车号:path}\n",
    "z_f:{车号:path}\n",
    "'''\n",
    "departure,d_f,f_z,z_f={},{},{},{}\n",
    "targetTime,stage1,stage2=allConsum(departure,d_f,f_z,z_f)"
   ]
  },
  {
   "cell_type": "code",
   "execution_count": 808,
   "metadata": {
    "collapsed": false,
    "deletable": true,
    "editable": true
   },
   "outputs": [],
   "source": [
    "d_f=dict()\n",
    "d_f['A01']=['D2', 'J32', 'F24']\n",
    "d_f['A02']=['D2', 'J12', 'J13', 'J21', 'F03']\n",
    "d_f['A03']=['D2', 'J03', 'J48', 'F47']\n",
    "d_f['A04']=['D1', 'J11', 'J46', 'F43']\n",
    "d_f['A05']=['D1', 'J09', 'J08', 'J07', 'J06', 'J36', 'F29']\n",
    "d_f['A06']=['D1', 'Z03', 'J61', 'F57']\n",
    "d_f['B01']=['D2', 'J03', 'J02', 'J47', 'F45']\n",
    "d_f['B02']=['D2', 'J03', 'J04', 'J05', 'J49', 'F49']\n",
    "d_f['B03']=['D2', 'J12', 'J13', 'J21', 'F02']\n",
    "d_f['B04']=['D2', 'J12', 'J13', 'J21', 'F01']\n",
    "d_f['B05']=['D2', 'J03', 'J04', 'J05', 'J49', 'F48']\n",
    "d_f['B06']=['D1', 'J10', 'J45', 'J42', 'J40', 'F38']\n",
    "d_f['C01']=['D2', 'J32', 'J33', 'F25']\n",
    "d_f['C02']=['D2', 'J32', 'J33', 'J34', 'F26']\n",
    "d_f['C03']=['D2', 'J03', 'J04', 'J50', 'F50']\n",
    "d_f['C04']=['D2', 'J12', 'J13', 'J14', 'J35', 'F27']\n",
    "d_f['C05']=['D2', 'J12', 'J13', 'J14', 'J35', 'F28']\n",
    "d_f['C06']=['D1', 'Z03', 'J61', 'F58']\n",
    "d_f['C07']=['D1', 'J11', 'J46', 'J44', 'F42']\n",
    "d_f['C08']=['D1', 'J11', 'J46', 'J44', 'F41']\n",
    "d_f['C09']=['D2', 'J12', 'J13', 'J21', 'J22', 'F06']\n",
    "d_f['C10']=['D2', 'J03', 'J04', 'J50', 'J53', 'F51']\n",
    "d_f['C11']=['D2', 'J12', 'J13', 'J21', 'J22', 'F05']\n",
    "d_f['C12']=['D1', 'J09', 'J08', 'J07', 'Z04', 'J38', 'F34']"
   ]
  },
  {
   "cell_type": "code",
   "execution_count": 809,
   "metadata": {
    "collapsed": false
   },
   "outputs": [],
   "source": [
    "#D2=[[key,item,tmp_1[key][1],tmp_1[key][1]-24.90872225635921] for key,item in d_f.items() if item[0]=='D2']"
   ]
  },
  {
   "cell_type": "code",
   "execution_count": null,
   "metadata": {
    "collapsed": false
   },
   "outputs": [],
   "source": [
    "D1=[[key,item,tmp_1[key][1],tmp_1[key][1]-30.08137112714261] for key,item in d_f.items() if item[0]=='D1']"
   ]
  },
  {
   "cell_type": "code",
   "execution_count": null,
   "metadata": {
    "collapsed": false
   },
   "outputs": [],
   "source": [
    "sorted(D1, key=itemgetter(2), reverse=False)"
   ]
  },
  {
   "cell_type": "code",
   "execution_count": 193,
   "metadata": {
    "collapsed": false
   },
   "outputs": [
    {
     "data": {
      "text/plain": [
       "(30.08137112714261, 24.90872225635921)"
      ]
     },
     "execution_count": 193,
     "metadata": {},
     "output_type": "execute_result"
    }
   ],
   "source": [
    "min([tim[2] for tim in D1]),min([tim[2] for tim in D2])"
   ]
  },
  {
   "cell_type": "code",
   "execution_count": 718,
   "metadata": {
    "collapsed": false,
    "deletable": true,
    "editable": true
   },
   "outputs": [
    {
     "data": {
      "text/plain": [
       "49.6028673006354"
      ]
     },
     "execution_count": 718,
     "metadata": {},
     "output_type": "execute_result"
    }
   ],
   "source": [
    "name='Z03D1'\n",
    "(edgeDist[name][0]/45)*60"
   ]
  },
  {
   "cell_type": "code",
   "execution_count": 109,
   "metadata": {
    "collapsed": false,
    "deletable": true,
    "editable": true
   },
   "outputs": [
    {
     "name": "stdout",
     "output_type": "stream",
     "text": [
      "True\n"
     ]
    }
   ],
   "source": [
    "if 'D2J32' not in edgeDist.keys():\n",
    "    print('J32D2' in edgeDist.keys())"
   ]
  },
  {
   "cell_type": "code",
   "execution_count": 719,
   "metadata": {
    "collapsed": false
   },
   "outputs": [
    {
     "ename": "TypeError",
     "evalue": "'NoneType' object is not subscriptable",
     "output_type": "error",
     "traceback": [
      "\u001b[1;31m---------------------------------------------------------------------------\u001b[0m",
      "\u001b[1;31mTypeError\u001b[0m                                 Traceback (most recent call last)",
      "\u001b[1;32m<ipython-input-719-1a423a0a409a>\u001b[0m in \u001b[0;36m<module>\u001b[1;34m()\u001b[0m\n\u001b[0;32m      1\u001b[0m \u001b[0ma\u001b[0m\u001b[1;33m=\u001b[0m\u001b[1;34m'J03'\u001b[0m\u001b[1;33m\u001b[0m\u001b[0m\n\u001b[0;32m      2\u001b[0m \u001b[0mb\u001b[0m\u001b[1;33m=\u001b[0m\u001b[1;34m'D1'\u001b[0m\u001b[1;33m\u001b[0m\u001b[0m\n\u001b[1;32m----> 3\u001b[1;33m \u001b[0medgeDist\u001b[0m\u001b[1;33m.\u001b[0m\u001b[0mget\u001b[0m\u001b[1;33m(\u001b[0m\u001b[0ma\u001b[0m\u001b[1;33m+\u001b[0m\u001b[0mb\u001b[0m\u001b[1;33m)\u001b[0m\u001b[1;33m[\u001b[0m\u001b[1;36m0\u001b[0m\u001b[1;33m]\u001b[0m \u001b[1;32mif\u001b[0m \u001b[0medgeDist\u001b[0m\u001b[1;33m.\u001b[0m\u001b[0mget\u001b[0m\u001b[1;33m(\u001b[0m\u001b[0ma\u001b[0m\u001b[1;33m+\u001b[0m\u001b[0mb\u001b[0m\u001b[1;33m,\u001b[0m\u001b[1;32mNone\u001b[0m\u001b[1;33m)\u001b[0m \u001b[1;32melse\u001b[0m \u001b[0medgeDist\u001b[0m\u001b[1;33m.\u001b[0m\u001b[0mget\u001b[0m\u001b[1;33m(\u001b[0m\u001b[0mb\u001b[0m\u001b[1;33m+\u001b[0m\u001b[0ma\u001b[0m\u001b[1;33m)\u001b[0m\u001b[1;33m[\u001b[0m\u001b[1;36m0\u001b[0m\u001b[1;33m]\u001b[0m\u001b[1;33m\u001b[0m\u001b[0m\n\u001b[0m",
      "\u001b[1;31mTypeError\u001b[0m: 'NoneType' object is not subscriptable"
     ]
    }
   ],
   "source": [
    "a='J03'\n",
    "b='D1'\n",
    "edgeDist.get(a+b)[0] if edgeDist.get(a+b,None) else edgeDist.get(b+a)[0]"
   ]
  },
  {
   "cell_type": "code",
   "execution_count": 691,
   "metadata": {
    "collapsed": true,
    "deletable": true,
    "editable": true
   },
   "outputs": [],
   "source": [
    "#path,物理距离计算\n",
    "def pathDistance(path):\n",
    "    res=[]\n",
    "    for i in range(len(path)-1):\n",
    "        a,b=path[i:i+2]\n",
    "        res.append(edgeDist.get(a+b)[0] if edgeDist.get(a+b,None) else edgeDist.get(b+a)[0])\n",
    "    return sum(res)"
   ]
  },
  {
   "cell_type": "code",
   "execution_count": 692,
   "metadata": {
    "collapsed": false,
    "deletable": true,
    "editable": true
   },
   "outputs": [],
   "source": [
    "tmp_1=dict()\n",
    "for key,item in d_f.items():\n",
    "    if key[0]=='C':\n",
    "        tmp_1[key]=[0]\n",
    "        for i in range(len(item)-1):\n",
    "            a,b=item[i:i+2]\n",
    "            tmp_1[key].append((edgeDist.get(a+b)[0]/30)*60+tmp_1[key][i] if edgeDist.get(a+b,None) else (edgeDist.get(b+a)[0]/30)*60+tmp_1[key][i])\n",
    "    if key[0]=='B':\n",
    "        tmp_1[key]=[0]\n",
    "        for i in range(len(item)-1):\n",
    "            a,b=item[i:i+2]\n",
    "            tmp_1[key].append((edgeDist.get(a+b)[0]/35)*60+tmp_1[key][i] if edgeDist.get(a+b,None) else (edgeDist.get(b+a)[0]/35)*60+tmp_1[key][i])\n",
    "    if key[0]=='A':\n",
    "        tmp_1[key]=[0]\n",
    "        for i in range(len(item)-1):\n",
    "            a,b=item[i:i+2]\n",
    "            tmp_1[key].append((edgeDist.get(a+b)[0]/45)*60+tmp_1[key][i] if edgeDist.get(a+b,None) else (edgeDist.get(b+a)[0]/45)*60+tmp_1[key][i])"
   ]
  },
  {
   "cell_type": "code",
   "execution_count": 810,
   "metadata": {
    "collapsed": true
   },
   "outputs": [],
   "source": [
    "cc=dict()\n",
    "cc['A01']=0\n",
    "cc['A02']=0\n",
    "cc['A03']=0\n",
    "cc['A04']=0\n",
    "cc['A05']=0\n",
    "cc['A06']=0\n",
    "cc['B01']=29\n",
    "cc['B02']=29*2\n",
    "cc['B03']=33*2\n",
    "cc['B04']=33\n",
    "cc['B05']=29*3\n",
    "cc['B06']=0\n",
    "cc['C01']=50\n",
    "cc['C02']=25\n",
    "cc['C03']=29*5\n",
    "cc['C04']=33*4\n",
    "cc['C05']=33*6\n",
    "cc['C06']=50\n",
    "cc['C07']=31\n",
    "cc['C08']=31*2\n",
    "cc['C09']=33*5\n",
    "cc['C10']=29*4\n",
    "cc['C11']=33*3\n",
    "cc['C12']=44"
   ]
  },
  {
   "cell_type": "code",
   "execution_count": 811,
   "metadata": {
    "collapsed": false,
    "deletable": true,
    "editable": true
   },
   "outputs": [],
   "source": [
    "'''\n",
    "目前权值是以小时为单位的，所以最终结果需要转为分钟 即 * 60  \n",
    "d_f:表示所有24辆车的路径\n",
    "{车号:path}\n",
    "departure:表示每辆车的发车时间，出发时刻，分钟为单位\n",
    "{车号:时刻}\n",
    "f_z:{车号:path}\n",
    "z_f:{车号:path}\n",
    "'''\n",
    "#stage1=stage1Consum(d_f,tmp_1)\n",
    "stage1=stage1Consum(d_f,cc)"
   ]
  },
  {
   "cell_type": "code",
   "execution_count": 754,
   "metadata": {
    "collapsed": true
   },
   "outputs": [],
   "source": [
    "set_pickle('stage_1',stage1)"
   ]
  },
  {
   "cell_type": "code",
   "execution_count": 812,
   "metadata": {
    "collapsed": false
   },
   "outputs": [
    {
     "data": {
      "text/html": [
       "<div>\n",
       "<table border=\"1\" class=\"dataframe\">\n",
       "  <thead>\n",
       "    <tr style=\"text-align: right;\">\n",
       "      <th></th>\n",
       "      <th>位置</th>\n",
       "      <th>类型</th>\n",
       "      <th>耗时</th>\n",
       "    </tr>\n",
       "  </thead>\n",
       "  <tbody>\n",
       "    <tr>\n",
       "      <th>0</th>\n",
       "      <td>D2</td>\n",
       "      <td>node</td>\n",
       "      <td>0.000000</td>\n",
       "    </tr>\n",
       "    <tr>\n",
       "      <th>1</th>\n",
       "      <td>(D2, J32)</td>\n",
       "      <td>edge</td>\n",
       "      <td>24.908722</td>\n",
       "    </tr>\n",
       "    <tr>\n",
       "      <th>2</th>\n",
       "      <td>J32</td>\n",
       "      <td>node</td>\n",
       "      <td>0.000000</td>\n",
       "    </tr>\n",
       "    <tr>\n",
       "      <th>3</th>\n",
       "      <td>(J32, F24)</td>\n",
       "      <td>edge</td>\n",
       "      <td>12.292726</td>\n",
       "    </tr>\n",
       "    <tr>\n",
       "      <th>4</th>\n",
       "      <td>F24</td>\n",
       "      <td>node</td>\n",
       "      <td>306.039729</td>\n",
       "    </tr>\n",
       "  </tbody>\n",
       "</table>\n",
       "</div>"
      ],
      "text/plain": [
       "           位置    类型          耗时\n",
       "0          D2  node    0.000000\n",
       "1   (D2, J32)  edge   24.908722\n",
       "2         J32  node    0.000000\n",
       "3  (J32, F24)  edge   12.292726\n",
       "4         F24  node  306.039729"
      ]
     },
     "execution_count": 812,
     "metadata": {},
     "output_type": "execute_result"
    }
   ],
   "source": [
    "stage1['A01']['D-F时序']"
   ]
  },
  {
   "cell_type": "code",
   "execution_count": 697,
   "metadata": {
    "collapsed": false,
    "scrolled": true
   },
   "outputs": [],
   "source": [
    "#[car for car,state in stage1.items()]"
   ]
  },
  {
   "cell_type": "code",
   "execution_count": 699,
   "metadata": {
    "collapsed": false
   },
   "outputs": [],
   "source": [
    "d_f_2=dict()\n",
    "Car_ty=[it2 for it1 in [carA,carB,carC] for it2 in it1]\n",
    "for i in Car_ty:\n",
    "    d_f_2[i]=None"
   ]
  },
  {
   "cell_type": "code",
   "execution_count": 700,
   "metadata": {
    "collapsed": false
   },
   "outputs": [
    {
     "data": {
      "text/plain": [
       "('F24', 'C12')"
      ]
     },
     "execution_count": 700,
     "metadata": {},
     "output_type": "execute_result"
    }
   ],
   "source": [
    "B_L[0][0][-1],carC[11]"
   ]
  },
  {
   "cell_type": "code",
   "execution_count": 701,
   "metadata": {
    "collapsed": false,
    "scrolled": false
   },
   "outputs": [],
   "source": [
    "#d_f_2=dict()\n",
    "jishu=dict()\n",
    "F_node=[\"F\"+str(i).zfill(2) for i in range(1,61)]\n",
    "for i in F_node:\n",
    "    jishu[i]=0\n",
    "i_A=0\n",
    "for item in A_L:\n",
    "    if i_A > 5:break\n",
    "    if jishu[item[0][-1]] == 0:\n",
    "        d_f_2[carA[i_A]]=item[0]\n",
    "        jishu[item[0][-1]] += 1\n",
    "        i_A += 1\n",
    "i_B=0\n",
    "for item in B_L:\n",
    "    if i_B > 5:break\n",
    "    if jishu[item[0][-1]] == 0:\n",
    "        d_f_2[carB[i_B]]=item[0]\n",
    "        jishu[item[0][-1]] += 1\n",
    "        i_B += 1\n",
    "i_C=0\n",
    "for item in C_L:\n",
    "    if i_C > 11:break\n",
    "    if jishu[item[0][-1]] == 0:\n",
    "        d_f_2[carC[i_C]]=item[0]\n",
    "        jishu[item[0][-1]] += 1\n",
    "        i_C += 1\n",
    "#d_f_2       "
   ]
  },
  {
   "cell_type": "code",
   "execution_count": 702,
   "metadata": {
    "collapsed": false
   },
   "outputs": [],
   "source": [
    "d_f_t=dict()\n",
    "Car_ty=[it2 for it1 in [carA,carB,carC] for it2 in it1]\n",
    "for i in Car_ty:\n",
    "    d_f_t[i]=None"
   ]
  },
  {
   "cell_type": "code",
   "execution_count": 703,
   "metadata": {
    "collapsed": false,
    "scrolled": true
   },
   "outputs": [
    {
     "data": {
      "text/plain": [
       "{'A01': [49.81744451271842],\n",
       " 'A02': [24.90872225635921],\n",
       " 'A03': [0.0],\n",
       " 'A04': [30.08137112714261],\n",
       " 'A05': [168.7601848778319],\n",
       " 'A06': [196.88688235747054],\n",
       " 'B01': [36.16289675953541],\n",
       " 'B02': [0.0],\n",
       " 'B03': [41.74558512646602],\n",
       " 'B04': [166.98234050586407],\n",
       " 'B05': [0.0],\n",
       " 'B06': [180.81448379767704],\n",
       " 'C01': [126.57013865837393],\n",
       " 'C02': [168.7601848778319],\n",
       " 'C03': [292.2190958852621],\n",
       " 'C04': [243.51591323771842],\n",
       " 'C05': [0.0],\n",
       " 'C06': [74.4043009509531],\n",
       " 'C07': [90.24411338142782],\n",
       " 'C08': [0.0],\n",
       " 'C09': [97.40636529508737],\n",
       " 'C10': [84.38009243891595],\n",
       " 'C11': [146.10954794263105],\n",
       " 'C12': [340.92227853280576]}"
      ]
     },
     "execution_count": 703,
     "metadata": {},
     "output_type": "execute_result"
    }
   ],
   "source": [
    "#tmp_d_f_t_D1=dict()\n",
    "tmp_ji=dict()\n",
    "for key,item in d_f_2.items():\n",
    "        a,b=item[0:2]\n",
    "        tmp_ji[a+b]=0\n",
    "for key,item in d_f_2.items():\n",
    "    if item[0]=='D1':\n",
    "        a,b=item[0:2]\n",
    "        tmp_ji[a+b] += 1\n",
    "        if key[0]=='C':\n",
    "            #d_f_t[key].append((edgeDist.get(a+b)[0]/30)*60*(tmp_ji[a+b]-1) if edgeDist.get(a+b,None) else (edgeDist.get(b+a)[0]/30)*60*(tmp_ji[a+b]-1))\n",
    "            d_f_t[key]=[(edgeDist.get(a+b)[0]/30)*60*(tmp_ji[a+b]-1) if edgeDist.get(a+b,None) else (edgeDist.get(b+a)[0]/30)*60*(tmp_ji[a+b]-1)]\n",
    "        if key[0]=='B':\n",
    "            #d_f_t[key].append((edgeDist.get(a+b)[0]/30)*60*(tmp_ji[a+b]-1) if edgeDist.get(a+b,None) else (edgeDist.get(b+a)[0]/30)*60*(tmp_ji[a+b]-1))\n",
    "            d_f_t[key]=[(edgeDist.get(a+b)[0]/35)*60*(tmp_ji[a+b]-1) if edgeDist.get(a+b,None) else (edgeDist.get(b+a)[0]/35)*60*(tmp_ji[a+b]-1)]\n",
    "        if key[0]=='A':\n",
    "            #d_f_t[key].append((edgeDist.get(a+b)[0]/30)*60*(tmp_ji[a+b]-1) if edgeDist.get(a+b,None) else (edgeDist.get(b+a)[0]/30)*60*(tmp_ji[a+b]-1))\n",
    "            d_f_t[key]=[(edgeDist.get(a+b)[0]/45)*60*(tmp_ji[a+b]-1) if edgeDist.get(a+b,None) else (edgeDist.get(b+a)[0]/45)*60*(tmp_ji[a+b]-1)]\n",
    "    if item[0]=='D2':\n",
    "        a,b=item[0:2]\n",
    "        tmp_ji[a+b] += 1\n",
    "        if key[0]=='C':\n",
    "            #d_f_t[key].append((edgeDist.get(a+b)[0]/30)*60*(tmp_ji[a+b]-1) if edgeDist.get(a+b,None) else (edgeDist.get(b+a)[0]/30)*60*(tmp_ji[a+b]-1))\n",
    "            d_f_t[key]=[(edgeDist.get(a+b)[0]/30)*60*(tmp_ji[a+b]-1) if edgeDist.get(a+b,None) else (edgeDist.get(b+a)[0]/30)*60*(tmp_ji[a+b]-1)]\n",
    "        if key[0]=='B':\n",
    "            #d_f_t[key].append((edgeDist.get(a+b)[0]/30)*60*(tmp_ji[a+b]-1) if edgeDist.get(a+b,None) else (edgeDist.get(b+a)[0]/30)*60*(tmp_ji[a+b]-1))\n",
    "            d_f_t[key]=[(edgeDist.get(a+b)[0]/35)*60*(tmp_ji[a+b]-1) if edgeDist.get(a+b,None) else (edgeDist.get(b+a)[0]/35)*60*(tmp_ji[a+b]-1)]\n",
    "        if key[0]=='A':\n",
    "            #d_f_t[key].append((edgeDist.get(a+b)[0]/30)*60*(tmp_ji[a+b]-1) if edgeDist.get(a+b,None) else (edgeDist.get(b+a)[0]/30)*60*(tmp_ji[a+b]-1))\n",
    "            d_f_t[key]=[(edgeDist.get(a+b)[0]/45)*60*(tmp_ji[a+b]-1) if edgeDist.get(a+b,None) else (edgeDist.get(b+a)[0]/45)*60*(tmp_ji[a+b]-1)]\n",
    "            \n",
    "d_f_t"
   ]
  },
  {
   "cell_type": "code",
   "execution_count": 704,
   "metadata": {
    "collapsed": false
   },
   "outputs": [],
   "source": [
    "test_stage1=stage1Consum(d_f_2,d_f_t)\n",
    "#test_stage1"
   ]
  },
  {
   "cell_type": "code",
   "execution_count": 705,
   "metadata": {
    "collapsed": true
   },
   "outputs": [],
   "source": [
    "tmp_1=dict()\n",
    "for key,item in d_f.items():\n",
    "    if key[0]=='C':\n",
    "        tmp_1[key]=[0]\n",
    "        for i in range(len(item)-1):\n",
    "            a,b=item[i:i+2]\n",
    "            tmp_1[key].append((edgeDist.get(a+b)[0]/30)*60+tmp_1[key][i] if edgeDist.get(a+b,None) else (edgeDist.get(b+a)[0]/30)*60+tmp_1[key][i])\n",
    "    if key[0]=='B':\n",
    "        tmp_1[key]=[0]\n",
    "        for i in range(len(item)-1):\n",
    "            a,b=item[i:i+2]\n",
    "            tmp_1[key].append((edgeDist.get(a+b)[0]/35)*60+tmp_1[key][i] if edgeDist.get(a+b,None) else (edgeDist.get(b+a)[0]/35)*60+tmp_1[key][i])\n",
    "    if key[0]=='A':\n",
    "        tmp_1[key]=[0]\n",
    "        for i in range(len(item)-1):\n",
    "            a,b=item[i:i+2]\n",
    "            tmp_1[key].append((edgeDist.get(a+b)[0]/45)*60+tmp_1[key][i] if edgeDist.get(a+b,None) else (edgeDist.get(b+a)[0]/45)*60+tmp_1[key][i])"
   ]
  },
  {
   "cell_type": "code",
   "execution_count": null,
   "metadata": {
    "collapsed": true
   },
   "outputs": [],
   "source": []
  },
  {
   "cell_type": "code",
   "execution_count": 706,
   "metadata": {
    "collapsed": false,
    "deletable": true,
    "editable": true
   },
   "outputs": [],
   "source": [
    "#f_z\n",
    "#A车\n",
    "#再遍历\n",
    "A_F_Z={}\n",
    "for f in F:\n",
    "    A_F_Z[f]={}\n",
    "    for z in Z:\n",
    "        shorttemp=nx.shortest_path(G,source=f,target=z,weight=\"A车耗时\")\n",
    "        A_F_Z[f][z]=(shorttemp,len(shorttemp),pathDistance(shorttemp),pathTime(shorttemp,'A'))\n",
    "#B车\n",
    "#再遍历\n",
    "B_F_Z={}\n",
    "for f in F:\n",
    "    B_F_Z[f]={}\n",
    "    for z in Z:\n",
    "        shorttemp=nx.shortest_path(G,source=f,target=z,weight=\"B车耗时\")\n",
    "        B_F_Z[f][z]=(shorttemp,len(shorttemp),pathDistance(shorttemp),pathTime(shorttemp,'B'))\n",
    "#C车\n",
    "#再遍历\n",
    "C_F_Z={}\n",
    "for f in F:\n",
    "    C_F_Z[f]={}\n",
    "    for z in Z:\n",
    "        shorttemp=nx.shortest_path(G,source=f,target=z,weight=\"C车耗时\")\n",
    "        C_F_Z[f][z]=(shorttemp,len(shorttemp),pathDistance(shorttemp),pathTime(shorttemp,'C'))\n",
    "#z_f\n",
    "#A车\n",
    "#再遍历\n",
    "A_Z_F={}\n",
    "for z in Z:\n",
    "    A_Z_F[z]={}\n",
    "    for f in F:\n",
    "        shorttemp=nx.shortest_path(G,source=z,target=f,weight=\"A车耗时\")\n",
    "        A_Z_F[z][f]=(shorttemp,len(shorttemp),pathDistance(shorttemp),pathTime(shorttemp,'A'))\n",
    "#B车\n",
    "#再遍历\n",
    "B_Z_F={}\n",
    "for z in Z:\n",
    "    B_Z_F[z]={}\n",
    "    for f in F:\n",
    "        shorttemp=nx.shortest_path(G,source=z,target=f,weight=\"B车耗时\")\n",
    "        B_Z_F[z][f]=(shorttemp,len(shorttemp),pathDistance(shorttemp),pathTime(shorttemp,'B'))\n",
    "#C车\n",
    "#再遍历\n",
    "C_Z_F={}\n",
    "for z in Z:\n",
    "    C_Z_F[z]={}\n",
    "    for f in F:\n",
    "        shorttemp=nx.shortest_path(G,source=z,target=f,weight=\"C车耗时\")\n",
    "        C_Z_F[z][f]=(shorttemp,len(shorttemp),pathDistance(shorttemp),pathTime(shorttemp,'C'))"
   ]
  },
  {
   "cell_type": "code",
   "execution_count": 707,
   "metadata": {
    "collapsed": false,
    "scrolled": true
   },
   "outputs": [
    {
     "data": {
      "text/plain": [
       "[['F47', 'J48', 'Z01'],\n",
       " ['F47', 'J48', 'J03', 'J04', 'J05', 'J06', 'J51', 'Z02'],\n",
       " ['F47', 'J48', 'J03', 'J04', 'J05', 'J06', 'J07', 'Z04'],\n",
       " ['F47', 'J48', 'J03', 'J04', 'J05', 'J06', 'J51', 'Z02', 'J52', 'Z03'],\n",
       " ['F47', 'J48', 'J03', 'J32', 'J13', 'J14', 'J15', 'J16', 'Z06'],\n",
       " ['F47',\n",
       "  'J48',\n",
       "  'J03',\n",
       "  'J04',\n",
       "  'J05',\n",
       "  'J06',\n",
       "  'J07',\n",
       "  'J08',\n",
       "  'J09',\n",
       "  'J45',\n",
       "  'J44',\n",
       "  'Z05']]"
      ]
     },
     "execution_count": 707,
     "metadata": {},
     "output_type": "execute_result"
    }
   ],
   "source": [
    "a=sorted([item for key,item in A_F_Z['F47'].items()], key=itemgetter(3), reverse=False)\n",
    "[item[0]  for item in a]"
   ]
  },
  {
   "cell_type": "code",
   "execution_count": 708,
   "metadata": {
    "collapsed": false
   },
   "outputs": [
    {
     "data": {
      "text/plain": [
       "24"
      ]
     },
     "execution_count": 708,
     "metadata": {},
     "output_type": "execute_result"
    }
   ],
   "source": [
    "len(f_z_3)"
   ]
  },
  {
   "cell_type": "code",
   "execution_count": 709,
   "metadata": {
    "collapsed": false,
    "deletable": true,
    "editable": true
   },
   "outputs": [],
   "source": [
    "jishu_z=dict()\n",
    "Z_node=[\"Z\"+str(i).zfill(2) for i in range(1,7)]\n",
    "for i in Z_node:\n",
    "    jishu_z[i]=0\n",
    "def cre_f_z(d_f,jishu,A_F_Z,B_F_Z,C_F_Z):\n",
    "    #f_z:{车号:path}\n",
    "    f_z=dict()\n",
    "    for key,item in d_f.items():\n",
    "        if key[0]=='A':\n",
    "            #A_F_Z[item[-1]]\n",
    "            tmp = sorted([item2 for key2,item2 in A_F_Z[item[-1]].items()], key=itemgetter(3), reverse=False)\n",
    "            tmp2 = [item3[0] for item3 in tmp]\n",
    "            for f_z_li in tmp2:   \n",
    "                if jishu_z[f_z_li[-1]]<4:\n",
    "                    f_z[key]=f_z_li\n",
    "                    jishu_z[f_z_li[-1]] += 1\n",
    "                    break\n",
    "        if key[0]=='B':\n",
    "            #A_F_Z[item[-1]]\n",
    "            tmp = sorted([item2 for key2,item2 in B_F_Z[item[-1]].items()], key=itemgetter(3), reverse=False)\n",
    "            tmp2 = [item3[0] for item3 in tmp]\n",
    "            for f_z_li in tmp2:   \n",
    "                if jishu_z[f_z_li[-1]]<4:\n",
    "                    f_z[key]=f_z_li\n",
    "                    jishu_z[f_z_li[-1]] += 1\n",
    "                    break\n",
    "        if key[0]=='C':\n",
    "            #A_F_Z[item[-1]]\n",
    "            tmp = sorted([item2 for key2,item2 in C_F_Z[item[-1]].items()], key=itemgetter(3), reverse=False)\n",
    "            tmp2 = [item3[0] for item3 in tmp]\n",
    "            for f_z_li in tmp2:   \n",
    "                if jishu_z[f_z_li[-1]]<4:\n",
    "                    f_z[key]=f_z_li\n",
    "                    jishu_z[f_z_li[-1]] += 1\n",
    "                    break\n",
    "    return f_z"
   ]
  },
  {
   "cell_type": "code",
   "execution_count": 710,
   "metadata": {
    "collapsed": false
   },
   "outputs": [
    {
     "data": {
      "text/plain": [
       "'\\njishu=dict()\\nF_node=[\"F\"+str(i).zfill(2) for i in range(1,61)]\\nfor i in F_node:\\n    jishu[i]=0\\nfor key,item in d_f.items():\\n    jishu[item[-1]] += 1 \\n'"
      ]
     },
     "execution_count": 710,
     "metadata": {},
     "output_type": "execute_result"
    }
   ],
   "source": [
    "'''\n",
    "jishu=dict()\n",
    "F_node=[\"F\"+str(i).zfill(2) for i in range(1,61)]\n",
    "for i in F_node:\n",
    "    jishu[i]=0\n",
    "for key,item in d_f.items():\n",
    "    jishu[item[-1]] += 1 \n",
    "'''"
   ]
  },
  {
   "cell_type": "code",
   "execution_count": 527,
   "metadata": {
    "collapsed": false
   },
   "outputs": [],
   "source": [
    "#jishu"
   ]
  },
  {
   "cell_type": "code",
   "execution_count": null,
   "metadata": {
    "collapsed": false
   },
   "outputs": [],
   "source": [
    "'''\n",
    "#z_f:{车号:path}\n",
    "z_f=dict()\n",
    "for key,item in f_z.items():\n",
    "    if key[0]=='A':\n",
    "        #A_F_Z[item[-1]]\n",
    "        tmp = sorted([item2 for key2,item2 in A_Z_F[item[-1]].items()], key=itemgetter(3), reverse=False)\n",
    "        tmp2 = [item3[0] for item3 in tmp]\n",
    "        z_f[key]=tmp2[0]\n",
    "    if key[0]=='B':\n",
    "        #A_F_Z[item[-1]]\n",
    "        tmp = sorted([item2 for key2,item2 in B_Z_F[item[-1]].items()], key=itemgetter(3), reverse=False)\n",
    "        tmp2 = [item3[0] for item3 in tmp]\n",
    "        z_f[key]=tmp2[0]\n",
    "    if key[0]=='C':\n",
    "        #A_F_Z[item[-1]]\n",
    "        tmp = sorted([item2 for key2,item2 in C_Z_F[item[-1]].items()], key=itemgetter(3), reverse=False)\n",
    "        tmp2 = [item3[0] for item3 in tmp]\n",
    "        z_f[key]=tmp2[0]\n",
    "'''    "
   ]
  },
  {
   "cell_type": "code",
   "execution_count": 711,
   "metadata": {
    "collapsed": false,
    "scrolled": true
   },
   "outputs": [],
   "source": [
    "def cre_z_f(f_z,jishu,A_Z_F,B_Z_F,C_Z_F):\n",
    "    z_f=dict()\n",
    "    for key,item in f_z.items():\n",
    "        if key[0]=='A':\n",
    "            #A_F_Z[item[-1]]\n",
    "            tmp = sorted([item2 for key2,item2 in A_Z_F[item[-1]].items()], key=itemgetter(3), reverse=False)\n",
    "            tmp2 = [item3[0] for item3 in tmp]\n",
    "            for tmpp in tmp2:\n",
    "                if jishu[tmpp[-1]]==0:\n",
    "                    z_f[key]=tmpp\n",
    "                    jishu[tmpp[-1]] += 1\n",
    "                    break\n",
    "        if key[0]=='B':\n",
    "            #A_F_Z[item[-1]]\n",
    "            tmp = sorted([item2 for key2,item2 in B_Z_F[item[-1]].items()], key=itemgetter(3), reverse=False)\n",
    "            tmp2 = [item3[0] for item3 in tmp]\n",
    "            for tmpp in tmp2:\n",
    "                if jishu[tmpp[-1]]==0:\n",
    "                    z_f[key]=tmpp\n",
    "                    jishu[tmpp[-1]] += 1\n",
    "                    break\n",
    "        if key[0]=='C':\n",
    "            #A_F_Z[item[-1]]\n",
    "            tmp = sorted([item2 for key2,item2 in C_Z_F[item[-1]].items()], key=itemgetter(3), reverse=False)\n",
    "            tmp2 = [item3[0] for item3 in tmp]\n",
    "            for tmpp in tmp2:\n",
    "                if jishu[tmpp[-1]]==0:\n",
    "                    z_f[key]=tmpp\n",
    "                    jishu[tmpp[-1]] += 1\n",
    "                    break\n",
    "    return z_f"
   ]
  },
  {
   "cell_type": "code",
   "execution_count": 667,
   "metadata": {
    "collapsed": true
   },
   "outputs": [],
   "source": [
    "f_z_3=cre_f_z(d_f_2,jishu,A_F_Z,B_F_Z,C_F_Z)\n",
    "z_f_3=cre_z_f(f_z_3,jishu,A_Z_F,B_Z_F,C_Z_F)"
   ]
  },
  {
   "cell_type": "code",
   "execution_count": 535,
   "metadata": {
    "collapsed": false
   },
   "outputs": [],
   "source": [
    "f_z_2=cre_f_z(d_f_2,jishu,A_F_Z,B_F_Z,C_F_Z)\n",
    "z_f_2=cre_z_f(f_z_2,jishu,A_Z_F,B_Z_F,C_Z_F)"
   ]
  },
  {
   "cell_type": "code",
   "execution_count": 712,
   "metadata": {
    "collapsed": true
   },
   "outputs": [],
   "source": [
    "f_z=cre_f_z(d_f,jishu,A_F_Z,B_F_Z,C_F_Z)\n",
    "z_f=cre_z_f(f_z,jishu,A_Z_F,B_Z_F,C_Z_F)"
   ]
  },
  {
   "cell_type": "code",
   "execution_count": null,
   "metadata": {
    "collapsed": false,
    "deletable": true,
    "editable": true
   },
   "outputs": [],
   "source": [
    "targetTime,stage1,stage2=allConsum(d_f_t,d_f_2,f_z_3,z_f_3)"
   ]
  },
  {
   "cell_type": "code",
   "execution_count": 669,
   "metadata": {
    "collapsed": false
   },
   "outputs": [
    {
     "name": "stdout",
     "output_type": "stream",
     "text": [
      "出错了：006\n"
     ]
    }
   ],
   "source": [
    "zx = stage2Consum(f_z_2,z_f_2)"
   ]
  },
  {
   "cell_type": "code",
   "execution_count": 798,
   "metadata": {
    "collapsed": false
   },
   "outputs": [],
   "source": [
    "dataset=dict()\n",
    "Car_ty=[it2 for it1 in [carA,carB,carC] for it2 in it1]\n",
    "for i in Car_ty:\n",
    "    dataset[i]=[]\n",
    "#dataset"
   ]
  },
  {
   "cell_type": "code",
   "execution_count": 799,
   "metadata": {
    "collapsed": false
   },
   "outputs": [],
   "source": [
    "for key,item in d_f_2.items():\n",
    "    dataset[key].append(item)\n",
    "for key,item in f_z_3.items():\n",
    "    dataset[key].append(item)\n",
    "for key,item in z_f_3.items():\n",
    "    dataset[key].append(item)"
   ]
  },
  {
   "cell_type": "code",
   "execution_count": null,
   "metadata": {
    "collapsed": true
   },
   "outputs": [],
   "source": []
  },
  {
   "cell_type": "code",
   "execution_count": 801,
   "metadata": {
    "collapsed": true
   },
   "outputs": [],
   "source": [
    "F=open('dataset.pkl','wb')\n",
    "import pickle\n",
    "pickle.dump(dataset,F)\n",
    "F.close()"
   ]
  },
  {
   "cell_type": "code",
   "execution_count": 765,
   "metadata": {
    "collapsed": true
   },
   "outputs": [],
   "source": [
    "set_pickle('targetTime',targetTime)"
   ]
  },
  {
   "cell_type": "code",
   "execution_count": 750,
   "metadata": {
    "collapsed": false,
    "scrolled": false
   },
   "outputs": [
    {
     "data": {
      "text/html": [
       "<div>\n",
       "<table border=\"1\" class=\"dataframe\">\n",
       "  <thead>\n",
       "    <tr style=\"text-align: right;\">\n",
       "      <th></th>\n",
       "      <th>位置</th>\n",
       "      <th>类型</th>\n",
       "      <th>耗时</th>\n",
       "    </tr>\n",
       "  </thead>\n",
       "  <tbody>\n",
       "    <tr>\n",
       "      <th>0</th>\n",
       "      <td>Z02</td>\n",
       "      <td>node</td>\n",
       "      <td>0.000000</td>\n",
       "    </tr>\n",
       "    <tr>\n",
       "      <th>1</th>\n",
       "      <td>(Z02, J51)</td>\n",
       "      <td>edge</td>\n",
       "      <td>23.323808</td>\n",
       "    </tr>\n",
       "    <tr>\n",
       "      <th>2</th>\n",
       "      <td>J51</td>\n",
       "      <td>node</td>\n",
       "      <td>0.000000</td>\n",
       "    </tr>\n",
       "    <tr>\n",
       "      <th>3</th>\n",
       "      <td>(J51, J06)</td>\n",
       "      <td>edge</td>\n",
       "      <td>16.970563</td>\n",
       "    </tr>\n",
       "    <tr>\n",
       "      <th>4</th>\n",
       "      <td>J06</td>\n",
       "      <td>node</td>\n",
       "      <td>0.000000</td>\n",
       "    </tr>\n",
       "    <tr>\n",
       "      <th>5</th>\n",
       "      <td>(J06, J07)</td>\n",
       "      <td>edge</td>\n",
       "      <td>32.310989</td>\n",
       "    </tr>\n",
       "    <tr>\n",
       "      <th>6</th>\n",
       "      <td>J07</td>\n",
       "      <td>node</td>\n",
       "      <td>0.000000</td>\n",
       "    </tr>\n",
       "    <tr>\n",
       "      <th>7</th>\n",
       "      <td>(J07, Z04)</td>\n",
       "      <td>edge</td>\n",
       "      <td>31.622777</td>\n",
       "    </tr>\n",
       "    <tr>\n",
       "      <th>8</th>\n",
       "      <td>Z04</td>\n",
       "      <td>node</td>\n",
       "      <td>0.000000</td>\n",
       "    </tr>\n",
       "    <tr>\n",
       "      <th>9</th>\n",
       "      <td>(Z04, J37)</td>\n",
       "      <td>edge</td>\n",
       "      <td>28.284271</td>\n",
       "    </tr>\n",
       "    <tr>\n",
       "      <th>10</th>\n",
       "      <td>J37</td>\n",
       "      <td>node</td>\n",
       "      <td>0.000000</td>\n",
       "    </tr>\n",
       "    <tr>\n",
       "      <th>11</th>\n",
       "      <td>(J37, F31)</td>\n",
       "      <td>edge</td>\n",
       "      <td>14.422205</td>\n",
       "    </tr>\n",
       "    <tr>\n",
       "      <th>12</th>\n",
       "      <td>F31</td>\n",
       "      <td>node</td>\n",
       "      <td>47.395204</td>\n",
       "    </tr>\n",
       "  </tbody>\n",
       "</table>\n",
       "</div>"
      ],
      "text/plain": [
       "            位置    类型         耗时\n",
       "0          Z02  node   0.000000\n",
       "1   (Z02, J51)  edge  23.323808\n",
       "2          J51  node   0.000000\n",
       "3   (J51, J06)  edge  16.970563\n",
       "4          J06  node   0.000000\n",
       "5   (J06, J07)  edge  32.310989\n",
       "6          J07  node   0.000000\n",
       "7   (J07, Z04)  edge  31.622777\n",
       "8          Z04  node   0.000000\n",
       "9   (Z04, J37)  edge  28.284271\n",
       "10         J37  node   0.000000\n",
       "11  (J37, F31)  edge  14.422205\n",
       "12         F31  node  47.395204"
      ]
     },
     "execution_count": 750,
     "metadata": {},
     "output_type": "execute_result"
    }
   ],
   "source": [
    "stage2['C01']['Z-F时序']"
   ]
  },
  {
   "cell_type": "code",
   "execution_count": 671,
   "metadata": {
    "collapsed": false,
    "scrolled": true
   },
   "outputs": [
    {
     "data": {
      "text/html": [
       "<div>\n",
       "<table border=\"1\" class=\"dataframe\">\n",
       "  <thead>\n",
       "    <tr style=\"text-align: right;\">\n",
       "      <th></th>\n",
       "      <th>位置</th>\n",
       "      <th>类型</th>\n",
       "      <th>耗时</th>\n",
       "    </tr>\n",
       "  </thead>\n",
       "  <tbody>\n",
       "    <tr>\n",
       "      <th>0</th>\n",
       "      <td>D2</td>\n",
       "      <td>node</td>\n",
       "      <td>0.000000</td>\n",
       "    </tr>\n",
       "    <tr>\n",
       "      <th>1</th>\n",
       "      <td>(D2, J32)</td>\n",
       "      <td>edge</td>\n",
       "      <td>24.908722</td>\n",
       "    </tr>\n",
       "    <tr>\n",
       "      <th>2</th>\n",
       "      <td>J32</td>\n",
       "      <td>node</td>\n",
       "      <td>0.000000</td>\n",
       "    </tr>\n",
       "    <tr>\n",
       "      <th>3</th>\n",
       "      <td>(J32, F24)</td>\n",
       "      <td>edge</td>\n",
       "      <td>12.292726</td>\n",
       "    </tr>\n",
       "    <tr>\n",
       "      <th>4</th>\n",
       "      <td>F24</td>\n",
       "      <td>node</td>\n",
       "      <td>432.178056</td>\n",
       "    </tr>\n",
       "  </tbody>\n",
       "</table>\n",
       "</div>"
      ],
      "text/plain": [
       "           位置    类型          耗时\n",
       "0          D2  node    0.000000\n",
       "1   (D2, J32)  edge   24.908722\n",
       "2         J32  node    0.000000\n",
       "3  (J32, F24)  edge   12.292726\n",
       "4         F24  node  432.178056"
      ]
     },
     "execution_count": 671,
     "metadata": {},
     "output_type": "execute_result"
    }
   ],
   "source": [
    "test_stage1=stage1Consum(d_f_2,d_f_t)\n",
    "test_stage1['A01']['D-F时序']"
   ]
  },
  {
   "cell_type": "code",
   "execution_count": 687,
   "metadata": {
    "collapsed": false
   },
   "outputs": [
    {
     "data": {
      "text/plain": [
       "{}"
      ]
     },
     "execution_count": 687,
     "metadata": {},
     "output_type": "execute_result"
    }
   ],
   "source": [
    "f_z"
   ]
  },
  {
   "cell_type": "code",
   "execution_count": 813,
   "metadata": {
    "collapsed": false,
    "scrolled": true
   },
   "outputs": [],
   "source": [
    "targetTime,stage1,stage2=allConsum(cc,d_f,f_z,z_f)"
   ]
  },
  {
   "cell_type": "code",
   "execution_count": 816,
   "metadata": {
    "collapsed": false
   },
   "outputs": [
    {
     "data": {
      "text/html": [
       "<div>\n",
       "<table border=\"1\" class=\"dataframe\">\n",
       "  <thead>\n",
       "    <tr style=\"text-align: right;\">\n",
       "      <th></th>\n",
       "      <th>位置</th>\n",
       "      <th>类型</th>\n",
       "      <th>耗时</th>\n",
       "    </tr>\n",
       "  </thead>\n",
       "  <tbody>\n",
       "    <tr>\n",
       "      <th>0</th>\n",
       "      <td>D2</td>\n",
       "      <td>node</td>\n",
       "      <td>0.000000</td>\n",
       "    </tr>\n",
       "    <tr>\n",
       "      <th>1</th>\n",
       "      <td>(D2, J32)</td>\n",
       "      <td>edge</td>\n",
       "      <td>37.363083</td>\n",
       "    </tr>\n",
       "    <tr>\n",
       "      <th>2</th>\n",
       "      <td>J32</td>\n",
       "      <td>node</td>\n",
       "      <td>0.000000</td>\n",
       "    </tr>\n",
       "    <tr>\n",
       "      <th>3</th>\n",
       "      <td>(J32, J33)</td>\n",
       "      <td>edge</td>\n",
       "      <td>34.000000</td>\n",
       "    </tr>\n",
       "    <tr>\n",
       "      <th>4</th>\n",
       "      <td>J33</td>\n",
       "      <td>node</td>\n",
       "      <td>0.000000</td>\n",
       "    </tr>\n",
       "    <tr>\n",
       "      <th>5</th>\n",
       "      <td>(J33, F25)</td>\n",
       "      <td>edge</td>\n",
       "      <td>20.396078</td>\n",
       "    </tr>\n",
       "    <tr>\n",
       "      <th>6</th>\n",
       "      <td>F25</td>\n",
       "      <td>node</td>\n",
       "      <td>201.482016</td>\n",
       "    </tr>\n",
       "  </tbody>\n",
       "</table>\n",
       "</div>"
      ],
      "text/plain": [
       "           位置    类型          耗时\n",
       "0          D2  node    0.000000\n",
       "1   (D2, J32)  edge   37.363083\n",
       "2         J32  node    0.000000\n",
       "3  (J32, J33)  edge   34.000000\n",
       "4         J33  node    0.000000\n",
       "5  (J33, F25)  edge   20.396078\n",
       "6         F25  node  201.482016"
      ]
     },
     "execution_count": 816,
     "metadata": {},
     "output_type": "execute_result"
    }
   ],
   "source": [
    "stage1['C01']['D-F时序']"
   ]
  },
  {
   "cell_type": "code",
   "execution_count": 817,
   "metadata": {
    "collapsed": false
   },
   "outputs": [
    {
     "data": {
      "text/html": [
       "<div>\n",
       "<table border=\"1\" class=\"dataframe\">\n",
       "  <thead>\n",
       "    <tr style=\"text-align: right;\">\n",
       "      <th></th>\n",
       "      <th>位置</th>\n",
       "      <th>类型</th>\n",
       "      <th>耗时</th>\n",
       "    </tr>\n",
       "  </thead>\n",
       "  <tbody>\n",
       "    <tr>\n",
       "      <th>0</th>\n",
       "      <td>F25</td>\n",
       "      <td>node</td>\n",
       "      <td>0.000000</td>\n",
       "    </tr>\n",
       "    <tr>\n",
       "      <th>1</th>\n",
       "      <td>(F25, J33)</td>\n",
       "      <td>edge</td>\n",
       "      <td>20.396078</td>\n",
       "    </tr>\n",
       "    <tr>\n",
       "      <th>2</th>\n",
       "      <td>J33</td>\n",
       "      <td>node</td>\n",
       "      <td>0.000000</td>\n",
       "    </tr>\n",
       "    <tr>\n",
       "      <th>3</th>\n",
       "      <td>(J33, J04)</td>\n",
       "      <td>edge</td>\n",
       "      <td>39.698866</td>\n",
       "    </tr>\n",
       "    <tr>\n",
       "      <th>4</th>\n",
       "      <td>J04</td>\n",
       "      <td>node</td>\n",
       "      <td>0.000000</td>\n",
       "    </tr>\n",
       "    <tr>\n",
       "      <th>5</th>\n",
       "      <td>(J04, J05)</td>\n",
       "      <td>edge</td>\n",
       "      <td>25.056736</td>\n",
       "    </tr>\n",
       "    <tr>\n",
       "      <th>6</th>\n",
       "      <td>J05</td>\n",
       "      <td>node</td>\n",
       "      <td>0.000000</td>\n",
       "    </tr>\n",
       "    <tr>\n",
       "      <th>7</th>\n",
       "      <td>(J05, J06)</td>\n",
       "      <td>edge</td>\n",
       "      <td>38.418745</td>\n",
       "    </tr>\n",
       "    <tr>\n",
       "      <th>8</th>\n",
       "      <td>J06</td>\n",
       "      <td>node</td>\n",
       "      <td>0.000000</td>\n",
       "    </tr>\n",
       "    <tr>\n",
       "      <th>9</th>\n",
       "      <td>(J06, J51)</td>\n",
       "      <td>edge</td>\n",
       "      <td>16.970563</td>\n",
       "    </tr>\n",
       "    <tr>\n",
       "      <th>10</th>\n",
       "      <td>J51</td>\n",
       "      <td>node</td>\n",
       "      <td>0.000000</td>\n",
       "    </tr>\n",
       "    <tr>\n",
       "      <th>11</th>\n",
       "      <td>(J51, Z02)</td>\n",
       "      <td>edge</td>\n",
       "      <td>23.323808</td>\n",
       "    </tr>\n",
       "    <tr>\n",
       "      <th>12</th>\n",
       "      <td>Z02</td>\n",
       "      <td>node</td>\n",
       "      <td>12.230900</td>\n",
       "    </tr>\n",
       "  </tbody>\n",
       "</table>\n",
       "</div>"
      ],
      "text/plain": [
       "            位置    类型         耗时\n",
       "0          F25  node   0.000000\n",
       "1   (F25, J33)  edge  20.396078\n",
       "2          J33  node   0.000000\n",
       "3   (J33, J04)  edge  39.698866\n",
       "4          J04  node   0.000000\n",
       "5   (J04, J05)  edge  25.056736\n",
       "6          J05  node   0.000000\n",
       "7   (J05, J06)  edge  38.418745\n",
       "8          J06  node   0.000000\n",
       "9   (J06, J51)  edge  16.970563\n",
       "10         J51  node   0.000000\n",
       "11  (J51, Z02)  edge  23.323808\n",
       "12         Z02  node  12.230900"
      ]
     },
     "execution_count": 817,
     "metadata": {},
     "output_type": "execute_result"
    }
   ],
   "source": [
    "stage2['C01']['F-Z时序']"
   ]
  },
  {
   "cell_type": "code",
   "execution_count": 818,
   "metadata": {
    "collapsed": false
   },
   "outputs": [
    {
     "data": {
      "text/html": [
       "<div>\n",
       "<table border=\"1\" class=\"dataframe\">\n",
       "  <thead>\n",
       "    <tr style=\"text-align: right;\">\n",
       "      <th></th>\n",
       "      <th>位置</th>\n",
       "      <th>类型</th>\n",
       "      <th>耗时</th>\n",
       "    </tr>\n",
       "  </thead>\n",
       "  <tbody>\n",
       "    <tr>\n",
       "      <th>0</th>\n",
       "      <td>Z02</td>\n",
       "      <td>node</td>\n",
       "      <td>0.000000</td>\n",
       "    </tr>\n",
       "    <tr>\n",
       "      <th>1</th>\n",
       "      <td>(Z02, J51)</td>\n",
       "      <td>edge</td>\n",
       "      <td>23.323808</td>\n",
       "    </tr>\n",
       "    <tr>\n",
       "      <th>2</th>\n",
       "      <td>J51</td>\n",
       "      <td>node</td>\n",
       "      <td>0.000000</td>\n",
       "    </tr>\n",
       "    <tr>\n",
       "      <th>3</th>\n",
       "      <td>(J51, J06)</td>\n",
       "      <td>edge</td>\n",
       "      <td>16.970563</td>\n",
       "    </tr>\n",
       "    <tr>\n",
       "      <th>4</th>\n",
       "      <td>J06</td>\n",
       "      <td>node</td>\n",
       "      <td>0.000000</td>\n",
       "    </tr>\n",
       "    <tr>\n",
       "      <th>5</th>\n",
       "      <td>(J06, J07)</td>\n",
       "      <td>edge</td>\n",
       "      <td>32.310989</td>\n",
       "    </tr>\n",
       "    <tr>\n",
       "      <th>6</th>\n",
       "      <td>J07</td>\n",
       "      <td>node</td>\n",
       "      <td>0.000000</td>\n",
       "    </tr>\n",
       "    <tr>\n",
       "      <th>7</th>\n",
       "      <td>(J07, Z04)</td>\n",
       "      <td>edge</td>\n",
       "      <td>31.622777</td>\n",
       "    </tr>\n",
       "    <tr>\n",
       "      <th>8</th>\n",
       "      <td>Z04</td>\n",
       "      <td>node</td>\n",
       "      <td>0.000000</td>\n",
       "    </tr>\n",
       "    <tr>\n",
       "      <th>9</th>\n",
       "      <td>(Z04, J37)</td>\n",
       "      <td>edge</td>\n",
       "      <td>28.284271</td>\n",
       "    </tr>\n",
       "    <tr>\n",
       "      <th>10</th>\n",
       "      <td>J37</td>\n",
       "      <td>node</td>\n",
       "      <td>0.000000</td>\n",
       "    </tr>\n",
       "    <tr>\n",
       "      <th>11</th>\n",
       "      <td>(J37, F31)</td>\n",
       "      <td>edge</td>\n",
       "      <td>14.422205</td>\n",
       "    </tr>\n",
       "    <tr>\n",
       "      <th>12</th>\n",
       "      <td>F31</td>\n",
       "      <td>node</td>\n",
       "      <td>91.169200</td>\n",
       "    </tr>\n",
       "  </tbody>\n",
       "</table>\n",
       "</div>"
      ],
      "text/plain": [
       "            位置    类型         耗时\n",
       "0          Z02  node   0.000000\n",
       "1   (Z02, J51)  edge  23.323808\n",
       "2          J51  node   0.000000\n",
       "3   (J51, J06)  edge  16.970563\n",
       "4          J06  node   0.000000\n",
       "5   (J06, J07)  edge  32.310989\n",
       "6          J07  node   0.000000\n",
       "7   (J07, Z04)  edge  31.622777\n",
       "8          Z04  node   0.000000\n",
       "9   (Z04, J37)  edge  28.284271\n",
       "10         J37  node   0.000000\n",
       "11  (J37, F31)  edge  14.422205\n",
       "12         F31  node  91.169200"
      ]
     },
     "execution_count": 818,
     "metadata": {},
     "output_type": "execute_result"
    }
   ],
   "source": [
    "stage2['C01']['Z-F时序']"
   ]
  },
  {
   "cell_type": "code",
   "execution_count": 548,
   "metadata": {
    "collapsed": false
   },
   "outputs": [],
   "source": [
    "t_f_z_2_z_f_2=dict()\n",
    "for key,item in f_z_2.items():\n",
    "    if key[0]=='C':\n",
    "        t_f_z_2_z_f_2[key]=[0]\n",
    "        for i in range(len(item)-1):\n",
    "            a,b=item[i:i+2]\n",
    "            t_f_z_2_z_f_2[key].append((edgeDist.get(a+b)[0]/30)*60+t_f_z_2_z_f_2[key][i] if edgeDist.get(a+b,None) else (edgeDist.get(b+a)[0]/30)*60+t_f_z_2_z_f_2[key][i])\n",
    "    if key[0]=='B':\n",
    "        t_f_z_2_z_f_2[key]=[0]\n",
    "        for i in range(len(item)-1):\n",
    "            a,b=item[i:i+2]\n",
    "            t_f_z_2_z_f_2[key].append((edgeDist.get(a+b)[0]/35)*60+t_f_z_2_z_f_2[key][i] if edgeDist.get(a+b,None) else (edgeDist.get(b+a)[0]/35)*60+t_f_z_2_z_f_2[key][i])\n",
    "    if key[0]=='A':\n",
    "        t_f_z_2_z_f_2[key]=[0]\n",
    "        for i in range(len(item)-1):\n",
    "            a,b=item[i:i+2]\n",
    "            t_f_z_2_z_f_2[key].append((edgeDist.get(a+b)[0]/45)*60+t_f_z_2_z_f_2[key][i] if edgeDist.get(a+b,None) else (edgeDist.get(b+a)[0]/45)*60+t_f_z_2_z_f_2[key][i])\n",
    "for key,item in z_f_2.items():\n",
    "    if key[0]=='C':\n",
    "        #t_f_z_2_z_f_2[key]=[0]\n",
    "        for i in range(len(item)-1):\n",
    "            a,b=item[i:i+2]\n",
    "            t_f_z_2_z_f_2[key].append((edgeDist.get(a+b)[0]/30)*60+t_f_z_2_z_f_2[key][-1] if edgeDist.get(a+b,None) else (edgeDist.get(b+a)[0]/30)*60+t_f_z_2_z_f_2[key][-1])\n",
    "    if key[0]=='B':\n",
    "        #t_f_z_2_z_f_2[key]=[0]\n",
    "        for i in range(len(item)-1):\n",
    "            a,b=item[i:i+2]\n",
    "            t_f_z_2_z_f_2[key].append((edgeDist.get(a+b)[0]/35)*60+t_f_z_2_z_f_2[key][-1] if edgeDist.get(a+b,None) else (edgeDist.get(b+a)[0]/35)*60+t_f_z_2_z_f_2[key][-1])\n",
    "    if key[0]=='A':\n",
    "        #t_f_z_2_z_f_2[key]=[0]\n",
    "        for i in range(len(item)-1):\n",
    "            a,b=item[i:i+2]\n",
    "            t_f_z_2_z_f_2[key].append((edgeDist.get(a+b)[0]/45)*60+t_f_z_2_z_f_2[key][-1] if edgeDist.get(a+b,None) else (edgeDist.get(b+a)[0]/45)*60+t_f_z_2_z_f_2[key][-1])"
   ]
  },
  {
   "cell_type": "code",
   "execution_count": 725,
   "metadata": {
    "collapsed": false
   },
   "outputs": [],
   "source": [
    "#"
   ]
  },
  {
   "cell_type": "code",
   "execution_count": 728,
   "metadata": {
    "collapsed": false
   },
   "outputs": [
    {
     "data": {
      "text/plain": [
       "(['D1', 'J11', 'J46', 'J44', 'J43', 'J19', 'J18'], 6, 129.40031185804548)"
      ]
     },
     "execution_count": 728,
     "metadata": {},
     "output_type": "execute_result"
    }
   ],
   "source": [
    "D_J['D1']['J18']"
   ]
  },
  {
   "cell_type": "code",
   "execution_count": 729,
   "metadata": {
    "collapsed": false
   },
   "outputs": [
    {
     "data": {
      "text/plain": [
       "(['D1', 'Z03', 'J52', 'J07', 'Z04', 'J37', 'J15', 'J25'], 7, 150.4278328166322)"
      ]
     },
     "execution_count": 729,
     "metadata": {},
     "output_type": "execute_result"
    }
   ],
   "source": [
    "D_J['D1']['J25']"
   ]
  },
  {
   "cell_type": "code",
   "execution_count": 730,
   "metadata": {
    "collapsed": false
   },
   "outputs": [
    {
     "data": {
      "text/plain": [
       "(['D1', 'Z03', 'J52', 'J07'], 3, 82.83779260202925)"
      ]
     },
     "execution_count": 730,
     "metadata": {},
     "output_type": "execute_result"
    }
   ],
   "source": [
    "D_J['D1']['J07']"
   ]
  },
  {
   "cell_type": "code",
   "execution_count": 731,
   "metadata": {
    "collapsed": false
   },
   "outputs": [
    {
     "data": {
      "text/plain": [
       "(['D1', 'Z03', 'J57', 'J54', 'J55', 'J53'], 5, 103.96324748278526)"
      ]
     },
     "execution_count": 731,
     "metadata": {},
     "output_type": "execute_result"
    }
   ],
   "source": [
    "D_J['D1']['J53']"
   ]
  },
  {
   "cell_type": "code",
   "execution_count": 732,
   "metadata": {
    "collapsed": false
   },
   "outputs": [
    {
     "data": {
      "text/plain": [
       "(['D1', 'Z03', 'J52', 'J07', 'J06', 'J05', 'J04', 'J03'],\n",
       " 7,\n",
       " 187.49933553943555)"
      ]
     },
     "execution_count": 732,
     "metadata": {},
     "output_type": "execute_result"
    }
   ],
   "source": [
    "D_J['D1']['J03']"
   ]
  },
  {
   "cell_type": "code",
   "execution_count": 734,
   "metadata": {
    "collapsed": false
   },
   "outputs": [
    {
     "data": {
      "text/plain": [
       "(['D2', 'J12', 'J13', 'J14', 'J15', 'J16', 'J17', 'J18'],\n",
       " 7,\n",
       " 174.62596129135164)"
      ]
     },
     "execution_count": 734,
     "metadata": {},
     "output_type": "execute_result"
    }
   ],
   "source": [
    "D_J['D2']['J18']"
   ]
  },
  {
   "cell_type": "code",
   "execution_count": 735,
   "metadata": {
    "collapsed": false
   },
   "outputs": [
    {
     "data": {
      "text/plain": [
       "(['D2', 'J12', 'J13', 'J14', 'J15', 'J25'], 5, 124.67746581242166)"
      ]
     },
     "execution_count": 735,
     "metadata": {},
     "output_type": "execute_result"
    }
   ],
   "source": [
    "D_J['D2']['J25']"
   ]
  },
  {
   "cell_type": "code",
   "execution_count": 736,
   "metadata": {
    "collapsed": false
   },
   "outputs": [
    {
     "data": {
      "text/plain": [
       "(['D2', 'J03', 'J04', 'J05', 'J06', 'J07'], 5, 125.7565660471353)"
      ]
     },
     "execution_count": 736,
     "metadata": {},
     "output_type": "execute_result"
    }
   ],
   "source": [
    "D_J['D2']['J07']"
   ]
  },
  {
   "cell_type": "code",
   "execution_count": 737,
   "metadata": {
    "collapsed": false
   },
   "outputs": [
    {
     "data": {
      "text/plain": [
       "(['D2', 'J03', 'J04', 'J50', 'J53'], 4, 86.60630642810922)"
      ]
     },
     "execution_count": 737,
     "metadata": {},
     "output_type": "execute_result"
    }
   ],
   "source": [
    "D_J['D2']['J53']"
   ]
  },
  {
   "cell_type": "code",
   "execution_count": 738,
   "metadata": {
    "collapsed": false
   },
   "outputs": [
    {
     "data": {
      "text/plain": [
       "(['D2', 'J03'], 1, 21.095023109728988)"
      ]
     },
     "execution_count": 738,
     "metadata": {},
     "output_type": "execute_result"
    }
   ],
   "source": [
    "D_J['D2']['J03']"
   ]
  },
  {
   "cell_type": "code",
   "execution_count": 743,
   "metadata": {
    "collapsed": true
   },
   "outputs": [],
   "source": [
    "j18=30\n",
    "j07=33\n",
    "j03=24\n",
    "j53=23\n",
    "j25=20\n",
    "bc03=0.10531649816661783\n",
    "bc07=0.16348247371594035\n",
    "bc18=0.06888039599703841\n",
    "bc25=0.1605168725931167\n",
    "bc53=0.1356498927810701"
   ]
  },
  {
   "cell_type": "code",
   "execution_count": 744,
   "metadata": {
    "collapsed": false
   },
   "outputs": [],
   "source": [
    "def p(j,bc):\n",
    "    return j*math.log(1+bc)"
   ]
  },
  {
   "cell_type": "code",
   "execution_count": 746,
   "metadata": {
    "collapsed": false
   },
   "outputs": [],
   "source": [
    "p03=p(j03,bc03)\n",
    "p07=p(j07,bc07)\n",
    "p18=p(j18,bc18)\n",
    "p25=p(j25,bc25)\n",
    "p53=p(j53,bc53)"
   ]
  },
  {
   "cell_type": "code",
   "execution_count": 749,
   "metadata": {
    "collapsed": false
   },
   "outputs": [
    {
     "data": {
      "text/plain": [
       "(2.4031612233235675,\n",
       " 4.996782127627859,\n",
       " 1.9983522533074047,\n",
       " 2.9773097139743148,\n",
       " 2.9257168359367003)"
      ]
     },
     "execution_count": 749,
     "metadata": {},
     "output_type": "execute_result"
    }
   ],
   "source": [
    "p03,p07,p18,p25,p53"
   ]
  }
 ],
 "metadata": {
  "kernelspec": {
   "display_name": "Python 3",
   "language": "python",
   "name": "python3"
  },
  "language_info": {
   "codemirror_mode": {
    "name": "ipython",
    "version": 3
   },
   "file_extension": ".py",
   "mimetype": "text/x-python",
   "name": "python",
   "nbconvert_exporter": "python",
   "pygments_lexer": "ipython3",
   "version": "3.5.2"
  }
 },
 "nbformat": 4,
 "nbformat_minor": 2
}
