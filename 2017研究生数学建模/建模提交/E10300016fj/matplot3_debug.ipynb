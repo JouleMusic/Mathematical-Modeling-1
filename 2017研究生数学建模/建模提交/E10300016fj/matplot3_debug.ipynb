{
 "cells": [
  {
   "cell_type": "code",
   "execution_count": 1,
   "metadata": {
    "collapsed": true,
    "deletable": true,
    "editable": true
   },
   "outputs": [],
   "source": [
    "%matplotlib inline\n",
    "from operator import itemgetter\n",
    "import numpy as np\n",
    "import matplotlib.pyplot as plt\n",
    "import pandas as pd\n",
    "df=lambda x: pd.DataFrame(x)"
   ]
  },
  {
   "cell_type": "code",
   "execution_count": 2,
   "metadata": {
    "collapsed": true,
    "deletable": true,
    "editable": true
   },
   "outputs": [],
   "source": [
    "oo=np.array([np.random.random_sample() for x in range(64)])"
   ]
  },
  {
   "cell_type": "code",
   "execution_count": 3,
   "metadata": {
    "collapsed": true,
    "deletable": true,
    "editable": true
   },
   "outputs": [],
   "source": [
    "oo=oo.reshape([8,8])"
   ]
  },
  {
   "cell_type": "code",
   "execution_count": 4,
   "metadata": {
    "collapsed": false,
    "deletable": true,
    "editable": true
   },
   "outputs": [
    {
     "data": {
      "text/html": [
       "<div>\n",
       "<table border=\"1\" class=\"dataframe\">\n",
       "  <thead>\n",
       "    <tr style=\"text-align: right;\">\n",
       "      <th></th>\n",
       "      <th>0</th>\n",
       "      <th>1</th>\n",
       "      <th>2</th>\n",
       "      <th>3</th>\n",
       "      <th>4</th>\n",
       "      <th>5</th>\n",
       "      <th>6</th>\n",
       "      <th>7</th>\n",
       "    </tr>\n",
       "  </thead>\n",
       "  <tbody>\n",
       "    <tr>\n",
       "      <th>0</th>\n",
       "      <td>0.639056</td>\n",
       "      <td>0.403368</td>\n",
       "      <td>0.944650</td>\n",
       "      <td>0.651269</td>\n",
       "      <td>0.037816</td>\n",
       "      <td>0.458356</td>\n",
       "      <td>0.167591</td>\n",
       "      <td>0.790175</td>\n",
       "    </tr>\n",
       "    <tr>\n",
       "      <th>1</th>\n",
       "      <td>0.995395</td>\n",
       "      <td>0.421137</td>\n",
       "      <td>0.814795</td>\n",
       "      <td>0.569313</td>\n",
       "      <td>0.597854</td>\n",
       "      <td>0.572846</td>\n",
       "      <td>0.450220</td>\n",
       "      <td>0.802524</td>\n",
       "    </tr>\n",
       "    <tr>\n",
       "      <th>2</th>\n",
       "      <td>0.685633</td>\n",
       "      <td>0.844070</td>\n",
       "      <td>0.271942</td>\n",
       "      <td>0.860954</td>\n",
       "      <td>0.607109</td>\n",
       "      <td>0.907455</td>\n",
       "      <td>0.021521</td>\n",
       "      <td>0.662749</td>\n",
       "    </tr>\n",
       "    <tr>\n",
       "      <th>3</th>\n",
       "      <td>0.876036</td>\n",
       "      <td>0.916254</td>\n",
       "      <td>0.999460</td>\n",
       "      <td>0.710920</td>\n",
       "      <td>0.126051</td>\n",
       "      <td>0.688933</td>\n",
       "      <td>0.717471</td>\n",
       "      <td>0.357364</td>\n",
       "    </tr>\n",
       "    <tr>\n",
       "      <th>4</th>\n",
       "      <td>0.262151</td>\n",
       "      <td>0.198700</td>\n",
       "      <td>0.333882</td>\n",
       "      <td>0.588756</td>\n",
       "      <td>0.014051</td>\n",
       "      <td>0.898376</td>\n",
       "      <td>0.181314</td>\n",
       "      <td>0.225300</td>\n",
       "    </tr>\n",
       "    <tr>\n",
       "      <th>5</th>\n",
       "      <td>0.082976</td>\n",
       "      <td>0.079992</td>\n",
       "      <td>0.281597</td>\n",
       "      <td>0.372866</td>\n",
       "      <td>0.567342</td>\n",
       "      <td>0.387657</td>\n",
       "      <td>0.673507</td>\n",
       "      <td>0.428374</td>\n",
       "    </tr>\n",
       "    <tr>\n",
       "      <th>6</th>\n",
       "      <td>0.658401</td>\n",
       "      <td>0.791192</td>\n",
       "      <td>0.794364</td>\n",
       "      <td>0.165297</td>\n",
       "      <td>0.110021</td>\n",
       "      <td>0.509507</td>\n",
       "      <td>0.540817</td>\n",
       "      <td>0.155391</td>\n",
       "    </tr>\n",
       "    <tr>\n",
       "      <th>7</th>\n",
       "      <td>0.830421</td>\n",
       "      <td>0.755229</td>\n",
       "      <td>0.561079</td>\n",
       "      <td>0.838264</td>\n",
       "      <td>0.811662</td>\n",
       "      <td>0.537193</td>\n",
       "      <td>0.713452</td>\n",
       "      <td>0.135879</td>\n",
       "    </tr>\n",
       "  </tbody>\n",
       "</table>\n",
       "</div>"
      ],
      "text/plain": [
       "          0         1         2         3         4         5         6  \\\n",
       "0  0.639056  0.403368  0.944650  0.651269  0.037816  0.458356  0.167591   \n",
       "1  0.995395  0.421137  0.814795  0.569313  0.597854  0.572846  0.450220   \n",
       "2  0.685633  0.844070  0.271942  0.860954  0.607109  0.907455  0.021521   \n",
       "3  0.876036  0.916254  0.999460  0.710920  0.126051  0.688933  0.717471   \n",
       "4  0.262151  0.198700  0.333882  0.588756  0.014051  0.898376  0.181314   \n",
       "5  0.082976  0.079992  0.281597  0.372866  0.567342  0.387657  0.673507   \n",
       "6  0.658401  0.791192  0.794364  0.165297  0.110021  0.509507  0.540817   \n",
       "7  0.830421  0.755229  0.561079  0.838264  0.811662  0.537193  0.713452   \n",
       "\n",
       "          7  \n",
       "0  0.790175  \n",
       "1  0.802524  \n",
       "2  0.662749  \n",
       "3  0.357364  \n",
       "4  0.225300  \n",
       "5  0.428374  \n",
       "6  0.155391  \n",
       "7  0.135879  "
      ]
     },
     "execution_count": 4,
     "metadata": {},
     "output_type": "execute_result"
    }
   ],
   "source": [
    "df(oo)"
   ]
  },
  {
   "cell_type": "code",
   "execution_count": 5,
   "metadata": {
    "collapsed": false,
    "deletable": true,
    "editable": true
   },
   "outputs": [
    {
     "data": {
      "text/plain": [
       "<matplotlib.image.AxesImage at 0x851f358>"
      ]
     },
     "execution_count": 5,
     "metadata": {},
     "output_type": "execute_result"
    },
    {
     "data": {
      "image/png": "[encoded data removed]",
      "text/plain": [
       "<matplotlib.figure.Figure at 0x497e7b8>"
      ]
     },
     "metadata": {},
     "output_type": "display_data"
    }
   ],
   "source": [
    "plt.imshow(oo)"
   ]
  },
  {
   "cell_type": "code",
   "execution_count": 6,
   "metadata": {
    "collapsed": true,
    "deletable": true,
    "editable": true
   },
   "outputs": [],
   "source": [
    "import pandas as pd"
   ]
  },
  {
   "cell_type": "code",
   "execution_count": 7,
   "metadata": {
    "collapsed": true,
    "deletable": true,
    "editable": true
   },
   "outputs": [],
   "source": [
    "rr=pd.read_excel('data/e-loc.xls')"
   ]
  },
  {
   "cell_type": "code",
   "execution_count": 8,
   "metadata": {
    "collapsed": true,
    "deletable": true,
    "editable": true
   },
   "outputs": [],
   "source": [
    "#距离函数\n",
    "import math\n",
    "#a:(x,y)\n",
    "def distance(a,b):\n",
    "    return math.sqrt((a[0]-b[0])**2+(a[1]-b[1])**2)"
   ]
  },
  {
   "cell_type": "code",
   "execution_count": 9,
   "metadata": {
    "collapsed": true,
    "deletable": true,
    "editable": true
   },
   "outputs": [],
   "source": [
    "#-全局变量\n",
    "node=pd.read_csv('data/node.CSV',header=None)\n",
    "node={name:(x,y) for i,(name,x,y) in node.iterrows()}"
   ]
  },
  {
   "cell_type": "code",
   "execution_count": 10,
   "metadata": {
    "collapsed": false,
    "deletable": true,
    "editable": true
   },
   "outputs": [
    {
     "data": {
      "text/plain": [
       "(7, 105)"
      ]
     },
     "execution_count": 10,
     "metadata": {},
     "output_type": "execute_result"
    }
   ],
   "source": [
    "#表示坐标，单位km\n",
    "node['F16']"
   ]
  },
  {
   "cell_type": "code",
   "execution_count": 11,
   "metadata": {
    "collapsed": true,
    "deletable": true,
    "editable": true
   },
   "outputs": [],
   "source": [
    "#-全局变量\n",
    "edge=pd.read_csv('data/bian.CSV',header=None)\n",
    "edge=[(f,t) for i,(f,t) in edge.iterrows()]"
   ]
  },
  {
   "cell_type": "code",
   "execution_count": 12,
   "metadata": {
    "collapsed": false,
    "deletable": true,
    "editable": true
   },
   "outputs": [
    {
     "data": {
      "text/plain": [
       "('F14', 'J27')"
      ]
     },
     "execution_count": 12,
     "metadata": {},
     "output_type": "execute_result"
    }
   ],
   "source": [
    "#表示边对\n",
    "edge[2]"
   ]
  },
  {
   "cell_type": "code",
   "execution_count": 13,
   "metadata": {
    "collapsed": true,
    "deletable": true,
    "editable": true
   },
   "outputs": [],
   "source": [
    "#主干道-全局变量\n",
    "edge_zhu=pd.read_csv('data/bian-zhu.CSV',header=None)\n",
    "edge_zhu=[(f,t) for i,(f,t) in edge_zhu.iterrows()]"
   ]
  },
  {
   "cell_type": "code",
   "execution_count": 14,
   "metadata": {
    "collapsed": true,
    "deletable": true,
    "editable": true
   },
   "outputs": [],
   "source": [
    "#非主干道-全局变量\n",
    "edge_nor=pd.read_csv('data/bian-nor.CSV',header=None)\n",
    "edge_nor=[(f,t) for i,(f,t) in edge_nor.iterrows()]"
   ]
  },
  {
   "cell_type": "code",
   "execution_count": 15,
   "metadata": {
    "collapsed": false,
    "deletable": true,
    "editable": true
   },
   "outputs": [
    {
     "data": {
      "text/plain": [
       "True"
      ]
     },
     "execution_count": 15,
     "metadata": {},
     "output_type": "execute_result"
    }
   ],
   "source": [
    "len(edge_nor)+len(edge_zhu)==len(edge)"
   ]
  },
  {
   "cell_type": "code",
   "execution_count": 16,
   "metadata": {
    "collapsed": true,
    "deletable": true,
    "editable": true
   },
   "outputs": [],
   "source": [
    "#表示边的距离，单位km，id按edge数组顺序\n",
    "bianDist={i:(distance(node[e[0]],node[e[1]]),e[0],e[1]) for i,e in enumerate(edge)}"
   ]
  },
  {
   "cell_type": "code",
   "execution_count": 18,
   "metadata": {
    "collapsed": true,
    "deletable": true,
    "editable": true
   },
   "outputs": [],
   "source": [
    "edgeDist={e[0]+e[1]:(distance(node[e[0]],node[e[1]]),e[0],e[1]) for i,e in enumerate(edge)}"
   ]
  },
  {
   "cell_type": "code",
   "execution_count": 19,
   "metadata": {
    "collapsed": false,
    "deletable": true,
    "editable": true
   },
   "outputs": [
    {
     "data": {
      "text/plain": [
       "(40.26164427839479, 6.324555320336759)"
      ]
     },
     "execution_count": 19,
     "metadata": {},
     "output_type": "execute_result"
    }
   ],
   "source": [
    "#最大，最小 距离\n",
    "max([d for d,f,t in bianDist.values()]),min([d for d,f,t in bianDist.values()])"
   ]
  },
  {
   "cell_type": "code",
   "execution_count": 20,
   "metadata": {
    "collapsed": true,
    "deletable": true,
    "editable": true
   },
   "outputs": [],
   "source": [
    "import networkx as nx"
   ]
  },
  {
   "cell_type": "code",
   "execution_count": 21,
   "metadata": {
    "collapsed": true,
    "deletable": true,
    "editable": true,
    "scrolled": true
   },
   "outputs": [],
   "source": [
    "#建立图模型-全局变量\n",
    "G = nx.Graph()\n",
    "G.add_nodes_from(list(node.keys()))\n",
    "G.add_edges_from(edge_nor,{\"主干道\":False,\"容量\":1})\n",
    "G.add_edges_from(edge_zhu,{\"主干道\":True,\"容量\":2})"
   ]
  },
  {
   "cell_type": "code",
   "execution_count": 22,
   "metadata": {
    "collapsed": true,
    "deletable": true,
    "editable": true
   },
   "outputs": [],
   "source": [
    "for e in G.edges_iter():\n",
    "    G.add_edge(e[0],e[1],{'物理距离':distance(node[e[0]],node[e[1]])})"
   ]
  },
  {
   "cell_type": "code",
   "execution_count": 23,
   "metadata": {
    "collapsed": true,
    "deletable": true,
    "editable": true
   },
   "outputs": [],
   "source": [
    "#建立多边图模型\n",
    "MG = nx.MultiGraph()\n",
    "MG.add_nodes_from(list(node.keys()))\n",
    "MG.add_edges_from(edge_nor,{\"主干道\":False})\n",
    "MG.add_edges_from(edge_zhu,{\"主干道\":True})\n",
    "MG.add_edges_from(edge_zhu,{\"主干道\":True})"
   ]
  },
  {
   "cell_type": "code",
   "execution_count": 24,
   "metadata": {
    "collapsed": false,
    "deletable": true,
    "editable": true
   },
   "outputs": [
    {
     "data": {
      "text/plain": [
       "174"
      ]
     },
     "execution_count": 24,
     "metadata": {},
     "output_type": "execute_result"
    }
   ],
   "source": [
    "len(G.edges())"
   ]
  },
  {
   "cell_type": "code",
   "execution_count": 25,
   "metadata": {
    "collapsed": false,
    "deletable": true,
    "editable": true
   },
   "outputs": [
    {
     "data": {
      "text/plain": [
       "18"
      ]
     },
     "execution_count": 25,
     "metadata": {},
     "output_type": "execute_result"
    }
   ],
   "source": [
    "len(edge_zhu)"
   ]
  },
  {
   "cell_type": "code",
   "execution_count": 26,
   "metadata": {
    "collapsed": false,
    "deletable": true,
    "editable": true
   },
   "outputs": [
    {
     "data": {
      "text/plain": [
       "192"
      ]
     },
     "execution_count": 26,
     "metadata": {},
     "output_type": "execute_result"
    }
   ],
   "source": [
    "len(MG.edges())"
   ]
  },
  {
   "cell_type": "code",
   "execution_count": 27,
   "metadata": {
    "collapsed": true,
    "deletable": true,
    "editable": true
   },
   "outputs": [],
   "source": [
    "G备份=G.copy()"
   ]
  },
  {
   "cell_type": "code",
   "execution_count": 28,
   "metadata": {
    "collapsed": false,
    "deletable": true,
    "editable": true
   },
   "outputs": [],
   "source": [
    "#导出可视化所需邻接表\n",
    "s=nx.adjacency_matrix(G备份,G.nodes())\n",
    "ss=pd.DataFrame(s.toarray(),index=G.nodes(),columns=G.nodes())\n",
    "ss.to_excel(\"n2.xls\")"
   ]
  },
  {
   "cell_type": "code",
   "execution_count": 29,
   "metadata": {
    "collapsed": true,
    "deletable": true,
    "editable": true
   },
   "outputs": [],
   "source": [
    "#键值对式序列化库V1\n",
    "PICKLE_PATH='./G备份.pick'\n",
    "import shelve\n",
    "\n",
    "def set_pickle(k='temp',v=''):\n",
    "    with shelve.open(PICKLE_PATH) as file:\n",
    "        file[k]=v\n",
    "\n",
    "def get_pickle(k):\n",
    "    if k is None:\n",
    "        return False\n",
    "    with shelve.open(PICKLE_PATH) as file:\n",
    "        try:\n",
    "            v=file[k]\n",
    "        except KeyError:\n",
    "            return None\n",
    "        else:\n",
    "            return v"
   ]
  },
  {
   "cell_type": "code",
   "execution_count": 30,
   "metadata": {
    "collapsed": true,
    "deletable": true,
    "editable": true
   },
   "outputs": [],
   "source": [
    "set_pickle('v1',G备份)"
   ]
  },
  {
   "cell_type": "code",
   "execution_count": 31,
   "metadata": {
    "collapsed": true,
    "deletable": true,
    "editable": true
   },
   "outputs": [],
   "source": [
    "#节点分类-全局变量\n",
    "D,F,Z,J=[],[],[],[]\n",
    "for i in G.nodes_iter():\n",
    "    if i[0]=='D':\n",
    "        D.append(i)\n",
    "    if i[0]=='F':\n",
    "        F.append(i)\n",
    "    if i[0]=='Z':\n",
    "        Z.append(i)\n",
    "    if i[0]=='J':\n",
    "        J.append(i)"
   ]
  },
  {
   "cell_type": "code",
   "execution_count": 32,
   "metadata": {
    "collapsed": true,
    "deletable": true,
    "editable": true
   },
   "outputs": [],
   "source": [
    "for i in G.nodes_iter():\n",
    "    if i[0]=='D':\n",
    "        G.add_node(i,{'类型':'待机'})\n",
    "    if i[0]=='F':\n",
    "        G.add_node(i,{'类型':'发射'})\n",
    "    if i[0]=='Z':\n",
    "        G.add_node(i,{'类型':'转载'})\n",
    "    if i[0]=='J':\n",
    "        G.add_node(i,{'类型':'路口'})"
   ]
  },
  {
   "cell_type": "code",
   "execution_count": 33,
   "metadata": {
    "collapsed": false,
    "deletable": true,
    "editable": true
   },
   "outputs": [
    {
     "data": {
      "text/plain": [
       "{'主干道': False, '容量': 1, '物理距离': 40.26164427839479}"
      ]
     },
     "execution_count": 33,
     "metadata": {},
     "output_type": "execute_result"
    }
   ],
   "source": [
    "#边属性读取\n",
    "G.edge['J02']['D2']"
   ]
  },
  {
   "cell_type": "code",
   "execution_count": 34,
   "metadata": {
    "collapsed": false,
    "deletable": true,
    "editable": true
   },
   "outputs": [
    {
     "data": {
      "text/plain": [
       "{0: {'主干道': False}}"
      ]
     },
     "execution_count": 34,
     "metadata": {},
     "output_type": "execute_result"
    }
   ],
   "source": [
    "#MG边属性读取\n",
    "MG.edge['J02']['D2']"
   ]
  },
  {
   "cell_type": "code",
   "execution_count": 35,
   "metadata": {
    "collapsed": false,
    "deletable": true,
    "editable": true
   },
   "outputs": [
    {
     "data": {
      "text/plain": [
       "{'J28': {'主干道': False, '容量': 1, '物理距离': 8.06225774829855}}"
      ]
     },
     "execution_count": 35,
     "metadata": {},
     "output_type": "execute_result"
    }
   ],
   "source": [
    "G['F19']"
   ]
  },
  {
   "cell_type": "code",
   "execution_count": 36,
   "metadata": {
    "collapsed": true,
    "deletable": true,
    "editable": true
   },
   "outputs": [],
   "source": [
    "#D1,D2需要一个路径表，分情况讨论\n",
    "#物理距离前几-及对应 F\n",
    "#结合车类型和道路类型耗时前几-及对应 F\n",
    "\n",
    "#Z也需要，及对应 F\n",
    "\n",
    "#从而追加参数 超级短路径(共现于 D-F,F-Z )\n",
    "#以及 F-Z 这个路径表，存在两个方向的使用。 "
   ]
  },
  {
   "cell_type": "code",
   "execution_count": 36,
   "metadata": {
    "collapsed": true,
    "deletable": true,
    "editable": true
   },
   "outputs": [],
   "source": [
    "#path,变成边组\n",
    "def pathTuple(path):\n",
    "    res=[]\n",
    "    for i in range(len(path)-1):\n",
    "        a,b=path[i:i+2]\n",
    "        res.append((a,b))\n",
    "    return res"
   ]
  },
  {
   "cell_type": "code",
   "execution_count": 38,
   "metadata": {
    "collapsed": true,
    "deletable": true,
    "editable": true
   },
   "outputs": [],
   "source": [
    "#path,物理距离计算\n",
    "def pathDistance(path):\n",
    "    res=[]\n",
    "    for i in range(len(path)-1):\n",
    "        a,b=path[i:i+2]\n",
    "        res.append(edgeDist.get(a+b)[0] if edgeDist.get(a+b,None) else edgeDist.get(b+a)[0])\n",
    "    return sum(res)"
   ]
  },
  {
   "cell_type": "code",
   "execution_count": 39,
   "metadata": {
    "collapsed": true,
    "deletable": true,
    "editable": true
   },
   "outputs": [],
   "source": [
    "#path,时间计算-全局式的\n",
    "#car->\"A\",\"B\",\"C\"\n",
    "def pathTime(path,car):\n",
    "    res=[]\n",
    "    veb=None\n",
    "    for i in range(len(path)-1):\n",
    "        a,b=path[i:i+2]\n",
    "        dis=G.edge[a][b]['物理距离']\n",
    "        if car == 'A':\n",
    "            if G.edge[a][b]['主干道']:\n",
    "                veb=70\n",
    "            else:\n",
    "                veb=45\n",
    "        if car == 'B':\n",
    "            if G.edge[a][b]['主干道']:\n",
    "                veb=60\n",
    "            else:\n",
    "                veb=35\n",
    "        if car == 'C':\n",
    "            if G.edge[a][b]['主干道']:\n",
    "                veb=50\n",
    "            else:\n",
    "                veb=30            \n",
    "        tim=dis/veb\n",
    "        res.append(tim)\n",
    "    return sum(res)"
   ]
  },
  {
   "cell_type": "code",
   "execution_count": 41,
   "metadata": {
    "collapsed": false,
    "deletable": true,
    "editable": true
   },
   "outputs": [
    {
     "data": {
      "text/plain": [
       "0.32576440717118227"
      ]
     },
     "execution_count": 41,
     "metadata": {},
     "output_type": "execute_result"
    }
   ],
   "source": [
    "pathTime(edge[0],'B')"
   ]
  },
  {
   "cell_type": "code",
   "execution_count": 42,
   "metadata": {
    "collapsed": true,
    "deletable": true,
    "editable": true
   },
   "outputs": [],
   "source": [
    "#D-F最短物理路径\n",
    "#临时性算法优化：all_shortest_paths 迭代器版的最短路径\n",
    "D_F={}\n",
    "for d in D:\n",
    "    D_F[d]={}\n",
    "    for f in F:\n",
    "        shorttemp=nx.shortest_path(G,source=d,target=f)\n",
    "        D_F[d][f]=(shorttemp,nx.shortest_path_length(G,source=d,target=f),pathDistance(shorttemp))"
   ]
  },
  {
   "cell_type": "code",
   "execution_count": 43,
   "metadata": {
    "collapsed": false,
    "deletable": true,
    "editable": true
   },
   "outputs": [],
   "source": [
    "#D-J最短物理路径\n",
    "#临时性算法优化：all_shortest_paths 迭代器版的最短路径\n",
    "D_J={}\n",
    "for d in D:\n",
    "    D_J[d]={}\n",
    "    for j in J:\n",
    "        shorttemp=nx.shortest_path(G,source=d,target=j)\n",
    "        D_J[d][j]=(shorttemp,nx.shortest_path_length(G,source=d,target=j),pathDistance(shorttemp))"
   ]
  },
  {
   "cell_type": "code",
   "execution_count": 44,
   "metadata": {
    "collapsed": false,
    "deletable": true,
    "editable": true
   },
   "outputs": [
    {
     "data": {
      "text/plain": [
       "62"
      ]
     },
     "execution_count": 44,
     "metadata": {},
     "output_type": "execute_result"
    }
   ],
   "source": [
    "len(D_J['D2'])"
   ]
  },
  {
   "cell_type": "code",
   "execution_count": 45,
   "metadata": {
    "collapsed": true,
    "deletable": true,
    "editable": true
   },
   "outputs": [],
   "source": [
    "#D-F权值化后最短 耗时路径 \n",
    "\n",
    "#先算权\n",
    "for e in G.edges_iter():\n",
    "    dist=G.edge[e[0]][e[1]]['物理距离']\n",
    "    if G.edge[e[0]][e[1]]['主干道']:\n",
    "        veb=70\n",
    "    else:\n",
    "        veb=45\n",
    "    G.add_edge(e[0],e[1],{'A车耗时':dist/veb})\n",
    "    \n",
    "    if G.edge[e[0]][e[1]]['主干道']:\n",
    "        veb=60\n",
    "    else:\n",
    "        veb=35\n",
    "    G.add_edge(e[0],e[1],{'B车耗时':dist/veb})\n",
    "    \n",
    "    if G.edge[e[0]][e[1]]['主干道']:\n",
    "        veb=50\n",
    "    else:\n",
    "        veb=30 \n",
    "    G.add_edge(e[0],e[1],{'C车耗时':dist/veb})"
   ]
  },
  {
   "cell_type": "code",
   "execution_count": 46,
   "metadata": {
    "collapsed": true,
    "deletable": true,
    "editable": true
   },
   "outputs": [],
   "source": [
    "#A车\n",
    "#再遍历\n",
    "A_D_F={}\n",
    "for d in D:\n",
    "    A_D_F[d]={}\n",
    "    for f in F:\n",
    "        shorttemp=nx.shortest_path(G,source=d,target=f,weight=\"A车耗时\")\n",
    "        A_D_F[d][f]=(shorttemp,len(shorttemp),pathDistance(shorttemp),pathTime(shorttemp,'A'))"
   ]
  },
  {
   "cell_type": "code",
   "execution_count": 47,
   "metadata": {
    "collapsed": true,
    "deletable": true,
    "editable": true
   },
   "outputs": [],
   "source": [
    "#B车\n",
    "#再遍历\n",
    "B_D_F={}\n",
    "for d in D:\n",
    "    B_D_F[d]={}\n",
    "    for f in F:\n",
    "        shorttemp=nx.shortest_path(G,source=d,target=f,weight=\"B车耗时\")\n",
    "        B_D_F[d][f]=(shorttemp,len(shorttemp),pathDistance(shorttemp),pathTime(shorttemp,'B'))"
   ]
  },
  {
   "cell_type": "code",
   "execution_count": 48,
   "metadata": {
    "collapsed": true,
    "deletable": true,
    "editable": true
   },
   "outputs": [],
   "source": [
    "#C车\n",
    "#再遍历\n",
    "C_D_F={}\n",
    "for d in D:\n",
    "    C_D_F[d]={}\n",
    "    for f in F:\n",
    "        shorttemp=nx.shortest_path(G,source=d,target=f,weight=\"C车耗时\")\n",
    "        C_D_F[d][f]=(shorttemp,len(shorttemp),pathDistance(shorttemp),pathTime(shorttemp,'C'))"
   ]
  },
  {
   "cell_type": "code",
   "execution_count": 49,
   "metadata": {
    "collapsed": true,
    "deletable": true,
    "editable": true
   },
   "outputs": [],
   "source": [
    "carA=[\"A\"+str(i).zfill(2) for i in range(1,7)]\n",
    "carB=[\"B\"+str(i).zfill(2) for i in range(1,7)]\n",
    "carC=[\"C\"+str(i).zfill(2) for i in range(1,13)]"
   ]
  },
  {
   "cell_type": "code",
   "execution_count": 50,
   "metadata": {
    "collapsed": true,
    "deletable": true,
    "editable": true
   },
   "outputs": [],
   "source": [
    "def alignLaunch(stage1):\n",
    "    #寻找最慢车\n",
    "    t=[(car,state[\"出发时刻\"]+sum(state[\"D-F时序\"]['耗时'].iloc[1:state[\"当前位置\"]+1])) for car,state in stage1.items()]\n",
    "    tdic={car:state[\"出发时刻\"]+sum(state[\"D-F时序\"]['耗时'].iloc[1:state[\"当前位置\"]+1]) for car,state in stage1.items()}\n",
    "    tz=max(t, key=lambda item: item[1])\n",
    "    #计算耗时\n",
    "    slowCar,slowTime=tz[0],tz[1]\n",
    "    #每个车与它相减，获得对齐罚时\n",
    "    for car,state in stage1.items():\n",
    "        stage1[car]['D-F时序'].iloc[-1,-1]=slowTime-tdic[car]\n",
    "    return stage1"
   ]
  },
  {
   "cell_type": "code",
   "execution_count": 135,
   "metadata": {
    "collapsed": true,
    "deletable": true,
    "editable": true
   },
   "outputs": [],
   "source": [
    "'''\n",
    "def stage1Meeting(stage1):\n",
    "    #终止计算条件-到达发射点了\n",
    "    #同时过滤已经到发射点的车\n",
    "    should,st=[],{}\n",
    "    for car,state in stage1.items():\n",
    "        a=state[\"D-F时序\"][\"位置\"].iloc[state[\"当前位置\"]+1]\n",
    "        b=state[\"发射点\"]\n",
    "        if a!=b:\n",
    "            should.append(car) \n",
    "    if len(should)==0:\n",
    "        return stage1\n",
    "    else:\n",
    "    #装填过滤的车\n",
    "        for i in should:\n",
    "            st[i]=stage1[i]\n",
    "    \n",
    "    #耗时计算\n",
    "    t=[(car,state[\"出发时刻\"]+sum(state[\"D-F时序\"]['耗时'].iloc[1:state[\"当前位置\"]+1])) for car,state in st.items()]\n",
    "    tdic={car:state[\"出发时刻\"]+sum(state[\"D-F时序\"]['耗时'].iloc[1:state[\"当前位置\"]+1]) for car,state in st.items()}\n",
    "    \n",
    "    #t=sorted(t, key=lambda item: item[1])\n",
    "    #fastCar,fastTime=t[0][0],t[0][1]\n",
    "    tz=min(t, key=lambda item: item[1])\n",
    "    fastCar,fastTime=tz[0],tz[1]\n",
    "    \n",
    "    #时间线比较\n",
    "    tt=st[fastCar][\"D-F时序\"].iloc[st[fastCar]['当前位置']+2]\n",
    "    if tt['类型'] != 'edge':\n",
    "        print(\"出错了：001\")\n",
    "        return stage1\n",
    "    ttt=tt[\"位置\"]\n",
    "    roadSize=G.edge[ttt[0]][ttt[1]]['容量']\n",
    "    #时间线比较-之重叠\n",
    "    meetingCars=[]\n",
    "    for car,state in st.items():\n",
    "        loc=state[\"D-F时序\"]['位置'].iloc[state[\"当前位置\"]]\n",
    "        if set(ttt)==set(loc):\n",
    "            meetingCars.append(car)\n",
    "    if len(meetingCars)>=roadSize:\n",
    "        #说明需要会车等待\n",
    "        if len(meetingCars)>roadSize:\n",
    "            print(\"出错了：002\")\n",
    "            return stage1\n",
    "        #To-do 会车等待决策+1\n",
    "        waitTime = min([tdic[i] for i in meetingCars]) - fastTime\n",
    "        #写入等待时间\n",
    "        stage1[fastCar][\"D-F时序\"].loc[stage1[fastCar]['当前位置']+1,'耗时']=waitTime\n",
    "    stage1[fastCar]['当前位置']=stage1[fastCar]['当前位置']+2\n",
    "    \n",
    "    return stage1Meeting(stage1)    \n",
    "'''\n",
    "def stage1Meeting(stage1):\n",
    "    #终止计算条件-到达发射点了\n",
    "    #同时过滤已经到发射点的车\n",
    "    should,st=[],{}\n",
    "    for car,state in stage1.items():\n",
    "        a=state[\"D-F时序\"][\"位置\"].iloc[state[\"当前位置\"]+1]\n",
    "        b=state[\"发射点\"]\n",
    "        if a!=b:\n",
    "            should.append(car) \n",
    "    if len(should)==0:\n",
    "        return stage1\n",
    "    else:\n",
    "    #装填过滤的车\n",
    "        for i in should:\n",
    "            st[i]=stage1[i]\n",
    "    \n",
    "    #耗时计算\n",
    "    t=[(car,state[\"出发时刻\"]+sum(state[\"D-F时序\"]['耗时'].iloc[1:state[\"当前位置\"]+1])) for car,state in st.items()]\n",
    "    tdic={car:state[\"出发时刻\"]+sum(state[\"D-F时序\"]['耗时'].iloc[1:state[\"当前位置\"]+1]) for car,state in st.items()}\n",
    "    \n",
    "    #t=sorted(t, key=lambda item: item[1])\n",
    "    #fastCar,fastTime=t[0][0],t[0][1]\n",
    "    tz=min(t, key=lambda item: item[1])\n",
    "    fastCar,fastTime=tz[0],tz[1]\n",
    "    \n",
    "    #时间线比较\n",
    "    tt=st[fastCar][\"D-F时序\"].iloc[st[fastCar]['当前位置']+2]\n",
    "    if tt['类型'] != 'edge':\n",
    "        print(\"出错了：001\")\n",
    "        return stage1\n",
    "    ttt=tt[\"位置\"]\n",
    "    roadSize=G.edge[ttt[0]][ttt[1]]['容量']\n",
    "    #时间线比较-之重叠\n",
    "    meetingCars=[]\n",
    "    for car,state in st.items():\n",
    "        loc=state[\"D-F时序\"]['位置'].iloc[state[\"当前位置\"]]\n",
    "        if set(ttt)==set(loc):\n",
    "            meetingCars.append(car)\n",
    "    \n",
    "    #计算其是否在区间时间范围内\n",
    "    amtz=[]\n",
    "    for car in meetingCars:\n",
    "        a=sum(stage1[car][\"D-F时序\"]['耗时'].iloc[1:stage1[car][\"当前位置\"]+1])\n",
    "        b=sum(stage1[car][\"D-F时序\"]['耗时'].iloc[1:stage1[car][\"当前位置\"]])\n",
    "\n",
    "        if a <= fastTime and fastTime < b:\n",
    "            amtz.append(car)\n",
    "    meetingCars=amtz\n",
    "    \n",
    "    if len(meetingCars)>=roadSize:\n",
    "        #说明需要会车等待\n",
    "        if len(meetingCars)>roadSize:\n",
    "            print(meetingCars)\n",
    "            print(\"出错了：002\")\n",
    "            return stage1\n",
    "        #To-do 会车等待决策+1\n",
    "        waitTime = min([tdic[i] for i in meetingCars]) - fastTime\n",
    "        #写入等待时间\n",
    "        stage1[fastCar][\"D-F时序\"].loc[stage1[fastCar]['当前位置']+1,'耗时']=waitTime\n",
    "    stage1[fastCar]['当前位置']=stage1[fastCar]['当前位置']+2\n",
    "    \n",
    "    return stage1Meeting(stage1)    "
   ]
  },
  {
   "cell_type": "code",
   "execution_count": 53,
   "metadata": {
    "collapsed": true,
    "deletable": true,
    "editable": true
   },
   "outputs": [],
   "source": [
    "#D-F时序-生成\n",
    "#car 表示ABC车型\n",
    "def generDF(path,car):\n",
    "    res=[]\n",
    "    pathT=pathTuple(path)\n",
    "    for i in range(len(pathT)):\n",
    "        res.append(path[i])\n",
    "        res.append(pathT[i])\n",
    "    res.append(path[-1])\n",
    "    return pd.DataFrame({\"位置\":res,\n",
    "                         \"耗时\":[G.edge[i[0]][i[1]][car+'车耗时']*60 if type(i) is tuple else 0 for i in res],\n",
    "                         \"类型\":[\"node\" if type(i) is str else \"edge\" for i in res]\n",
    "                        })"
   ]
  },
  {
   "cell_type": "code",
   "execution_count": 54,
   "metadata": {
    "collapsed": true,
    "deletable": true,
    "editable": true
   },
   "outputs": [],
   "source": [
    "'''\n",
    "目前权值是以小时为单位的，所以最终结果需要转为分钟 即 * 60  \n",
    "d_f:表示所有24辆车的路径\n",
    "{车号:path}\n",
    "departure:表示每辆车的发车时间，出发时刻，分钟为单位\n",
    "{车号:时刻}\n",
    "'''\n",
    "#波次1的耗时计算\n",
    "def stage1Consum(d_f,departure):\n",
    "    stage1={}\n",
    "    for car,path in d_f.items():\n",
    "        stage1[car]={\n",
    "            \"车型\":car[0],\n",
    "            \"D-F时序\":generDF(path,car[0]),\n",
    "            \"发射点\":path[-1],\n",
    "            \"出发时刻\":departure[car],\n",
    "            \"当前位置\":1\n",
    "        }\n",
    "    #To-do:发车次序纠错\n",
    "    #重叠计算\n",
    "    newst1=stage1Meeting(stage1)#此处为范式，由于是可变式，所以newst1还是和原来的引用一样\n",
    "    #齐射罚时\n",
    "    newst1=alignLaunch(newst1)\n",
    "    \n",
    "    return newst1"
   ]
  },
  {
   "cell_type": "code",
   "execution_count": 55,
   "metadata": {
    "collapsed": true,
    "deletable": true,
    "editable": true
   },
   "outputs": [],
   "source": [
    "#car 表示ABC车型\n",
    "def generFZ(path,car):\n",
    "    res=[]\n",
    "    pathT=pathTuple(path)\n",
    "    for i in range(len(pathT)):\n",
    "        res.append(path[i])\n",
    "        res.append(pathT[i])\n",
    "    res.append(path[-1])\n",
    "    return pd.DataFrame({\"位置\":res,\n",
    "                         \"耗时\":[G.edge[i[0]][i[1]][car+'车耗时']*60 if type(i) is tuple else 0 for i in res],\n",
    "                         \"类型\":[\"node\" if type(i) is str else \"edge\" for i in res]\n",
    "                        })"
   ]
  },
  {
   "cell_type": "code",
   "execution_count": 56,
   "metadata": {
    "collapsed": true,
    "deletable": true,
    "editable": true
   },
   "outputs": [],
   "source": [
    "#car 表示ABC车型\n",
    "def generZF(path,car):\n",
    "    res=[]\n",
    "    pathT=pathTuple(path)\n",
    "    for i in range(len(pathT)):\n",
    "        res.append(path[i])\n",
    "        res.append(pathT[i])\n",
    "    res.append(path[-1])\n",
    "    return pd.DataFrame({\"位置\":res,\n",
    "                         \"耗时\":[G.edge[i[0]][i[1]][car+'车耗时']*60 if type(i) is tuple else 0 for i in res],\n",
    "                         \"类型\":[\"node\" if type(i) is str else \"edge\" for i in res]\n",
    "                        })"
   ]
  },
  {
   "cell_type": "code",
   "execution_count": 136,
   "metadata": {
    "collapsed": true,
    "deletable": true,
    "editable": true
   },
   "outputs": [],
   "source": [
    "'''\n",
    "def stage2Meeting(stage2):\n",
    "    #终止条件-齐射\n",
    "    should,st=[],{}\n",
    "    for car,state in stage2.items():\n",
    "        a=state[\"Z-F时序\"][\"位置\"].iloc[state[\"当前Z-F位置\"]+1]\n",
    "        b=state[\"发射点\"]\n",
    "        if a!=b:\n",
    "            should.append(car) \n",
    "    if len(should)==0:\n",
    "        return stage2\n",
    "    \n",
    "    #过滤到达终点的\n",
    "    #装填过滤的车\n",
    "    for i in should:\n",
    "        st[i]=stage2[i]\n",
    "    \n",
    "    #重叠检测\n",
    "    #耗时计算\n",
    "    t,tdic=[],{}\n",
    "    for car,state in st.items():\n",
    "        if state[\"转载完成\"]:\n",
    "            h=sum(state[\"Z-F时序\"]['耗时'].iloc[1:state[\"当前Z-F位置\"]+1])+sum(state[\"F-Z时序\"]['耗时'].iloc[1:state[\"当前F-Z位置\"]+1])\n",
    "        else:\n",
    "            h=sum(state[\"F-Z时序\"]['耗时'].iloc[1:state[\"当前F-Z位置\"]+1])\n",
    "        t.append((car,h))\n",
    "        tdic[car]=h\n",
    "            \n",
    "    #t=sorted(t, key=lambda item: item[1])\n",
    "    #fastCar,fastTime=t[0][0],t[0][1]\n",
    "    tz=min(t, key=lambda item: item[1])\n",
    "    fastCar,fastTime=tz[0],tz[1]\n",
    "    \n",
    "    #时间线比较\n",
    "    if st[fastCar][\"转载完成\"]:\n",
    "        tt=st[fastCar][\"Z-F时序\"].iloc[st[fastCar]['当前Z-F位置']+2]\n",
    "        if tt['类型'] != 'edge':\n",
    "            print(\"出错了：003\")\n",
    "            return stage2\n",
    "        ttt=tt[\"位置\"]\n",
    "        roadSize=G.edge[ttt[0]][ttt[1]]['容量']\n",
    "        #时间线比较-之重叠\n",
    "        meetingCars=[]\n",
    "        for car,state in st.items():\n",
    "            if state[\"转载完成\"]:\n",
    "                loc=state[\"Z-F时序\"]['位置'].iloc[state[\"当前Z-F位置\"]]\n",
    "            else:\n",
    "                loc=state[\"F-Z时序\"]['位置'].iloc[state[\"当前F-Z位置\"]]\n",
    "            if set(ttt)==set(loc):\n",
    "                meetingCars.append(car)\n",
    "        if len(meetingCars)>=roadSize:\n",
    "            #说明需要会车等待\n",
    "            if len(meetingCars)>roadSize:\n",
    "                print(\"出错了：004\")\n",
    "                return stage2\n",
    "            #To-do 会车等待决策+1\n",
    "            waitTime = min([tdic[i] for i in meetingCars]) - fastTime\n",
    "            #写入等待时间\n",
    "            stage2[fastCar][\"Z-F时序\"].loc[stage2[fastCar]['当前Z-F位置']+1,'耗时']=waitTime\n",
    "        stage2[fastCar]['当前Z-F位置']=stage2[fastCar]['当前Z-F位置']+2\n",
    "    else:\n",
    "        tt=st[fastCar][\"F-Z时序\"].iloc[st[fastCar]['当前F-Z位置']+2]\n",
    "        if tt['类型'] != 'edge':\n",
    "            print(\"出错了：005\")\n",
    "            return stage2\n",
    "        ttt=tt[\"位置\"]\n",
    "        roadSize=G.edge[ttt[0]][ttt[1]]['容量']\n",
    "        #时间线比较-之重叠\n",
    "        meetingCars=[]\n",
    "        for car,state in st.items():\n",
    "            if state[\"转载完成\"]:\n",
    "                loc=state[\"Z-F时序\"]['位置'].iloc[state[\"当前Z-F位置\"]]\n",
    "            else:\n",
    "                loc=state[\"F-Z时序\"]['位置'].iloc[state[\"当前F-Z位置\"]]\n",
    "            if set(ttt)==set(loc):\n",
    "                meetingCars.append(car)\n",
    "        if len(meetingCars)>=roadSize:\n",
    "            #说明需要会车等待\n",
    "            if len(meetingCars)>roadSize:\n",
    "                print(\"出错了：006\")\n",
    "                return stage2\n",
    "            #To-do 会车等待决策+1\n",
    "            waitTime = min([tdic[i] for i in meetingCars]) - fastTime\n",
    "            #写入等待时间\n",
    "            stage2[fastCar][\"F-Z时序\"].loc[stage2[fastCar]['当前F-Z位置']+1,'耗时']=waitTime\n",
    "        #时间线比较-之转载爆仓\n",
    "        zt=st[fastCar][\"F-Z时序\"].iloc[st[fastCar]['当前F-Z位置']+3]\n",
    "        if zt['类型'] != 'node':\n",
    "            print(\"出错了：007\")\n",
    "            return stage2\n",
    "        if zt['位置'] == st[fastCar]['转载点']:\n",
    "            #检测是否爆仓\n",
    "            #所有是这个转载点的车\n",
    "            #且到过转载点的\n",
    "            stz=[car for car,state in stage2.items() if state[\"转载完成\"] and state['转载点']==zt['位置']]\n",
    "            ztTime=sum(st[fastCar][\"F-Z时序\"]['耗时'].iloc[1:st[fastCar]['当前F-Z位置']+2])\n",
    "            #计算其是否在区间时间范围内\n",
    "            stzz,mtz=[],[]\n",
    "            for car in stz:\n",
    "                a=sum(stage2[car][\"F-Z时序\"]['耗时'].iloc[1:-1])\n",
    "                b=sum(stage2[car][\"F-Z时序\"]['耗时'].iloc[1:])\n",
    "                if a <= ztTime and ztTime < b:\n",
    "                    mtz.append(b)\n",
    "                    stzz.append(car)\n",
    "            #基础转载时间\n",
    "            zz=10\n",
    "            if len(stzz) >= 2:\n",
    "                if len(stzz) > 2:\n",
    "                    print(\"报错：特殊\")\n",
    "                #说明爆仓\n",
    "                waitt=min(mtz)-ztTime\n",
    "                stage2[fastCar][\"F-Z时序\"].loc[stage2[fastCar]['当前F-Z位置']+1,'耗时']=waitt\n",
    "                #计算新的到达时间\n",
    "                ztt=sum(st[fastCar][\"F-Z时序\"]['耗时'].iloc[1:st[fastCar]['当前F-Z位置']+2])\n",
    "                zz+=max(mtz)-ztt\n",
    "            #未爆仓，进场计算转载耗时\n",
    "            if len(stzz) ==1:\n",
    "                #表示存在正在转载物\n",
    "                zz+=sum(stage2[stzz[0]][\"F-Z时序\"]['耗时'].iloc[1:])-ztTime\n",
    "            #并写入转载完成和位置，转载时间\n",
    "            stage2[fastCar]['转载完成']=True\n",
    "            stage2[fastCar]['当前F-Z位置']=stage2[fastCar]['当前F-Z位置']+3\n",
    "            stage2[fastCar][\"F-Z时序\"].loc[stage2[fastCar]['当前F-Z位置'],'耗时']=zz\n",
    "        stage2[fastCar]['当前F-Z位置']=stage2[fastCar]['当前F-Z位置']+2\n",
    "\n",
    "    return stage2Meeting(stage2)\n",
    "''' \n",
    "def stage2Meeting(stage2):\n",
    "    #终止条件-齐射\n",
    "    should,st=[],{}\n",
    "    for car,state in stage2.items():\n",
    "        a=state[\"Z-F时序\"][\"位置\"].iloc[state[\"当前Z-F位置\"]+1]\n",
    "        b=state[\"发射点\"]\n",
    "        if a!=b:\n",
    "            should.append(car) \n",
    "    if len(should)==0:\n",
    "        return stage2\n",
    "    \n",
    "    #过滤到达终点的\n",
    "    #装填过滤的车\n",
    "    for i in should:\n",
    "        st[i]=stage2[i]\n",
    "    \n",
    "    #重叠检测\n",
    "    #耗时计算\n",
    "    t,tdic=[],{}\n",
    "    for car,state in st.items():\n",
    "        if state[\"转载完成\"]:\n",
    "            h=sum(state[\"Z-F时序\"]['耗时'].iloc[1:state[\"当前Z-F位置\"]+1])+sum(state[\"F-Z时序\"]['耗时'].iloc[1:state[\"当前F-Z位置\"]+1])\n",
    "        else:\n",
    "            h=sum(state[\"F-Z时序\"]['耗时'].iloc[1:state[\"当前F-Z位置\"]+1])\n",
    "        t.append((car,h))\n",
    "        tdic[car]=h\n",
    "            \n",
    "    #t=sorted(t, key=lambda item: item[1])\n",
    "    #fastCar,fastTime=t[0][0],t[0][1]\n",
    "    tz=min(t, key=lambda item: item[1])\n",
    "    fastCar,fastTime=tz[0],tz[1]\n",
    "    \n",
    "    #时间线比较\n",
    "    if st[fastCar][\"转载完成\"]:\n",
    "        tt=st[fastCar][\"Z-F时序\"].iloc[st[fastCar]['当前Z-F位置']+2]\n",
    "        if tt['类型'] != 'edge':\n",
    "            print(\"出错了：003\")\n",
    "            return stage2\n",
    "        ttt=tt[\"位置\"]\n",
    "        roadSize=G.edge[ttt[0]][ttt[1]]['容量']\n",
    "        #时间线比较-之重叠\n",
    "        meetingCars=[]\n",
    "        for car,state in st.items():\n",
    "            if state[\"转载完成\"]:\n",
    "                loc=state[\"Z-F时序\"]['位置'].iloc[state[\"当前Z-F位置\"]]\n",
    "            else:\n",
    "                loc=state[\"F-Z时序\"]['位置'].iloc[state[\"当前F-Z位置\"]]\n",
    "            if set(ttt)==set(loc):\n",
    "                meetingCars.append(car)\n",
    "        \n",
    "        #计算其是否在区间时间范围内\n",
    "        amtz=[]\n",
    "        for car in meetingCars:\n",
    "            if state[\"转载完成\"]:\n",
    "                a=sum(stage2[car][\"Z-F时序\"]['耗时'].iloc[1:stage2[car][\"当前Z-F位置\"]+1])+sum(stage2[car][\"F-Z时序\"]['耗时'].iloc[1:stage2[car][\"当前F-Z位置\"]+1])\n",
    "                b=sum(stage2[car][\"Z-F时序\"]['耗时'].iloc[1:stage2[car][\"当前Z-F位置\"]])+sum(stage2[car][\"F-Z时序\"]['耗时'].iloc[1:stage2[car][\"当前F-Z位置\"]+1])\n",
    "            else:\n",
    "                a=sum(stage2[car][\"F-Z时序\"]['耗时'].iloc[1:stage2[car][\"当前F-Z位置\"]+1])\n",
    "                b=sum(stage2[car][\"F-Z时序\"]['耗时'].iloc[1:stage2[car][\"当前F-Z位置\"]])\n",
    "\n",
    "            if a <= fastTime and fastTime < b:\n",
    "                amtz.append(car)\n",
    "        meetingCars=amtz\n",
    "        \n",
    "        if len(meetingCars)>=roadSize:\n",
    "            #说明需要会车等待\n",
    "            if len(meetingCars)>roadSize:\n",
    "                print(\"出错了：004\")\n",
    "                return stage2\n",
    "            #To-do 会车等待决策+1\n",
    "            waitTime = min([tdic[i] for i in meetingCars]) - fastTime\n",
    "            #写入等待时间\n",
    "            stage2[fastCar][\"Z-F时序\"].loc[stage2[fastCar]['当前Z-F位置']+1,'耗时']=waitTime\n",
    "        stage2[fastCar]['当前Z-F位置']=stage2[fastCar]['当前Z-F位置']+2\n",
    "    else:\n",
    "        tt=st[fastCar][\"F-Z时序\"].iloc[st[fastCar]['当前F-Z位置']+2]\n",
    "        if tt['类型'] != 'edge':\n",
    "            print(\"出错了：005\")\n",
    "            return stage2\n",
    "        ttt=tt[\"位置\"]\n",
    "        roadSize=G.edge[ttt[0]][ttt[1]]['容量']\n",
    "        #时间线比较-之重叠\n",
    "        meetingCars=[]\n",
    "        for car,state in st.items():\n",
    "            if state[\"转载完成\"]:\n",
    "                loc=state[\"Z-F时序\"]['位置'].iloc[state[\"当前Z-F位置\"]]\n",
    "            else:\n",
    "                loc=state[\"F-Z时序\"]['位置'].iloc[state[\"当前F-Z位置\"]]\n",
    "            if set(ttt)==set(loc):\n",
    "                meetingCars.append(car)\n",
    "        #计算其是否在区间时间范围内\n",
    "        amtz=[]\n",
    "        for car in meetingCars:\n",
    "            if state[\"转载完成\"]:\n",
    "                a=sum(stage2[car][\"Z-F时序\"]['耗时'].iloc[1:stage2[car][\"当前Z-F位置\"]+1])+sum(stage2[car][\"F-Z时序\"]['耗时'].iloc[1:stage2[car][\"当前F-Z位置\"]+1])\n",
    "                b=sum(stage2[car][\"Z-F时序\"]['耗时'].iloc[1:stage2[car][\"当前Z-F位置\"]])+sum(stage2[car][\"F-Z时序\"]['耗时'].iloc[1:stage2[car][\"当前F-Z位置\"]+1])\n",
    "            else:\n",
    "                a=sum(stage2[car][\"F-Z时序\"]['耗时'].iloc[1:stage2[car][\"当前F-Z位置\"]+1])\n",
    "                b=sum(stage2[car][\"F-Z时序\"]['耗时'].iloc[1:stage2[car][\"当前F-Z位置\"]])\n",
    "\n",
    "            if a <= fastTime and fastTime < b:\n",
    "                amtz.append(car)\n",
    "        meetingCars=amtz\n",
    "        if len(meetingCars)>=roadSize:\n",
    "            #说明需要会车等待\n",
    "            if len(meetingCars)>roadSize:\n",
    "                print(meetingCars)\n",
    "                print(\"出错了：006\")\n",
    "                return stage2\n",
    "            #To-do 会车等待决策+1\n",
    "            waitTime = min([tdic[i] for i in meetingCars]) - fastTime\n",
    "            #写入等待时间\n",
    "            stage2[fastCar][\"F-Z时序\"].loc[stage2[fastCar]['当前F-Z位置']+1,'耗时']=waitTime\n",
    "        #时间线比较-之转载爆仓\n",
    "        zt=st[fastCar][\"F-Z时序\"].iloc[st[fastCar]['当前F-Z位置']+3]\n",
    "        if zt['类型'] != 'node':\n",
    "            print(\"出错了：007\")\n",
    "            return stage2\n",
    "        if zt['位置'] == st[fastCar]['转载点']:\n",
    "            #检测是否爆仓\n",
    "            #所有是这个转载点的车\n",
    "            #且到过转载点的\n",
    "            stz=[car for car,state in stage2.items() if state[\"转载完成\"] and state['转载点']==zt['位置']]\n",
    "            ztTime=sum(st[fastCar][\"F-Z时序\"]['耗时'].iloc[1:st[fastCar]['当前F-Z位置']+2])\n",
    "            #计算其是否在区间时间范围内\n",
    "            stzz,mtz=[],[]\n",
    "            for car in stz:\n",
    "                a=sum(stage2[car][\"F-Z时序\"]['耗时'].iloc[1:-1])\n",
    "                b=sum(stage2[car][\"F-Z时序\"]['耗时'].iloc[1:])\n",
    "                if a <= ztTime and ztTime < b:\n",
    "                    mtz.append(b)\n",
    "                    stzz.append(car)\n",
    "            #基础转载时间\n",
    "            zz=10\n",
    "            if len(stzz) >= 2:\n",
    "                if len(stzz) > 2:\n",
    "                    print(\"报错：特殊\")\n",
    "                #说明爆仓\n",
    "                waitt=min(mtz)-ztTime\n",
    "                stage2[fastCar][\"F-Z时序\"].loc[stage2[fastCar]['当前F-Z位置']+1,'耗时']=waitt\n",
    "                #计算新的到达时间\n",
    "                ztt=sum(st[fastCar][\"F-Z时序\"]['耗时'].iloc[1:st[fastCar]['当前F-Z位置']+2])\n",
    "                zz+=max(mtz)-ztt\n",
    "            #未爆仓，进场计算转载耗时\n",
    "            if len(stzz) ==1:\n",
    "                #表示存在正在转载物\n",
    "                zz+=sum(stage2[stzz[0]][\"F-Z时序\"]['耗时'].iloc[1:])-ztTime\n",
    "            #并写入转载完成和位置，转载时间\n",
    "            stage2[fastCar]['转载完成']=True\n",
    "            stage2[fastCar]['当前F-Z位置']=stage2[fastCar]['当前F-Z位置']+3\n",
    "            stage2[fastCar][\"F-Z时序\"].loc[stage2[fastCar]['当前F-Z位置'],'耗时']=zz\n",
    "        stage2[fastCar]['当前F-Z位置']=stage2[fastCar]['当前F-Z位置']+2\n",
    "\n",
    "    return stage2Meeting(stage2)"
   ]
  },
  {
   "cell_type": "code",
   "execution_count": 59,
   "metadata": {
    "collapsed": true,
    "deletable": true,
    "editable": true
   },
   "outputs": [],
   "source": [
    "'''\n",
    "def alignLaunch2(stage2):\n",
    "    #寻找最慢车\n",
    "    t,tdic=[],{}\n",
    "    for car,state in st.items():\n",
    "        h=sum(state[\"Z-F时序\"]['耗时'].iloc[1:state[\"当前Z-F位置\"]+1])+sum(state[\"F-Z时序\"]['耗时'].iloc[1:state[\"当前F-Z位置\"]+1])\n",
    "        t.append((car,h))\n",
    "        tdic[car]=h\n",
    "    tz=max(t, key=lambda item: item[1])\n",
    "    #计算耗时\n",
    "    slowCar,slowTime=tz[0],tz[1]\n",
    "    #每个车与它相减，获得对齐罚时\n",
    "    for car,state in stage2.items():\n",
    "        stage2[car]['Z-F时序'].iloc[-1,-1]=slowTime-tdic[car]\n",
    "    return stage2\n",
    "'''\n",
    "# 修改了第三行 st -> stage2\n",
    "def alignLaunch2(stage2):\n",
    "    #寻找最慢车\n",
    "    t,tdic=[],{}\n",
    "    for car,state in stage2.items():\n",
    "        h=sum(state[\"Z-F时序\"]['耗时'].iloc[1:state[\"当前Z-F位置\"]+1])+sum(state[\"F-Z时序\"]['耗时'].iloc[1:state[\"当前F-Z位置\"]+1])\n",
    "        t.append((car,h))\n",
    "        tdic[car]=h\n",
    "    tz=max(t, key=lambda item: item[1])\n",
    "    #计算耗时\n",
    "    slowCar,slowTime=tz[0],tz[1]\n",
    "    #每个车与它相减，获得对齐罚时\n",
    "    for car,state in stage2.items():\n",
    "        stage2[car]['Z-F时序'].iloc[-1,-1]=slowTime-tdic[car]\n",
    "    return stage2"
   ]
  },
  {
   "cell_type": "code",
   "execution_count": 60,
   "metadata": {
    "collapsed": true,
    "deletable": true,
    "editable": true
   },
   "outputs": [],
   "source": [
    "'''\n",
    "f_z:{车号:path}\n",
    "z_f:{车号:path}\n",
    "'''\n",
    "def stage2Consum(f_z,z_f):\n",
    "    stage2={}\n",
    "    for car in f_z.keys():\n",
    "        stage2[car]={\n",
    "            \"车型\":car[0],\n",
    "            \"F-Z时序\":generFZ(f_z[car],car[0]),\n",
    "            \"当前F-Z位置\":1,\n",
    "            \"转载点\":f_z[car][-1],\n",
    "            \"转载完成\":False,\n",
    "            \"Z-F时序\":generZF(z_f[car],car[0]),\n",
    "            \"当前Z-F位置\":1,\n",
    "            \"发射点\":z_f[car][-1]\n",
    "        }\n",
    "    #重叠计算-转载计算-转载爆仓问题？->中断所有到此 Z 的车辆\n",
    "    newst2=stage2Meeting(stage2)#此处为范式，由于是可变式，所以newst1还是和原来的引用一样\n",
    "    #齐射罚时\n",
    "    newst2=alignLaunch2(newst2)\n",
    "    \n",
    "    return newst2"
   ]
  },
  {
   "cell_type": "code",
   "execution_count": 61,
   "metadata": {
    "collapsed": true,
    "deletable": true,
    "editable": true
   },
   "outputs": [],
   "source": [
    "def allConsum(departure,d_f,f_z,z_f):\n",
    "    stage1=stage1Consum(d_f,departure)\n",
    "    stage2=stage2Consum(f_z,z_f)\n",
    "    #计算总暴露时间(排除转载时间)\n",
    "    allTime={car:state[\"出发时刻\"]+sum(state[\"D-F时序\"]['耗时'].iloc[1:]) for car,state in stage1.items()}\n",
    "    for car,state in stage2.items():\n",
    "        allTime[car]+=sum(state[\"Z-F时序\"]['耗时'].iloc[1:-1])+sum(state[\"F-Z时序\"]['耗时'].iloc[1:])\n",
    "    \n",
    "    res=sum([time for time in allTime.values()])\n",
    "    \n",
    "    return res,stage1,stage2"
   ]
  },
  {
   "cell_type": "code",
   "execution_count": null,
   "metadata": {
    "collapsed": false,
    "deletable": true,
    "editable": true
   },
   "outputs": [],
   "source": [
    "'''\n",
    "目前权值是以小时为单位的，所以最终结果需要转为分钟 即 * 60  \n",
    "d_f:表示所有24辆车的路径\n",
    "{车号:path}\n",
    "departure:表示每辆车的发车时间，出发时刻，分钟为单位\n",
    "{车号:时刻}\n",
    "f_z:{车号:path}\n",
    "z_f:{车号:path}\n",
    "'''\n",
    "departure,d_f,f_z,z_f={},{},{},{}\n",
    "targetTime,stage1,stage2=allConsum(departure,d_f,f_z,z_f)"
   ]
  },
  {
   "cell_type": "code",
   "execution_count": 153,
   "metadata": {
    "collapsed": true,
    "deletable": true,
    "editable": true
   },
   "outputs": [],
   "source": [
    "# C_D_F[d][f]=(shorttemp,len(shorttemp),pathDistance(shorttemp),pathTime(shorttemp,'C'))"
   ]
  },
  {
   "cell_type": "code",
   "execution_count": 62,
   "metadata": {
    "collapsed": false,
    "deletable": true,
    "editable": true
   },
   "outputs": [
    {
     "data": {
      "text/plain": [
       "60"
      ]
     },
     "execution_count": 62,
     "metadata": {},
     "output_type": "execute_result"
    }
   ],
   "source": [
    "A_D1=[]\n",
    "i=0\n",
    "for key, item in A_D_F['D1'].items():\n",
    "    A_D1.append([item[-1],key])\n",
    "    i += 1\n",
    "    #print(item[0])\n",
    "i"
   ]
  },
  {
   "cell_type": "code",
   "execution_count": 63,
   "metadata": {
    "collapsed": false,
    "deletable": true,
    "editable": true
   },
   "outputs": [
    {
     "data": {
      "text/plain": [
       "60"
      ]
     },
     "execution_count": 63,
     "metadata": {},
     "output_type": "execute_result"
    }
   ],
   "source": [
    "A_D2=[]\n",
    "i=0\n",
    "for key, item in A_D_F['D2'].items():\n",
    "    A_D2.append([item[-1],key])\n",
    "    i += 1\n",
    "    #print(item[0])\n",
    "i"
   ]
  },
  {
   "cell_type": "code",
   "execution_count": 65,
   "metadata": {
    "collapsed": false,
    "deletable": true,
    "editable": true
   },
   "outputs": [],
   "source": [
    "A_D1_1=sorted(A_D1, key=itemgetter(0), reverse=False)[:20]\n",
    "#A_D1_1"
   ]
  },
  {
   "cell_type": "code",
   "execution_count": 66,
   "metadata": {
    "collapsed": false,
    "deletable": true,
    "editable": true
   },
   "outputs": [],
   "source": [
    "A_D2_2=sorted(A_D2, key=itemgetter(0), reverse=False)[:20]\n",
    "#A_D2_2"
   ]
  },
  {
   "cell_type": "code",
   "execution_count": 67,
   "metadata": {
    "collapsed": false,
    "deletable": true,
    "editable": true
   },
   "outputs": [],
   "source": [
    "A_L=[]\n",
    "for item,key in A_D1_1:\n",
    "    A_L.append(A_D_F['D1'][key])\n",
    "for item,key in A_D2_2:\n",
    "    A_L.append(A_D_F['D2'][key])"
   ]
  },
  {
   "cell_type": "code",
   "execution_count": 68,
   "metadata": {
    "collapsed": false,
    "deletable": true,
    "editable": true
   },
   "outputs": [
    {
     "data": {
      "text/plain": [
       "40"
      ]
     },
     "execution_count": 68,
     "metadata": {},
     "output_type": "execute_result"
    }
   ],
   "source": [
    "len(A_L)"
   ]
  },
  {
   "cell_type": "code",
   "execution_count": 69,
   "metadata": {
    "collapsed": false,
    "deletable": true,
    "editable": true
   },
   "outputs": [],
   "source": [
    "B_D1=[]\n",
    "B_D2=[]\n",
    "for key, item in B_D_F['D1'].items():\n",
    "    B_D1.append([item[-1],key])\n",
    "for key, item in B_D_F['D2'].items():\n",
    "    B_D2.append([item[-1],key])\n",
    "B_D1_1=sorted(B_D1, key=itemgetter(0), reverse=False)[:20]\n",
    "#B_D1_1"
   ]
  },
  {
   "cell_type": "code",
   "execution_count": 70,
   "metadata": {
    "collapsed": false,
    "deletable": true,
    "editable": true
   },
   "outputs": [],
   "source": [
    "B_D2_2=sorted(B_D2, key=itemgetter(0), reverse=False)[:20]\n",
    "#B_D2_2"
   ]
  },
  {
   "cell_type": "code",
   "execution_count": 71,
   "metadata": {
    "collapsed": true,
    "deletable": true,
    "editable": true
   },
   "outputs": [],
   "source": [
    "B_L=[]\n",
    "for item,key in B_D1_1:\n",
    "    B_L.append(B_D_F['D1'][key])\n",
    "for item,key in B_D2_2:\n",
    "    B_L.append(B_D_F['D2'][key])"
   ]
  },
  {
   "cell_type": "code",
   "execution_count": 72,
   "metadata": {
    "collapsed": false,
    "deletable": true,
    "editable": true
   },
   "outputs": [
    {
     "data": {
      "text/plain": [
       "40"
      ]
     },
     "execution_count": 72,
     "metadata": {},
     "output_type": "execute_result"
    }
   ],
   "source": [
    "len(B_L)"
   ]
  },
  {
   "cell_type": "code",
   "execution_count": 73,
   "metadata": {
    "collapsed": false,
    "deletable": true,
    "editable": true
   },
   "outputs": [],
   "source": [
    "C_D1=[]\n",
    "C_D2=[]\n",
    "for key, item in C_D_F['D1'].items():\n",
    "    C_D1.append([item[-1],key])\n",
    "for key, item in C_D_F['D2'].items():\n",
    "    C_D2.append([item[-1],key])\n",
    "C_D1_1=sorted(C_D1, key=itemgetter(0), reverse=False)[:25]\n",
    "#C_D1_1"
   ]
  },
  {
   "cell_type": "code",
   "execution_count": 74,
   "metadata": {
    "collapsed": false,
    "deletable": true,
    "editable": true
   },
   "outputs": [],
   "source": [
    "C_D2_2=sorted(C_D2, key=itemgetter(0), reverse=False)[:25]\n",
    "#C_D2_2"
   ]
  },
  {
   "cell_type": "code",
   "execution_count": 75,
   "metadata": {
    "collapsed": true,
    "deletable": true,
    "editable": true
   },
   "outputs": [],
   "source": [
    "C_L=[]\n",
    "for item,key in C_D1_1:\n",
    "    C_L.append(C_D_F['D1'][key])\n",
    "for item,key in C_D2_2:\n",
    "    C_L.append(C_D_F['D2'][key])"
   ]
  },
  {
   "cell_type": "code",
   "execution_count": 76,
   "metadata": {
    "collapsed": false,
    "deletable": true,
    "editable": true
   },
   "outputs": [
    {
     "data": {
      "text/plain": [
       "50"
      ]
     },
     "execution_count": 76,
     "metadata": {},
     "output_type": "execute_result"
    }
   ],
   "source": [
    "len(C_L)"
   ]
  },
  {
   "cell_type": "code",
   "execution_count": 77,
   "metadata": {
    "collapsed": false,
    "deletable": true,
    "editable": true
   },
   "outputs": [
    {
     "data": {
      "text/plain": [
       "(['D1', 'Z03', 'J61', 'F58'], 4, 73.50083559341081, 1.6333519020757958)"
      ]
     },
     "execution_count": 77,
     "metadata": {},
     "output_type": "execute_result"
    }
   ],
   "source": [
    "A_D_F['D1']['F58']"
   ]
  },
  {
   "cell_type": "markdown",
   "metadata": {
    "deletable": true,
    "editable": true
   },
   "source": [
    "# 按耗时最短排序"
   ]
  },
  {
   "cell_type": "code",
   "execution_count": 80,
   "metadata": {
    "collapsed": false,
    "deletable": true,
    "editable": true,
    "scrolled": true
   },
   "outputs": [],
   "source": [
    "A_L=sorted(A_L, key=itemgetter(3), reverse=False)\n",
    "#A_L"
   ]
  },
  {
   "cell_type": "code",
   "execution_count": 81,
   "metadata": {
    "collapsed": false,
    "deletable": true,
    "editable": true,
    "scrolled": true
   },
   "outputs": [],
   "source": [
    "B_L=sorted(B_L, key=itemgetter(3), reverse=False)\n",
    "#B_L"
   ]
  },
  {
   "cell_type": "code",
   "execution_count": 82,
   "metadata": {
    "collapsed": false,
    "deletable": true,
    "editable": true,
    "scrolled": true
   },
   "outputs": [],
   "source": [
    "C_L=sorted(C_L, key=itemgetter(3), reverse=False)\n",
    "#C_L"
   ]
  },
  {
   "cell_type": "code",
   "execution_count": 83,
   "metadata": {
    "collapsed": false,
    "deletable": true,
    "editable": true
   },
   "outputs": [],
   "source": [
    "d_f=dict()\n",
    "d_f['A01']=['D2', 'J32', 'F24']\n",
    "d_f['A02']=['D2', 'J12', 'J13', 'J21', 'F03']\n",
    "d_f['A03']=['D2', 'J03', 'J48', 'F47']\n",
    "d_f['A04']=['D1', 'J11', 'J46', 'F43']\n",
    "d_f['A05']=['D1', 'J09', 'J08', 'J07', 'J06', 'J36', 'F29']\n",
    "d_f['A06']=['D1', 'Z03', 'J61', 'F57']\n",
    "d_f['B01']=['D2', 'J03', 'J02', 'J47', 'F45']\n",
    "d_f['B02']=['D2', 'J03', 'J04', 'J05', 'J49', 'F49']\n",
    "d_f['B03']=['D2', 'J12', 'J13', 'J21', 'F02']\n",
    "d_f['B04']=['D2', 'J12', 'J13', 'J21', 'F01']\n",
    "d_f['B05']=['D2', 'J03', 'J04', 'J05', 'J49', 'F48']\n",
    "d_f['B06']=['D1', 'J10', 'J45', 'J42', 'J40', 'F38']\n",
    "d_f['C01']=['D2', 'J32', 'J33', 'F25']\n",
    "d_f['C02']=['D2', 'J32', 'J33', 'J34', 'F26']\n",
    "d_f['C03']=['D2', 'J03', 'J04', 'J50', 'F50']\n",
    "d_f['C04']=['D2', 'J12', 'J13', 'J14', 'J35', 'F27']\n",
    "d_f['C05']=['D2', 'J12', 'J13', 'J14', 'J35', 'F28']\n",
    "d_f['C06']=['D1', 'Z03', 'J61', 'F58']\n",
    "d_f['C07']=['D1', 'J11', 'J46', 'J44', 'F42']\n",
    "d_f['C08']=['D1', 'J11', 'J46', 'J44', 'F41']\n",
    "d_f['C09']=['D2', 'J12', 'J13', 'J21', 'J22', 'F06']\n",
    "d_f['C10']=['D2', 'J03', 'J04', 'J50', 'J53', 'F51']\n",
    "d_f['C11']=['D2', 'J12', 'J13', 'J21', 'J22', 'F05']\n",
    "d_f['C12']=['D1', 'J09', 'J08', 'J07', 'Z04', 'J38', 'F34']"
   ]
  },
  {
   "cell_type": "code",
   "execution_count": 138,
   "metadata": {
    "collapsed": false,
    "deletable": true,
    "editable": true
   },
   "outputs": [],
   "source": [
    "D2=[[key,item,tmp_1[key][1],tmp_1[key][1]-24.90872225635921] for key,item in d_f.items() if item[0]=='D2']"
   ]
  },
  {
   "cell_type": "code",
   "execution_count": 90,
   "metadata": {
    "collapsed": false,
    "deletable": true,
    "editable": true
   },
   "outputs": [],
   "source": [
    "D1=[[key,item,tmp_1[key][1],tmp_1[key][1]-30.08137112714261] for key,item in d_f.items() if item[0]=='D1']"
   ]
  },
  {
   "cell_type": "code",
   "execution_count": 92,
   "metadata": {
    "collapsed": false,
    "deletable": true,
    "editable": true
   },
   "outputs": [],
   "source": [
    "#sorted(D1, key=itemgetter(2), reverse=False)"
   ]
  },
  {
   "cell_type": "code",
   "execution_count": 139,
   "metadata": {
    "collapsed": false,
    "deletable": true,
    "editable": true
   },
   "outputs": [
    {
     "data": {
      "text/plain": [
       "(30.08137112714261, 24.90872225635921)"
      ]
     },
     "execution_count": 139,
     "metadata": {},
     "output_type": "execute_result"
    }
   ],
   "source": [
    "min([tim[2] for tim in D1]),min([tim[2] for tim in D2])"
   ]
  },
  {
   "cell_type": "code",
   "execution_count": 718,
   "metadata": {
    "collapsed": false,
    "deletable": true,
    "editable": true
   },
   "outputs": [
    {
     "data": {
      "text/plain": [
       "49.6028673006354"
      ]
     },
     "execution_count": 718,
     "metadata": {},
     "output_type": "execute_result"
    }
   ],
   "source": [
    "name='Z03D1'\n",
    "(edgeDist[name][0]/45)*60"
   ]
  },
  {
   "cell_type": "code",
   "execution_count": 109,
   "metadata": {
    "collapsed": false,
    "deletable": true,
    "editable": true
   },
   "outputs": [
    {
     "name": "stdout",
     "output_type": "stream",
     "text": [
      "True\n"
     ]
    }
   ],
   "source": [
    "if 'D2J32' not in edgeDist.keys():\n",
    "    print('J32D2' in edgeDist.keys())"
   ]
  },
  {
   "cell_type": "code",
   "execution_count": 87,
   "metadata": {
    "collapsed": true,
    "deletable": true,
    "editable": true
   },
   "outputs": [],
   "source": [
    "#path,物理距离计算\n",
    "def pathDistance(path):\n",
    "    res=[]\n",
    "    for i in range(len(path)-1):\n",
    "        a,b=path[i:i+2]\n",
    "        res.append(edgeDist.get(a+b)[0] if edgeDist.get(a+b,None) else edgeDist.get(b+a)[0])\n",
    "    return sum(res)"
   ]
  },
  {
   "cell_type": "code",
   "execution_count": 88,
   "metadata": {
    "collapsed": false,
    "deletable": true,
    "editable": true
   },
   "outputs": [],
   "source": [
    "tmp_1=dict()\n",
    "for key,item in d_f.items():\n",
    "    if key[0]=='C':\n",
    "        tmp_1[key]=[0]\n",
    "        for i in range(len(item)-1):\n",
    "            a,b=item[i:i+2]\n",
    "            tmp_1[key].append((edgeDist.get(a+b)[0]/30)*60+tmp_1[key][i] if edgeDist.get(a+b,None) else (edgeDist.get(b+a)[0]/30)*60+tmp_1[key][i])\n",
    "    if key[0]=='B':\n",
    "        tmp_1[key]=[0]\n",
    "        for i in range(len(item)-1):\n",
    "            a,b=item[i:i+2]\n",
    "            tmp_1[key].append((edgeDist.get(a+b)[0]/35)*60+tmp_1[key][i] if edgeDist.get(a+b,None) else (edgeDist.get(b+a)[0]/35)*60+tmp_1[key][i])\n",
    "    if key[0]=='A':\n",
    "        tmp_1[key]=[0]\n",
    "        for i in range(len(item)-1):\n",
    "            a,b=item[i:i+2]\n",
    "            tmp_1[key].append((edgeDist.get(a+b)[0]/45)*60+tmp_1[key][i] if edgeDist.get(a+b,None) else (edgeDist.get(b+a)[0]/45)*60+tmp_1[key][i])"
   ]
  },
  {
   "cell_type": "code",
   "execution_count": 89,
   "metadata": {
    "collapsed": true,
    "deletable": true,
    "editable": true
   },
   "outputs": [],
   "source": [
    "cc=dict()\n",
    "cc['A01']=0\n",
    "cc['A02']=0\n",
    "cc['A03']=0\n",
    "cc['A04']=0\n",
    "cc['A05']=0\n",
    "cc['A06']=0\n",
    "cc['B01']=29\n",
    "cc['B02']=29*2\n",
    "cc['B03']=33*2\n",
    "cc['B04']=33\n",
    "cc['B05']=29*3\n",
    "cc['B06']=0\n",
    "cc['C01']=50\n",
    "cc['C02']=25\n",
    "cc['C03']=29*5\n",
    "cc['C04']=33*4\n",
    "cc['C05']=33*6\n",
    "cc['C06']=50\n",
    "cc['C07']=31\n",
    "cc['C08']=31*2\n",
    "cc['C09']=33*5\n",
    "cc['C10']=29*4\n",
    "cc['C11']=33*3\n",
    "cc['C12']=44"
   ]
  },
  {
   "cell_type": "code",
   "execution_count": 94,
   "metadata": {
    "collapsed": false,
    "deletable": true,
    "editable": true
   },
   "outputs": [],
   "source": [
    "'''\n",
    "目前权值是以小时为单位的，所以最终结果需要转为分钟 即 * 60  \n",
    "d_f:表示所有24辆车的路径\n",
    "{车号:path}\n",
    "departure:表示每辆车的发车时间，出发时刻，分钟为单位\n",
    "{车号:时刻}\n",
    "f_z:{车号:path}\n",
    "z_f:{车号:path}\n",
    "'''\n",
    "#stage1=stage1Consum(d_f,tmp_1)\n",
    "stage1=stage1Consum(d_f,cc)"
   ]
  },
  {
   "cell_type": "code",
   "execution_count": 754,
   "metadata": {
    "collapsed": true,
    "deletable": true,
    "editable": true
   },
   "outputs": [],
   "source": [
    "set_pickle('stage_1',stage1)"
   ]
  },
  {
   "cell_type": "code",
   "execution_count": 95,
   "metadata": {
    "collapsed": false,
    "deletable": true,
    "editable": true
   },
   "outputs": [
    {
     "data": {
      "text/html": [
       "<div>\n",
       "<table border=\"1\" class=\"dataframe\">\n",
       "  <thead>\n",
       "    <tr style=\"text-align: right;\">\n",
       "      <th></th>\n",
       "      <th>位置</th>\n",
       "      <th>类型</th>\n",
       "      <th>耗时</th>\n",
       "    </tr>\n",
       "  </thead>\n",
       "  <tbody>\n",
       "    <tr>\n",
       "      <th>0</th>\n",
       "      <td>D2</td>\n",
       "      <td>node</td>\n",
       "      <td>0.000000</td>\n",
       "    </tr>\n",
       "    <tr>\n",
       "      <th>1</th>\n",
       "      <td>(D2, J32)</td>\n",
       "      <td>edge</td>\n",
       "      <td>24.908722</td>\n",
       "    </tr>\n",
       "    <tr>\n",
       "      <th>2</th>\n",
       "      <td>J32</td>\n",
       "      <td>node</td>\n",
       "      <td>0.000000</td>\n",
       "    </tr>\n",
       "    <tr>\n",
       "      <th>3</th>\n",
       "      <td>(J32, F24)</td>\n",
       "      <td>edge</td>\n",
       "      <td>12.292726</td>\n",
       "    </tr>\n",
       "    <tr>\n",
       "      <th>4</th>\n",
       "      <td>F24</td>\n",
       "      <td>node</td>\n",
       "      <td>306.039729</td>\n",
       "    </tr>\n",
       "  </tbody>\n",
       "</table>\n",
       "</div>"
      ],
      "text/plain": [
       "           位置    类型          耗时\n",
       "0          D2  node    0.000000\n",
       "1   (D2, J32)  edge   24.908722\n",
       "2         J32  node    0.000000\n",
       "3  (J32, F24)  edge   12.292726\n",
       "4         F24  node  306.039729"
      ]
     },
     "execution_count": 95,
     "metadata": {},
     "output_type": "execute_result"
    }
   ],
   "source": [
    "stage1['A01']['D-F时序']"
   ]
  },
  {
   "cell_type": "code",
   "execution_count": 97,
   "metadata": {
    "collapsed": false,
    "deletable": true,
    "editable": true
   },
   "outputs": [],
   "source": [
    "d_f_2=dict()\n",
    "Car_ty=[it2 for it1 in [carA,carB,carC] for it2 in it1]\n",
    "for i in Car_ty:\n",
    "    d_f_2[i]=None"
   ]
  },
  {
   "cell_type": "code",
   "execution_count": 119,
   "metadata": {
    "collapsed": false,
    "deletable": true,
    "editable": true,
    "scrolled": false
   },
   "outputs": [],
   "source": [
    "#d_f_2=dict()\n",
    "jishu=dict()\n",
    "F_node=[\"F\"+str(i).zfill(2) for i in range(1,61)]\n",
    "for i in F_node:\n",
    "    jishu[i]=0\n",
    "i_A=0\n",
    "for item in A_L:\n",
    "    if i_A > 5:break\n",
    "    if jishu[item[0][-1]] == 0:\n",
    "        d_f_2[carA[i_A]]=item[0]\n",
    "        jishu[item[0][-1]] += 1\n",
    "        i_A += 1\n",
    "i_B=0\n",
    "for item in B_L:\n",
    "    if i_B > 5:break\n",
    "    if jishu[item[0][-1]] == 0:\n",
    "        d_f_2[carB[i_B]]=item[0]\n",
    "        jishu[item[0][-1]] += 1\n",
    "        i_B += 1\n",
    "i_C=0\n",
    "for item in C_L:\n",
    "    if i_C > 11:break\n",
    "    if jishu[item[0][-1]] == 0:\n",
    "        d_f_2[carC[i_C]]=item[0]\n",
    "        jishu[item[0][-1]] += 1\n",
    "        i_C += 1\n",
    "#d_f_2       "
   ]
  },
  {
   "cell_type": "code",
   "execution_count": 120,
   "metadata": {
    "collapsed": false,
    "deletable": true,
    "editable": true
   },
   "outputs": [],
   "source": [
    "d_f_t=dict()\n",
    "Car_ty=[it2 for it1 in [carA,carB,carC] for it2 in it1]\n",
    "for i in Car_ty:\n",
    "    d_f_t[i]=None"
   ]
  },
  {
   "cell_type": "code",
   "execution_count": 141,
   "metadata": {
    "collapsed": false,
    "deletable": true,
    "editable": true,
    "scrolled": true
   },
   "outputs": [],
   "source": [
    "#tmp_d_f_t_D1=dict()\n",
    "tmp_ji=dict()\n",
    "for key,item in d_f_2.items():\n",
    "        a,b=item[0:2]\n",
    "        tmp_ji[a+b]=0\n",
    "for key,item in d_f_2.items():\n",
    "    if item[0]=='D1':\n",
    "        a,b=item[0:2]\n",
    "        tmp_ji[a+b] += 1\n",
    "        if key[0]=='C':\n",
    "            #d_f_t[key].append((edgeDist.get(a+b)[0]/30)*60*(tmp_ji[a+b]-1) if edgeDist.get(a+b,None) else (edgeDist.get(b+a)[0]/30)*60*(tmp_ji[a+b]-1))\n",
    "            d_f_t[key]=[(edgeDist.get(a+b)[0]/30)*60*(tmp_ji[a+b]-1) if edgeDist.get(a+b,None) else (edgeDist.get(b+a)[0]/30)*60*(tmp_ji[a+b]-1)]\n",
    "        if key[0]=='B':\n",
    "            #d_f_t[key].append((edgeDist.get(a+b)[0]/30)*60*(tmp_ji[a+b]-1) if edgeDist.get(a+b,None) else (edgeDist.get(b+a)[0]/30)*60*(tmp_ji[a+b]-1))\n",
    "            d_f_t[key]=[(edgeDist.get(a+b)[0]/35)*60*(tmp_ji[a+b]-1) if edgeDist.get(a+b,None) else (edgeDist.get(b+a)[0]/35)*60*(tmp_ji[a+b]-1)]\n",
    "        if key[0]=='A':\n",
    "            #d_f_t[key].append((edgeDist.get(a+b)[0]/30)*60*(tmp_ji[a+b]-1) if edgeDist.get(a+b,None) else (edgeDist.get(b+a)[0]/30)*60*(tmp_ji[a+b]-1))\n",
    "            d_f_t[key]=[(edgeDist.get(a+b)[0]/45)*60*(tmp_ji[a+b]-1) if edgeDist.get(a+b,None) else (edgeDist.get(b+a)[0]/45)*60*(tmp_ji[a+b]-1)]\n",
    "    if item[0]=='D2':\n",
    "        a,b=item[0:2]\n",
    "        tmp_ji[a+b] += 1\n",
    "        if key[0]=='C':\n",
    "            #d_f_t[key].append((edgeDist.get(a+b)[0]/30)*60*(tmp_ji[a+b]-1) if edgeDist.get(a+b,None) else (edgeDist.get(b+a)[0]/30)*60*(tmp_ji[a+b]-1))\n",
    "            d_f_t[key]=[(edgeDist.get(a+b)[0]/30)*60*(tmp_ji[a+b]-1) if edgeDist.get(a+b,None) else (edgeDist.get(b+a)[0]/30)*60*(tmp_ji[a+b]-1)]\n",
    "        if key[0]=='B':\n",
    "            #d_f_t[key].append((edgeDist.get(a+b)[0]/30)*60*(tmp_ji[a+b]-1) if edgeDist.get(a+b,None) else (edgeDist.get(b+a)[0]/30)*60*(tmp_ji[a+b]-1))\n",
    "            d_f_t[key]=[(edgeDist.get(a+b)[0]/35)*60*(tmp_ji[a+b]-1) if edgeDist.get(a+b,None) else (edgeDist.get(b+a)[0]/35)*60*(tmp_ji[a+b]-1)]\n",
    "        if key[0]=='A':\n",
    "            #d_f_t[key].append((edgeDist.get(a+b)[0]/30)*60*(tmp_ji[a+b]-1) if edgeDist.get(a+b,None) else (edgeDist.get(b+a)[0]/30)*60*(tmp_ji[a+b]-1))\n",
    "            d_f_t[key]=[(edgeDist.get(a+b)[0]/45)*60*(tmp_ji[a+b]-1) if edgeDist.get(a+b,None) else (edgeDist.get(b+a)[0]/45)*60*(tmp_ji[a+b]-1)]\n",
    "            \n",
    "#d_f_t"
   ]
  },
  {
   "cell_type": "code",
   "execution_count": 122,
   "metadata": {
    "collapsed": false,
    "deletable": true,
    "editable": true
   },
   "outputs": [],
   "source": [
    "#test_stage1=stage1Consum(d_f_2,d_f_t)\n",
    "#test_stage1"
   ]
  },
  {
   "cell_type": "code",
   "execution_count": 123,
   "metadata": {
    "collapsed": true,
    "deletable": true,
    "editable": true
   },
   "outputs": [],
   "source": [
    "tmp_1=dict()\n",
    "for key,item in d_f.items():\n",
    "    if key[0]=='C':\n",
    "        tmp_1[key]=[0]\n",
    "        for i in range(len(item)-1):\n",
    "            a,b=item[i:i+2]\n",
    "            tmp_1[key].append((edgeDist.get(a+b)[0]/30)*60+tmp_1[key][i] if edgeDist.get(a+b,None) else (edgeDist.get(b+a)[0]/30)*60+tmp_1[key][i])\n",
    "    if key[0]=='B':\n",
    "        tmp_1[key]=[0]\n",
    "        for i in range(len(item)-1):\n",
    "            a,b=item[i:i+2]\n",
    "            tmp_1[key].append((edgeDist.get(a+b)[0]/35)*60+tmp_1[key][i] if edgeDist.get(a+b,None) else (edgeDist.get(b+a)[0]/35)*60+tmp_1[key][i])\n",
    "    if key[0]=='A':\n",
    "        tmp_1[key]=[0]\n",
    "        for i in range(len(item)-1):\n",
    "            a,b=item[i:i+2]\n",
    "            tmp_1[key].append((edgeDist.get(a+b)[0]/45)*60+tmp_1[key][i] if edgeDist.get(a+b,None) else (edgeDist.get(b+a)[0]/45)*60+tmp_1[key][i])"
   ]
  },
  {
   "cell_type": "code",
   "execution_count": 124,
   "metadata": {
    "collapsed": false,
    "deletable": true,
    "editable": true
   },
   "outputs": [],
   "source": [
    "#f_z\n",
    "#A车\n",
    "#再遍历\n",
    "A_F_Z={}\n",
    "for f in F:\n",
    "    A_F_Z[f]={}\n",
    "    for z in Z:\n",
    "        shorttemp=nx.shortest_path(G,source=f,target=z,weight=\"A车耗时\")\n",
    "        A_F_Z[f][z]=(shorttemp,len(shorttemp),pathDistance(shorttemp),pathTime(shorttemp,'A'))\n",
    "#B车\n",
    "#再遍历\n",
    "B_F_Z={}\n",
    "for f in F:\n",
    "    B_F_Z[f]={}\n",
    "    for z in Z:\n",
    "        shorttemp=nx.shortest_path(G,source=f,target=z,weight=\"B车耗时\")\n",
    "        B_F_Z[f][z]=(shorttemp,len(shorttemp),pathDistance(shorttemp),pathTime(shorttemp,'B'))\n",
    "#C车\n",
    "#再遍历\n",
    "C_F_Z={}\n",
    "for f in F:\n",
    "    C_F_Z[f]={}\n",
    "    for z in Z:\n",
    "        shorttemp=nx.shortest_path(G,source=f,target=z,weight=\"C车耗时\")\n",
    "        C_F_Z[f][z]=(shorttemp,len(shorttemp),pathDistance(shorttemp),pathTime(shorttemp,'C'))\n",
    "#z_f\n",
    "#A车\n",
    "#再遍历\n",
    "A_Z_F={}\n",
    "for z in Z:\n",
    "    A_Z_F[z]={}\n",
    "    for f in F:\n",
    "        shorttemp=nx.shortest_path(G,source=z,target=f,weight=\"A车耗时\")\n",
    "        A_Z_F[z][f]=(shorttemp,len(shorttemp),pathDistance(shorttemp),pathTime(shorttemp,'A'))\n",
    "#B车\n",
    "#再遍历\n",
    "B_Z_F={}\n",
    "for z in Z:\n",
    "    B_Z_F[z]={}\n",
    "    for f in F:\n",
    "        shorttemp=nx.shortest_path(G,source=z,target=f,weight=\"B车耗时\")\n",
    "        B_Z_F[z][f]=(shorttemp,len(shorttemp),pathDistance(shorttemp),pathTime(shorttemp,'B'))\n",
    "#C车\n",
    "#再遍历\n",
    "C_Z_F={}\n",
    "for z in Z:\n",
    "    C_Z_F[z]={}\n",
    "    for f in F:\n",
    "        shorttemp=nx.shortest_path(G,source=z,target=f,weight=\"C车耗时\")\n",
    "        C_Z_F[z][f]=(shorttemp,len(shorttemp),pathDistance(shorttemp),pathTime(shorttemp,'C'))"
   ]
  },
  {
   "cell_type": "code",
   "execution_count": 142,
   "metadata": {
    "collapsed": false,
    "deletable": true,
    "editable": true,
    "scrolled": true
   },
   "outputs": [],
   "source": [
    "# a=sorted([item for key,item in A_F_Z['F47'].items()], key=itemgetter(3), reverse=False)"
   ]
  },
  {
   "cell_type": "code",
   "execution_count": 125,
   "metadata": {
    "collapsed": false,
    "deletable": true,
    "editable": true
   },
   "outputs": [
    {
     "data": {
      "text/plain": [
       "24"
      ]
     },
     "execution_count": 125,
     "metadata": {},
     "output_type": "execute_result"
    }
   ],
   "source": [
    "len(f_z_3)"
   ]
  },
  {
   "cell_type": "code",
   "execution_count": 126,
   "metadata": {
    "collapsed": false,
    "deletable": true,
    "editable": true
   },
   "outputs": [],
   "source": [
    "jishu_z=dict()\n",
    "Z_node=[\"Z\"+str(i).zfill(2) for i in range(1,7)]\n",
    "for i in Z_node:\n",
    "    jishu_z[i]=0\n",
    "def cre_f_z(d_f,jishu,A_F_Z,B_F_Z,C_F_Z):\n",
    "    #f_z:{车号:path}\n",
    "    f_z=dict()\n",
    "    for key,item in d_f.items():\n",
    "        if key[0]=='A':\n",
    "            #A_F_Z[item[-1]]\n",
    "            tmp = sorted([item2 for key2,item2 in A_F_Z[item[-1]].items()], key=itemgetter(3), reverse=False)\n",
    "            tmp2 = [item3[0] for item3 in tmp]\n",
    "            for f_z_li in tmp2:   \n",
    "                if jishu_z[f_z_li[-1]]<4:\n",
    "                    f_z[key]=f_z_li\n",
    "                    jishu_z[f_z_li[-1]] += 1\n",
    "                    break\n",
    "        if key[0]=='B':\n",
    "            #A_F_Z[item[-1]]\n",
    "            tmp = sorted([item2 for key2,item2 in B_F_Z[item[-1]].items()], key=itemgetter(3), reverse=False)\n",
    "            tmp2 = [item3[0] for item3 in tmp]\n",
    "            for f_z_li in tmp2:   \n",
    "                if jishu_z[f_z_li[-1]]<4:\n",
    "                    f_z[key]=f_z_li\n",
    "                    jishu_z[f_z_li[-1]] += 1\n",
    "                    break\n",
    "        if key[0]=='C':\n",
    "            #A_F_Z[item[-1]]\n",
    "            tmp = sorted([item2 for key2,item2 in C_F_Z[item[-1]].items()], key=itemgetter(3), reverse=False)\n",
    "            tmp2 = [item3[0] for item3 in tmp]\n",
    "            for f_z_li in tmp2:   \n",
    "                if jishu_z[f_z_li[-1]]<4:\n",
    "                    f_z[key]=f_z_li\n",
    "                    jishu_z[f_z_li[-1]] += 1\n",
    "                    break\n",
    "    return f_z"
   ]
  },
  {
   "cell_type": "code",
   "execution_count": 127,
   "metadata": {
    "collapsed": false,
    "deletable": true,
    "editable": true
   },
   "outputs": [
    {
     "data": {
      "text/plain": [
       "'\\njishu=dict()\\nF_node=[\"F\"+str(i).zfill(2) for i in range(1,61)]\\nfor i in F_node:\\n    jishu[i]=0\\nfor key,item in d_f.items():\\n    jishu[item[-1]] += 1 \\n'"
      ]
     },
     "execution_count": 127,
     "metadata": {},
     "output_type": "execute_result"
    }
   ],
   "source": [
    "'''\n",
    "jishu=dict()\n",
    "F_node=[\"F\"+str(i).zfill(2) for i in range(1,61)]\n",
    "for i in F_node:\n",
    "    jishu[i]=0\n",
    "for key,item in d_f.items():\n",
    "    jishu[item[-1]] += 1 \n",
    "'''"
   ]
  },
  {
   "cell_type": "code",
   "execution_count": null,
   "metadata": {
    "collapsed": false,
    "deletable": true,
    "editable": true
   },
   "outputs": [],
   "source": [
    "'''\n",
    "#z_f:{车号:path}\n",
    "z_f=dict()\n",
    "for key,item in f_z.items():\n",
    "    if key[0]=='A':\n",
    "        #A_F_Z[item[-1]]\n",
    "        tmp = sorted([item2 for key2,item2 in A_Z_F[item[-1]].items()], key=itemgetter(3), reverse=False)\n",
    "        tmp2 = [item3[0] for item3 in tmp]\n",
    "        z_f[key]=tmp2[0]\n",
    "    if key[0]=='B':\n",
    "        #A_F_Z[item[-1]]\n",
    "        tmp = sorted([item2 for key2,item2 in B_Z_F[item[-1]].items()], key=itemgetter(3), reverse=False)\n",
    "        tmp2 = [item3[0] for item3 in tmp]\n",
    "        z_f[key]=tmp2[0]\n",
    "    if key[0]=='C':\n",
    "        #A_F_Z[item[-1]]\n",
    "        tmp = sorted([item2 for key2,item2 in C_Z_F[item[-1]].items()], key=itemgetter(3), reverse=False)\n",
    "        tmp2 = [item3[0] for item3 in tmp]\n",
    "        z_f[key]=tmp2[0]\n",
    "'''    "
   ]
  },
  {
   "cell_type": "code",
   "execution_count": 129,
   "metadata": {
    "collapsed": false,
    "deletable": true,
    "editable": true,
    "scrolled": true
   },
   "outputs": [],
   "source": [
    "def cre_z_f(f_z,jishu,A_Z_F,B_Z_F,C_Z_F):\n",
    "    z_f=dict()\n",
    "    for key,item in f_z.items():\n",
    "        if key[0]=='A':\n",
    "            #A_F_Z[item[-1]]\n",
    "            tmp = sorted([item2 for key2,item2 in A_Z_F[item[-1]].items()], key=itemgetter(3), reverse=False)\n",
    "            tmp2 = [item3[0] for item3 in tmp]\n",
    "            for tmpp in tmp2:\n",
    "                if jishu[tmpp[-1]]==0:\n",
    "                    z_f[key]=tmpp\n",
    "                    jishu[tmpp[-1]] += 1\n",
    "                    break\n",
    "        if key[0]=='B':\n",
    "            #A_F_Z[item[-1]]\n",
    "            tmp = sorted([item2 for key2,item2 in B_Z_F[item[-1]].items()], key=itemgetter(3), reverse=False)\n",
    "            tmp2 = [item3[0] for item3 in tmp]\n",
    "            for tmpp in tmp2:\n",
    "                if jishu[tmpp[-1]]==0:\n",
    "                    z_f[key]=tmpp\n",
    "                    jishu[tmpp[-1]] += 1\n",
    "                    break\n",
    "        if key[0]=='C':\n",
    "            #A_F_Z[item[-1]]\n",
    "            tmp = sorted([item2 for key2,item2 in C_Z_F[item[-1]].items()], key=itemgetter(3), reverse=False)\n",
    "            tmp2 = [item3[0] for item3 in tmp]\n",
    "            for tmpp in tmp2:\n",
    "                if jishu[tmpp[-1]]==0:\n",
    "                    z_f[key]=tmpp\n",
    "                    jishu[tmpp[-1]] += 1\n",
    "                    break\n",
    "    return z_f"
   ]
  },
  {
   "cell_type": "code",
   "execution_count": 109,
   "metadata": {
    "collapsed": true,
    "deletable": true,
    "editable": true
   },
   "outputs": [],
   "source": [
    "f_z_3=cre_f_z(d_f_2,jishu,A_F_Z,B_F_Z,C_F_Z)\n",
    "z_f_3=cre_z_f(f_z_3,jishu,A_Z_F,B_Z_F,C_Z_F)"
   ]
  },
  {
   "cell_type": "code",
   "execution_count": 145,
   "metadata": {
    "collapsed": false,
    "deletable": true,
    "editable": true
   },
   "outputs": [],
   "source": [
    "#f_z_2=cre_f_z(d_f_2,jishu,A_F_Z,B_F_Z,C_F_Z)\n",
    "#z_f_2=cre_z_f(f_z_2,jishu,A_Z_F,B_Z_F,C_Z_F)"
   ]
  },
  {
   "cell_type": "code",
   "execution_count": 130,
   "metadata": {
    "collapsed": true,
    "deletable": true,
    "editable": true
   },
   "outputs": [],
   "source": [
    "f_z=cre_f_z(d_f,jishu,A_F_Z,B_F_Z,C_F_Z)\n",
    "z_f=cre_z_f(f_z,jishu,A_Z_F,B_Z_F,C_Z_F)"
   ]
  },
  {
   "cell_type": "code",
   "execution_count": 143,
   "metadata": {
    "collapsed": false
   },
   "outputs": [],
   "source": [
    "#(cc,d_f,f_z,z_f)"
   ]
  },
  {
   "cell_type": "code",
   "execution_count": 111,
   "metadata": {
    "collapsed": false,
    "deletable": true,
    "editable": true
   },
   "outputs": [],
   "source": [
    "#targetTime,stage1,stage2=allConsum(d_f_t,d_f_2,f_z_2,z_f_2)"
   ]
  },
  {
   "cell_type": "code",
   "execution_count": 113,
   "metadata": {
    "collapsed": false,
    "deletable": true,
    "editable": true
   },
   "outputs": [],
   "source": [
    "targetTime_2,stage1_2,stage2_2=allConsum(d_f_t,d_f_2,f_z_3,z_f_3)"
   ]
  },
  {
   "cell_type": "code",
   "execution_count": 798,
   "metadata": {
    "collapsed": false,
    "deletable": true,
    "editable": true
   },
   "outputs": [],
   "source": [
    "dataset=dict()\n",
    "Car_ty=[it2 for it1 in [carA,carB,carC] for it2 in it1]\n",
    "for i in Car_ty:\n",
    "    dataset[i]=[]\n",
    "#dataset"
   ]
  },
  {
   "cell_type": "code",
   "execution_count": 799,
   "metadata": {
    "collapsed": false,
    "deletable": true,
    "editable": true
   },
   "outputs": [],
   "source": [
    "for key,item in d_f_2.items():\n",
    "    dataset[key].append(item)\n",
    "for key,item in f_z_3.items():\n",
    "    dataset[key].append(item)\n",
    "for key,item in z_f_3.items():\n",
    "    dataset[key].append(item)"
   ]
  },
  {
   "cell_type": "code",
   "execution_count": 801,
   "metadata": {
    "collapsed": true,
    "deletable": true,
    "editable": true
   },
   "outputs": [],
   "source": [
    "F=open('dataset.pkl','wb')\n",
    "import pickle\n",
    "pickle.dump(dataset,F)\n",
    "F.close()"
   ]
  },
  {
   "cell_type": "code",
   "execution_count": 765,
   "metadata": {
    "collapsed": true,
    "deletable": true,
    "editable": true
   },
   "outputs": [],
   "source": [
    "set_pickle('targetTime',targetTime)"
   ]
  },
  {
   "cell_type": "code",
   "execution_count": 132,
   "metadata": {
    "collapsed": false,
    "deletable": true,
    "editable": true,
    "scrolled": true
   },
   "outputs": [],
   "source": [
    "targetTime_1,stage1_1,stage2_1=allConsum(cc,d_f,f_z,z_f)"
   ]
  },
  {
   "cell_type": "markdown",
   "metadata": {},
   "source": [
    "# 生成 xls文件"
   ]
  },
  {
   "cell_type": "code",
   "execution_count": 827,
   "metadata": {
    "collapsed": true,
    "deletable": true,
    "editable": true
   },
   "outputs": [],
   "source": [
    "from collections import defaultdict"
   ]
  },
  {
   "cell_type": "code",
   "execution_count": 825,
   "metadata": {
    "collapsed": true,
    "deletable": true,
    "editable": true
   },
   "outputs": [],
   "source": [
    "def genResult(stage1,stage2):\n",
    "    res=defaultdict(list)\n",
    "    for k,v in cc.items():\n",
    "        t=v\n",
    "        vv=stage1[k]\n",
    "        res[k].append(vv['D-F时序']['位置'][0])\n",
    "        res[k].append(t)\n",
    "        for i,(a,b,c) in vv['D-F时序'].iterrows():\n",
    "            if i==0:\n",
    "                continue\n",
    "            if type(a) is str:\n",
    "                res[k].append(a)\n",
    "                res[k].append('%.1f'%t)\n",
    "                t+=c\n",
    "                res[k].append('%.1f'%t)\n",
    "            else:\n",
    "                t+=c\n",
    "        vv=stage2[k]\n",
    "        for i,(a,b,c) in vv['F-Z时序'].iterrows():\n",
    "            if i==0:\n",
    "                continue\n",
    "            if type(a) is str:\n",
    "                res[k].append(a)\n",
    "                res[k].append('%.1f'%t)\n",
    "                t+=c\n",
    "                res[k].append('%.1f'%t)\n",
    "            else:\n",
    "                t+=c\n",
    "                \n",
    "        for i,(a,b,c) in vv['Z-F时序'].iterrows():\n",
    "            if i==0:\n",
    "                continue\n",
    "            if type(a) is str:\n",
    "                res[k].append(a)\n",
    "                res[k].append('%.1f'%t)\n",
    "                t+=c\n",
    "                res[k].append('%.1f'%t)\n",
    "            else:\n",
    "                t+=c\n",
    "            \n",
    "    return res"
   ]
  },
  {
   "cell_type": "code",
   "execution_count": 828,
   "metadata": {
    "collapsed": false,
    "deletable": true,
    "editable": true
   },
   "outputs": [],
   "source": [
    "res=genResult(stage1,stage2)"
   ]
  },
  {
   "cell_type": "code",
   "execution_count": 829,
   "metadata": {
    "collapsed": true,
    "deletable": true,
    "editable": true
   },
   "outputs": [],
   "source": [
    "def genExcel(res):\n",
    "    height=max([len(v) for v in res.values()])\n",
    "    out={k:[''for i in range(height)] for k in res.keys()}\n",
    "    for k,v in res.items():\n",
    "        for i,d in enumerate(v):\n",
    "            out[k][i]=res[k][i]\n",
    "    return pd.DataFrame(out).T\n",
    "vsa=genExcel(res)"
   ]
  },
  {
   "cell_type": "code",
   "execution_count": 830,
   "metadata": {
    "collapsed": true,
    "deletable": true,
    "editable": true
   },
   "outputs": [],
   "source": [
    "vsa.to_excel('./结果2.xls')"
   ]
  },
  {
   "cell_type": "markdown",
   "metadata": {},
   "source": [
    "# 结果1与结果2总耗时比较"
   ]
  },
  {
   "cell_type": "code",
   "execution_count": 134,
   "metadata": {
    "collapsed": false
   },
   "outputs": [
    {
     "data": {
      "text/plain": [
       "array([ 4215.02693333])"
      ]
     },
     "execution_count": 134,
     "metadata": {},
     "output_type": "execute_result"
    }
   ],
   "source": [
    "targetTime_2-targetTime_1"
   ]
  },
  {
   "cell_type": "code",
   "execution_count": 149,
   "metadata": {
    "collapsed": false
   },
   "outputs": [
    {
     "data": {
      "text/plain": [
       "13817.781859310437"
      ]
     },
     "execution_count": 149,
     "metadata": {},
     "output_type": "execute_result"
    }
   ],
   "source": [
    "targetTime_1"
   ]
  },
  {
   "cell_type": "code",
   "execution_count": 148,
   "metadata": {
    "collapsed": false,
    "deletable": true,
    "editable": true
   },
   "outputs": [
    {
     "data": {
      "text/plain": [
       "array([ 18032.80879264])"
      ]
     },
     "execution_count": 148,
     "metadata": {},
     "output_type": "execute_result"
    }
   ],
   "source": [
    "targetTime_2"
   ]
  },
  {
   "cell_type": "code",
   "execution_count": 822,
   "metadata": {
    "collapsed": false,
    "deletable": true,
    "editable": true
   },
   "outputs": [
    {
     "data": {
      "text/html": [
       "<div>\n",
       "<table border=\"1\" class=\"dataframe\">\n",
       "  <thead>\n",
       "    <tr style=\"text-align: right;\">\n",
       "      <th></th>\n",
       "      <th>位置</th>\n",
       "      <th>类型</th>\n",
       "      <th>耗时</th>\n",
       "    </tr>\n",
       "  </thead>\n",
       "  <tbody>\n",
       "    <tr>\n",
       "      <th>0</th>\n",
       "      <td>D2</td>\n",
       "      <td>node</td>\n",
       "      <td>0.000000</td>\n",
       "    </tr>\n",
       "    <tr>\n",
       "      <th>1</th>\n",
       "      <td>(D2, J32)</td>\n",
       "      <td>edge</td>\n",
       "      <td>37.363083</td>\n",
       "    </tr>\n",
       "    <tr>\n",
       "      <th>2</th>\n",
       "      <td>J32</td>\n",
       "      <td>node</td>\n",
       "      <td>0.000000</td>\n",
       "    </tr>\n",
       "    <tr>\n",
       "      <th>3</th>\n",
       "      <td>(J32, J33)</td>\n",
       "      <td>edge</td>\n",
       "      <td>34.000000</td>\n",
       "    </tr>\n",
       "    <tr>\n",
       "      <th>4</th>\n",
       "      <td>J33</td>\n",
       "      <td>node</td>\n",
       "      <td>0.000000</td>\n",
       "    </tr>\n",
       "    <tr>\n",
       "      <th>5</th>\n",
       "      <td>(J33, F25)</td>\n",
       "      <td>edge</td>\n",
       "      <td>20.396078</td>\n",
       "    </tr>\n",
       "    <tr>\n",
       "      <th>6</th>\n",
       "      <td>F25</td>\n",
       "      <td>node</td>\n",
       "      <td>201.482016</td>\n",
       "    </tr>\n",
       "  </tbody>\n",
       "</table>\n",
       "</div>"
      ],
      "text/plain": [
       "           位置    类型          耗时\n",
       "0          D2  node    0.000000\n",
       "1   (D2, J32)  edge   37.363083\n",
       "2         J32  node    0.000000\n",
       "3  (J32, J33)  edge   34.000000\n",
       "4         J33  node    0.000000\n",
       "5  (J33, F25)  edge   20.396078\n",
       "6         F25  node  201.482016"
      ]
     },
     "execution_count": 822,
     "metadata": {},
     "output_type": "execute_result"
    }
   ],
   "source": [
    "stage1['C01']['D-F时序']"
   ]
  },
  {
   "cell_type": "code",
   "execution_count": 823,
   "metadata": {
    "collapsed": false,
    "deletable": true,
    "editable": true
   },
   "outputs": [
    {
     "data": {
      "text/html": [
       "<div>\n",
       "<table border=\"1\" class=\"dataframe\">\n",
       "  <thead>\n",
       "    <tr style=\"text-align: right;\">\n",
       "      <th></th>\n",
       "      <th>位置</th>\n",
       "      <th>类型</th>\n",
       "      <th>耗时</th>\n",
       "    </tr>\n",
       "  </thead>\n",
       "  <tbody>\n",
       "    <tr>\n",
       "      <th>0</th>\n",
       "      <td>F25</td>\n",
       "      <td>node</td>\n",
       "      <td>0.000000</td>\n",
       "    </tr>\n",
       "    <tr>\n",
       "      <th>1</th>\n",
       "      <td>(F25, J33)</td>\n",
       "      <td>edge</td>\n",
       "      <td>20.396078</td>\n",
       "    </tr>\n",
       "    <tr>\n",
       "      <th>2</th>\n",
       "      <td>J33</td>\n",
       "      <td>node</td>\n",
       "      <td>0.000000</td>\n",
       "    </tr>\n",
       "    <tr>\n",
       "      <th>3</th>\n",
       "      <td>(J33, J04)</td>\n",
       "      <td>edge</td>\n",
       "      <td>39.698866</td>\n",
       "    </tr>\n",
       "    <tr>\n",
       "      <th>4</th>\n",
       "      <td>J04</td>\n",
       "      <td>node</td>\n",
       "      <td>0.000000</td>\n",
       "    </tr>\n",
       "    <tr>\n",
       "      <th>5</th>\n",
       "      <td>(J04, J05)</td>\n",
       "      <td>edge</td>\n",
       "      <td>25.056736</td>\n",
       "    </tr>\n",
       "    <tr>\n",
       "      <th>6</th>\n",
       "      <td>J05</td>\n",
       "      <td>node</td>\n",
       "      <td>0.000000</td>\n",
       "    </tr>\n",
       "    <tr>\n",
       "      <th>7</th>\n",
       "      <td>(J05, J06)</td>\n",
       "      <td>edge</td>\n",
       "      <td>38.418745</td>\n",
       "    </tr>\n",
       "    <tr>\n",
       "      <th>8</th>\n",
       "      <td>J06</td>\n",
       "      <td>node</td>\n",
       "      <td>0.000000</td>\n",
       "    </tr>\n",
       "    <tr>\n",
       "      <th>9</th>\n",
       "      <td>(J06, J51)</td>\n",
       "      <td>edge</td>\n",
       "      <td>16.970563</td>\n",
       "    </tr>\n",
       "    <tr>\n",
       "      <th>10</th>\n",
       "      <td>J51</td>\n",
       "      <td>node</td>\n",
       "      <td>0.000000</td>\n",
       "    </tr>\n",
       "    <tr>\n",
       "      <th>11</th>\n",
       "      <td>(J51, Z02)</td>\n",
       "      <td>edge</td>\n",
       "      <td>23.323808</td>\n",
       "    </tr>\n",
       "    <tr>\n",
       "      <th>12</th>\n",
       "      <td>Z02</td>\n",
       "      <td>node</td>\n",
       "      <td>12.230900</td>\n",
       "    </tr>\n",
       "  </tbody>\n",
       "</table>\n",
       "</div>"
      ],
      "text/plain": [
       "            位置    类型         耗时\n",
       "0          F25  node   0.000000\n",
       "1   (F25, J33)  edge  20.396078\n",
       "2          J33  node   0.000000\n",
       "3   (J33, J04)  edge  39.698866\n",
       "4          J04  node   0.000000\n",
       "5   (J04, J05)  edge  25.056736\n",
       "6          J05  node   0.000000\n",
       "7   (J05, J06)  edge  38.418745\n",
       "8          J06  node   0.000000\n",
       "9   (J06, J51)  edge  16.970563\n",
       "10         J51  node   0.000000\n",
       "11  (J51, Z02)  edge  23.323808\n",
       "12         Z02  node  12.230900"
      ]
     },
     "execution_count": 823,
     "metadata": {},
     "output_type": "execute_result"
    }
   ],
   "source": [
    "stage2['C01']['F-Z时序']"
   ]
  },
  {
   "cell_type": "code",
   "execution_count": 824,
   "metadata": {
    "collapsed": false,
    "deletable": true,
    "editable": true
   },
   "outputs": [
    {
     "data": {
      "text/html": [
       "<div>\n",
       "<table border=\"1\" class=\"dataframe\">\n",
       "  <thead>\n",
       "    <tr style=\"text-align: right;\">\n",
       "      <th></th>\n",
       "      <th>位置</th>\n",
       "      <th>类型</th>\n",
       "      <th>耗时</th>\n",
       "    </tr>\n",
       "  </thead>\n",
       "  <tbody>\n",
       "    <tr>\n",
       "      <th>0</th>\n",
       "      <td>Z02</td>\n",
       "      <td>node</td>\n",
       "      <td>0.000000</td>\n",
       "    </tr>\n",
       "    <tr>\n",
       "      <th>1</th>\n",
       "      <td>(Z02, J51)</td>\n",
       "      <td>edge</td>\n",
       "      <td>23.323808</td>\n",
       "    </tr>\n",
       "    <tr>\n",
       "      <th>2</th>\n",
       "      <td>J51</td>\n",
       "      <td>node</td>\n",
       "      <td>0.000000</td>\n",
       "    </tr>\n",
       "    <tr>\n",
       "      <th>3</th>\n",
       "      <td>(J51, J06)</td>\n",
       "      <td>edge</td>\n",
       "      <td>16.970563</td>\n",
       "    </tr>\n",
       "    <tr>\n",
       "      <th>4</th>\n",
       "      <td>J06</td>\n",
       "      <td>node</td>\n",
       "      <td>0.000000</td>\n",
       "    </tr>\n",
       "    <tr>\n",
       "      <th>5</th>\n",
       "      <td>(J06, J07)</td>\n",
       "      <td>edge</td>\n",
       "      <td>32.310989</td>\n",
       "    </tr>\n",
       "    <tr>\n",
       "      <th>6</th>\n",
       "      <td>J07</td>\n",
       "      <td>node</td>\n",
       "      <td>0.000000</td>\n",
       "    </tr>\n",
       "    <tr>\n",
       "      <th>7</th>\n",
       "      <td>(J07, Z04)</td>\n",
       "      <td>edge</td>\n",
       "      <td>31.622777</td>\n",
       "    </tr>\n",
       "    <tr>\n",
       "      <th>8</th>\n",
       "      <td>Z04</td>\n",
       "      <td>node</td>\n",
       "      <td>0.000000</td>\n",
       "    </tr>\n",
       "    <tr>\n",
       "      <th>9</th>\n",
       "      <td>(Z04, J37)</td>\n",
       "      <td>edge</td>\n",
       "      <td>28.284271</td>\n",
       "    </tr>\n",
       "    <tr>\n",
       "      <th>10</th>\n",
       "      <td>J37</td>\n",
       "      <td>node</td>\n",
       "      <td>0.000000</td>\n",
       "    </tr>\n",
       "    <tr>\n",
       "      <th>11</th>\n",
       "      <td>(J37, F31)</td>\n",
       "      <td>edge</td>\n",
       "      <td>14.422205</td>\n",
       "    </tr>\n",
       "    <tr>\n",
       "      <th>12</th>\n",
       "      <td>F31</td>\n",
       "      <td>node</td>\n",
       "      <td>91.169200</td>\n",
       "    </tr>\n",
       "  </tbody>\n",
       "</table>\n",
       "</div>"
      ],
      "text/plain": [
       "            位置    类型         耗时\n",
       "0          Z02  node   0.000000\n",
       "1   (Z02, J51)  edge  23.323808\n",
       "2          J51  node   0.000000\n",
       "3   (J51, J06)  edge  16.970563\n",
       "4          J06  node   0.000000\n",
       "5   (J06, J07)  edge  32.310989\n",
       "6          J07  node   0.000000\n",
       "7   (J07, Z04)  edge  31.622777\n",
       "8          Z04  node   0.000000\n",
       "9   (Z04, J37)  edge  28.284271\n",
       "10         J37  node   0.000000\n",
       "11  (J37, F31)  edge  14.422205\n",
       "12         F31  node  91.169200"
      ]
     },
     "execution_count": 824,
     "metadata": {},
     "output_type": "execute_result"
    }
   ],
   "source": [
    "stage2['C01']['Z-F时序']"
   ]
  },
  {
   "cell_type": "code",
   "execution_count": 548,
   "metadata": {
    "collapsed": false,
    "deletable": true,
    "editable": true
   },
   "outputs": [],
   "source": [
    "t_f_z_2_z_f_2=dict()\n",
    "for key,item in f_z_2.items():\n",
    "    if key[0]=='C':\n",
    "        t_f_z_2_z_f_2[key]=[0]\n",
    "        for i in range(len(item)-1):\n",
    "            a,b=item[i:i+2]\n",
    "            t_f_z_2_z_f_2[key].append((edgeDist.get(a+b)[0]/30)*60+t_f_z_2_z_f_2[key][i] if edgeDist.get(a+b,None) else (edgeDist.get(b+a)[0]/30)*60+t_f_z_2_z_f_2[key][i])\n",
    "    if key[0]=='B':\n",
    "        t_f_z_2_z_f_2[key]=[0]\n",
    "        for i in range(len(item)-1):\n",
    "            a,b=item[i:i+2]\n",
    "            t_f_z_2_z_f_2[key].append((edgeDist.get(a+b)[0]/35)*60+t_f_z_2_z_f_2[key][i] if edgeDist.get(a+b,None) else (edgeDist.get(b+a)[0]/35)*60+t_f_z_2_z_f_2[key][i])\n",
    "    if key[0]=='A':\n",
    "        t_f_z_2_z_f_2[key]=[0]\n",
    "        for i in range(len(item)-1):\n",
    "            a,b=item[i:i+2]\n",
    "            t_f_z_2_z_f_2[key].append((edgeDist.get(a+b)[0]/45)*60+t_f_z_2_z_f_2[key][i] if edgeDist.get(a+b,None) else (edgeDist.get(b+a)[0]/45)*60+t_f_z_2_z_f_2[key][i])\n",
    "for key,item in z_f_2.items():\n",
    "    if key[0]=='C':\n",
    "        #t_f_z_2_z_f_2[key]=[0]\n",
    "        for i in range(len(item)-1):\n",
    "            a,b=item[i:i+2]\n",
    "            t_f_z_2_z_f_2[key].append((edgeDist.get(a+b)[0]/30)*60+t_f_z_2_z_f_2[key][-1] if edgeDist.get(a+b,None) else (edgeDist.get(b+a)[0]/30)*60+t_f_z_2_z_f_2[key][-1])\n",
    "    if key[0]=='B':\n",
    "        #t_f_z_2_z_f_2[key]=[0]\n",
    "        for i in range(len(item)-1):\n",
    "            a,b=item[i:i+2]\n",
    "            t_f_z_2_z_f_2[key].append((edgeDist.get(a+b)[0]/35)*60+t_f_z_2_z_f_2[key][-1] if edgeDist.get(a+b,None) else (edgeDist.get(b+a)[0]/35)*60+t_f_z_2_z_f_2[key][-1])\n",
    "    if key[0]=='A':\n",
    "        #t_f_z_2_z_f_2[key]=[0]\n",
    "        for i in range(len(item)-1):\n",
    "            a,b=item[i:i+2]\n",
    "            t_f_z_2_z_f_2[key].append((edgeDist.get(a+b)[0]/45)*60+t_f_z_2_z_f_2[key][-1] if edgeDist.get(a+b,None) else (edgeDist.get(b+a)[0]/45)*60+t_f_z_2_z_f_2[key][-1])"
   ]
  },
  {
   "cell_type": "code",
   "execution_count": 725,
   "metadata": {
    "collapsed": false,
    "deletable": true,
    "editable": true
   },
   "outputs": [],
   "source": [
    "#"
   ]
  },
  {
   "cell_type": "code",
   "execution_count": 728,
   "metadata": {
    "collapsed": false,
    "deletable": true,
    "editable": true
   },
   "outputs": [
    {
     "data": {
      "text/plain": [
       "(['D1', 'J11', 'J46', 'J44', 'J43', 'J19', 'J18'], 6, 129.40031185804548)"
      ]
     },
     "execution_count": 728,
     "metadata": {},
     "output_type": "execute_result"
    }
   ],
   "source": [
    "D_J['D1']['J18']"
   ]
  },
  {
   "cell_type": "code",
   "execution_count": 729,
   "metadata": {
    "collapsed": false,
    "deletable": true,
    "editable": true
   },
   "outputs": [
    {
     "data": {
      "text/plain": [
       "(['D1', 'Z03', 'J52', 'J07', 'Z04', 'J37', 'J15', 'J25'], 7, 150.4278328166322)"
      ]
     },
     "execution_count": 729,
     "metadata": {},
     "output_type": "execute_result"
    }
   ],
   "source": [
    "D_J['D1']['J25']"
   ]
  },
  {
   "cell_type": "code",
   "execution_count": 730,
   "metadata": {
    "collapsed": false,
    "deletable": true,
    "editable": true
   },
   "outputs": [
    {
     "data": {
      "text/plain": [
       "(['D1', 'Z03', 'J52', 'J07'], 3, 82.83779260202925)"
      ]
     },
     "execution_count": 730,
     "metadata": {},
     "output_type": "execute_result"
    }
   ],
   "source": [
    "D_J['D1']['J07']"
   ]
  },
  {
   "cell_type": "code",
   "execution_count": 731,
   "metadata": {
    "collapsed": false,
    "deletable": true,
    "editable": true
   },
   "outputs": [
    {
     "data": {
      "text/plain": [
       "(['D1', 'Z03', 'J57', 'J54', 'J55', 'J53'], 5, 103.96324748278526)"
      ]
     },
     "execution_count": 731,
     "metadata": {},
     "output_type": "execute_result"
    }
   ],
   "source": [
    "D_J['D1']['J53']"
   ]
  },
  {
   "cell_type": "code",
   "execution_count": 732,
   "metadata": {
    "collapsed": false,
    "deletable": true,
    "editable": true
   },
   "outputs": [
    {
     "data": {
      "text/plain": [
       "(['D1', 'Z03', 'J52', 'J07', 'J06', 'J05', 'J04', 'J03'],\n",
       " 7,\n",
       " 187.49933553943555)"
      ]
     },
     "execution_count": 732,
     "metadata": {},
     "output_type": "execute_result"
    }
   ],
   "source": [
    "D_J['D1']['J03']"
   ]
  },
  {
   "cell_type": "code",
   "execution_count": 734,
   "metadata": {
    "collapsed": false,
    "deletable": true,
    "editable": true
   },
   "outputs": [
    {
     "data": {
      "text/plain": [
       "(['D2', 'J12', 'J13', 'J14', 'J15', 'J16', 'J17', 'J18'],\n",
       " 7,\n",
       " 174.62596129135164)"
      ]
     },
     "execution_count": 734,
     "metadata": {},
     "output_type": "execute_result"
    }
   ],
   "source": [
    "D_J['D2']['J18']"
   ]
  },
  {
   "cell_type": "code",
   "execution_count": 735,
   "metadata": {
    "collapsed": false,
    "deletable": true,
    "editable": true
   },
   "outputs": [
    {
     "data": {
      "text/plain": [
       "(['D2', 'J12', 'J13', 'J14', 'J15', 'J25'], 5, 124.67746581242166)"
      ]
     },
     "execution_count": 735,
     "metadata": {},
     "output_type": "execute_result"
    }
   ],
   "source": [
    "D_J['D2']['J25']"
   ]
  },
  {
   "cell_type": "code",
   "execution_count": 736,
   "metadata": {
    "collapsed": false,
    "deletable": true,
    "editable": true
   },
   "outputs": [
    {
     "data": {
      "text/plain": [
       "(['D2', 'J03', 'J04', 'J05', 'J06', 'J07'], 5, 125.7565660471353)"
      ]
     },
     "execution_count": 736,
     "metadata": {},
     "output_type": "execute_result"
    }
   ],
   "source": [
    "D_J['D2']['J07']"
   ]
  },
  {
   "cell_type": "code",
   "execution_count": 737,
   "metadata": {
    "collapsed": false,
    "deletable": true,
    "editable": true
   },
   "outputs": [
    {
     "data": {
      "text/plain": [
       "(['D2', 'J03', 'J04', 'J50', 'J53'], 4, 86.60630642810922)"
      ]
     },
     "execution_count": 737,
     "metadata": {},
     "output_type": "execute_result"
    }
   ],
   "source": [
    "D_J['D2']['J53']"
   ]
  },
  {
   "cell_type": "code",
   "execution_count": 738,
   "metadata": {
    "collapsed": false,
    "deletable": true,
    "editable": true
   },
   "outputs": [
    {
     "data": {
      "text/plain": [
       "(['D2', 'J03'], 1, 21.095023109728988)"
      ]
     },
     "execution_count": 738,
     "metadata": {},
     "output_type": "execute_result"
    }
   ],
   "source": [
    "D_J['D2']['J03']"
   ]
  },
  {
   "cell_type": "code",
   "execution_count": 743,
   "metadata": {
    "collapsed": true,
    "deletable": true,
    "editable": true
   },
   "outputs": [],
   "source": [
    "j18=30\n",
    "j07=33\n",
    "j03=24\n",
    "j53=23\n",
    "j25=20\n",
    "bc03=0.10531649816661783\n",
    "bc07=0.16348247371594035\n",
    "bc18=0.06888039599703841\n",
    "bc25=0.1605168725931167\n",
    "bc53=0.1356498927810701"
   ]
  },
  {
   "cell_type": "code",
   "execution_count": 744,
   "metadata": {
    "collapsed": false,
    "deletable": true,
    "editable": true
   },
   "outputs": [],
   "source": [
    "def p(j,bc):\n",
    "    return j*math.log(1+bc)"
   ]
  },
  {
   "cell_type": "code",
   "execution_count": 746,
   "metadata": {
    "collapsed": false,
    "deletable": true,
    "editable": true
   },
   "outputs": [],
   "source": [
    "p03=p(j03,bc03)\n",
    "p07=p(j07,bc07)\n",
    "p18=p(j18,bc18)\n",
    "p25=p(j25,bc25)\n",
    "p53=p(j53,bc53)"
   ]
  },
  {
   "cell_type": "code",
   "execution_count": 749,
   "metadata": {
    "collapsed": false,
    "deletable": true,
    "editable": true
   },
   "outputs": [
    {
     "data": {
      "text/plain": [
       "(2.4031612233235675,\n",
       " 4.996782127627859,\n",
       " 1.9983522533074047,\n",
       " 2.9773097139743148,\n",
       " 2.9257168359367003)"
      ]
     },
     "execution_count": 749,
     "metadata": {},
     "output_type": "execute_result"
    }
   ],
   "source": [
    "p03,p07,p18,p25,p53"
   ]
  }
 ],
 "metadata": {
  "kernelspec": {
   "display_name": "Python 3",
   "language": "python",
   "name": "python3"
  },
  "language_info": {
   "codemirror_mode": {
    "name": "ipython",
    "version": 3
   },
   "file_extension": ".py",
   "mimetype": "text/x-python",
   "name": "python",
   "nbconvert_exporter": "python",
   "pygments_lexer": "ipython3",
   "version": "3.5.2"
  }
 },
 "nbformat": 4,
 "nbformat_minor": 2
}
