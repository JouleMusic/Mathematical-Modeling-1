{
 "cells": [
  {
   "cell_type": "code",
   "execution_count": 1,
   "metadata": {
    "collapsed": true,
    "deletable": true,
    "editable": true
   },
   "outputs": [],
   "source": [
    "%matplotlib inline\n",
    "import numpy as np\n",
    "import matplotlib.pyplot as plt\n",
    "import pandas as pd\n",
    "df=lambda x:pd.DataFrame(x)"
   ]
  },
  {
   "cell_type": "code",
   "execution_count": 2,
   "metadata": {
    "collapsed": true,
    "deletable": true,
    "editable": true
   },
   "outputs": [],
   "source": [
    "#键值对式序列化库\n",
    "PICKLE_PATH='../softfits.pick'\n",
    "import shelve\n",
    "def set_pickle(k='temp',v=''):\n",
    "    with shelve.open(PICKLE_PATH) as file:\n",
    "        file[k]=v\n",
    "\n",
    "def get_pickle(k):\n",
    "    if k is None:\n",
    "        return False\n",
    "    with shelve.open(PICKLE_PATH) as file:\n",
    "        try:\n",
    "            v=file[k]\n",
    "        except KeyError:\n",
    "            return None\n",
    "        else:\n",
    "            return v"
   ]
  },
  {
   "cell_type": "code",
   "execution_count": 3,
   "metadata": {
    "collapsed": true,
    "deletable": true,
    "editable": true
   },
   "outputs": [],
   "source": [
    "img=get_pickle('img1')"
   ]
  },
  {
   "cell_type": "code",
   "execution_count": 5,
   "metadata": {
    "collapsed": true,
    "deletable": true,
    "editable": true
   },
   "outputs": [],
   "source": [
    "#考虑数据集的大小，只取中心的300x300的数据\n",
    "aimg=img[150:450,150:450]"
   ]
  },
  {
   "cell_type": "code",
   "execution_count": 8,
   "metadata": {
    "collapsed": true,
    "deletable": true,
    "editable": true
   },
   "outputs": [],
   "source": [
    "#依次\n",
    "#地球=求地球位置半径(img)\n",
    "#轮廓=求等离子层轮廓(img)\n",
    "#太阳方向=求太阳方向(img,地球,轮廓)\n",
    "地球=[309, 319,  59]#圆心，半径\n",
    "太阳方向=-105"
   ]
  },
  {
   "cell_type": "code",
   "execution_count": 9,
   "metadata": {
    "collapsed": true,
    "deletable": true,
    "editable": true
   },
   "outputs": [],
   "source": [
    "import math\n",
    "center=(地球[0],地球[1])\n",
    "def cart2pol(x, y):\n",
    "    rho = np.sqrt((x-center[0])**2 + (y-center[1])**2)\n",
    "    phi = np.arctan2((y-center[1]), (x-center[0]))\n",
    "    return(rho, phi)"
   ]
  },
  {
   "cell_type": "code",
   "execution_count": 10,
   "metadata": {
    "collapsed": false,
    "deletable": true,
    "editable": true
   },
   "outputs": [
    {
     "data": {
      "text/plain": [
       "0.98319367626271825"
      ]
     },
     "execution_count": 10,
     "metadata": {},
     "output_type": "execute_result"
    }
   ],
   "source": [
    "#指数衰减表\n",
    "def dec(L):\n",
    "    RR=地球[2]\n",
    "    L=L-RR\n",
    "    return np.exp(-L/RR) if L>0 else 0\n",
    "dec(60)       "
   ]
  },
  {
   "cell_type": "code",
   "execution_count": 11,
   "metadata": {
    "collapsed": true,
    "deletable": true,
    "editable": true
   },
   "outputs": [],
   "source": [
    "targetModel=np.zeros((300,300,150))\n",
    "for (x,y,z),v in np.ndenumerate(targetModel):\n",
    "    p,s=cart2pol(x,y)\n",
    "    L=math.sqrt(p**2+z**2)\n",
    "    targetModel[x,y,z]=dec(L)  "
   ]
  },
  {
   "cell_type": "code",
   "execution_count": 19,
   "metadata": {
    "collapsed": true,
    "deletable": true,
    "editable": true
   },
   "outputs": [],
   "source": [
    "def 线性归一(content):\n",
    "    if content.max()==0:\n",
    "        return content\n",
    "    ss=content\n",
    "    ss-=ss.min()\n",
    "    ss=ss/ss.max()\n",
    "    return ss"
   ]
  },
  {
   "cell_type": "code",
   "execution_count": 18,
   "metadata": {
    "collapsed": true,
    "deletable": true,
    "editable": true
   },
   "outputs": [],
   "source": [
    "def 边界截断(seq,x,y):\n",
    "    ss=seq.copy()\n",
    "    p,s=cart2pol(x,y)\n",
    "    L=地球[2]*4\n",
    "    if L>p:\n",
    "        h=int(math.sqrt(L**2-p**2))\n",
    "        ss[h+1:]=0.0\n",
    "    else:\n",
    "        ss[:]=0.0\n",
    "    return ss"
   ]
  },
  {
   "cell_type": "code",
   "execution_count": 21,
   "metadata": {
    "collapsed": true,
    "deletable": true,
    "editable": true
   },
   "outputs": [],
   "source": [
    "ts=targetModel.shape\n",
    "rs=np.array((ts[0],ts[1]))\n",
    "Model=np.zeros((300,300,150))\n",
    "cc=(((x,y),边界截断(targetModel[x,y,:],x,y)) for x,y in np.ndindex(ts[0],ts[1]))\n",
    "cc=(((x,y),线性归一(v)) for (x,y),v in cc)\n",
    "for (x,y),v in cc:\n",
    "    Model[x,y,:]=v*aimg[x,y]\n"
   ]
  },
  {
   "cell_type": "code",
   "execution_count": 24,
   "metadata": {
    "collapsed": false,
    "deletable": true,
    "editable": true,
    "scrolled": true
   },
   "outputs": [
    {
     "data": {
      "text/plain": [
       "array([ 73.69660187,  73.69349633,  73.68418072,  73.66865809,\n",
       "        73.64693351,  73.61901409,  73.58490893,  73.54462917,\n",
       "        73.49818796,  73.44560041,  73.38688366,  73.32205679,\n",
       "        73.25114087,  73.17415888,  73.09113577,  73.00209838,\n",
       "        72.90707545,  72.8060976 ,  72.69919729,  72.58640883,\n",
       "        72.46776833,  72.34331369,  72.21308457,  72.07712235,\n",
       "        71.93547012,  71.78817266,  71.63527638,  71.47682932,\n",
       "        71.31288109,  71.14348286,  70.96868732,  70.78854864,\n",
       "        70.60312244,  70.41246575,  70.21663699,  70.0156959 ,\n",
       "        69.80970355,  69.59872225,  69.38281555,  69.16204818,\n",
       "        68.93648602,  68.70619605,  68.47124633,  68.23170592,\n",
       "        67.9876449 ,  67.73913425,  67.4862459 ,  67.22905259,\n",
       "        66.96762791,  66.70204621,  66.43238259,  66.15871281,\n",
       "        65.88111331,  65.59966112,  65.31443384,  65.02550958,\n",
       "        64.73296696,  64.43688501,  64.13734318,  63.83442125,\n",
       "        63.52819935,  63.21875786,  62.9061774 ,  62.59053881,\n",
       "        62.27192306,  61.95041125,  61.62608455,  61.29902418,\n",
       "        60.96931138,  60.63702732,  60.30225314,  59.96506985,\n",
       "        59.62555834,  59.2837993 ,  58.93987325,  58.59386044,\n",
       "        58.24584086,  57.89589418,  57.54409976,  57.19053657,\n",
       "        56.83528319,  56.47841779,  56.12001806,  55.76016123,\n",
       "        55.39892401,  55.0363826 ,  54.6726126 ,  54.30768908,\n",
       "        53.94168645,  53.57467853,  53.20673846,  52.83793874,\n",
       "        52.46835115,  52.09804676,  51.72709592,  51.35556822,\n",
       "        50.9835325 ,  50.61105678,  50.23820833,  49.86505356,\n",
       "        49.49165807,  49.11808663,  48.74440314,  48.37067063,\n",
       "        47.99695126,  47.6233063 ,  47.24979612,  46.87648018,\n",
       "        46.50341702,  46.13066427,  45.75827861,  45.3863158 ,\n",
       "        45.01483065,  44.64387702,  44.27350781,  43.90377498,\n",
       "        43.53472951,  43.16642144,  42.79889982,  42.43221275,\n",
       "        42.06640736,  41.70152982,  41.33762531,  40.97473807,\n",
       "         0.        ,   0.        ,   0.        ,   0.        ,\n",
       "         0.        ,   0.        ,   0.        ,   0.        ,\n",
       "         0.        ,   0.        ,   0.        ,   0.        ,\n",
       "         0.        ,   0.        ,   0.        ,   0.        ,\n",
       "         0.        ,   0.        ,   0.        ,   0.        ,\n",
       "         0.        ,   0.        ,   0.        ,   0.        ,\n",
       "         0.        ,   0.        ])"
      ]
     },
     "execution_count": 24,
     "metadata": {},
     "output_type": "execute_result"
    }
   ],
   "source": [
    "Model[200,150,:]"
   ]
  }
 ],
 "metadata": {
  "kernelspec": {
   "display_name": "Python 3",
   "language": "python",
   "name": "python3"
  },
  "language_info": {
   "codemirror_mode": {
    "name": "ipython",
    "version": 3
   },
   "file_extension": ".py",
   "mimetype": "text/x-python",
   "name": "python",
   "nbconvert_exporter": "python",
   "pygments_lexer": "ipython3",
   "version": "3.5.2"
  }
 },
 "nbformat": 4,
 "nbformat_minor": 2
}
